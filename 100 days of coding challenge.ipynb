{
 "cells": [
  {
   "cell_type": "code",
   "execution_count": 1,
   "metadata": {},
   "outputs": [],
   "source": [
    "# 100 days of code challenge"
   ]
  },
  {
   "cell_type": "code",
   "execution_count": 2,
   "metadata": {},
   "outputs": [
    {
     "name": "stdout",
     "output_type": "stream",
     "text": [
      "The sum of 12 and 13 is 25\n"
     ]
    }
   ],
   "source": [
    "#1 Adding two numbers\n",
    "num1 = 12\n",
    "num2 = 13\n",
    "sum = num1 + num2\n",
    "print('The sum of {0} and {1} is {2}'.format(num1,num2,sum))"
   ]
  },
  {
   "cell_type": "code",
   "execution_count": 3,
   "metadata": {},
   "outputs": [
    {
     "name": "stdout",
     "output_type": "stream",
     "text": [
      "Enter first number: 25\n",
      "Enter second number: 15\n",
      "The sum of 25 and 15 is 40.0\n"
     ]
    }
   ],
   "source": [
    "num1 = input('Enter first number: ')\n",
    "num2 = input('Enter second number: ')\n",
    "sum = float(num1) + float(num2)\n",
    "print(f'The sum of {num1} and {num2} is {sum}')"
   ]
  },
  {
   "cell_type": "code",
   "execution_count": 4,
   "metadata": {},
   "outputs": [],
   "source": [
    "#2 Find the maximum of 2 numbers"
   ]
  },
  {
   "cell_type": "code",
   "execution_count": 5,
   "metadata": {},
   "outputs": [
    {
     "name": "stdout",
     "output_type": "stream",
     "text": [
      "-20 is the maximum\n"
     ]
    }
   ],
   "source": [
    "num1 = -20\n",
    "num2 = -30\n",
    "if num1 > num2:\n",
    "    print('{} is the maximum'.format(num1))\n",
    "else:\n",
    "    print(f'{num2} is the maximum')"
   ]
  },
  {
   "cell_type": "code",
   "execution_count": 6,
   "metadata": {},
   "outputs": [
    {
     "name": "stdout",
     "output_type": "stream",
     "text": [
      "60\n"
     ]
    }
   ],
   "source": [
    "def maximum(a,b):\n",
    "    if a>b:\n",
    "        return a\n",
    "    else:\n",
    "        return b\n",
    "print(maximum(30,60))"
   ]
  },
  {
   "cell_type": "code",
   "execution_count": 7,
   "metadata": {},
   "outputs": [
    {
     "name": "stdout",
     "output_type": "stream",
     "text": [
      "50\n"
     ]
    }
   ],
   "source": [
    "a = 50\n",
    "b=-90\n",
    "maximum = max(a,b)\n",
    "print(maximum)"
   ]
  },
  {
   "cell_type": "code",
   "execution_count": 8,
   "metadata": {},
   "outputs": [],
   "source": [
    "#3 Find the factorial of a given number.\n",
    "\n",
    "def factorial(n):\n",
    "    if n<0 and n ==0 and n==1:\n",
    "        return 1\n",
    "    else:\n",
    "        fact=1\n",
    "        while(n>1):\n",
    "            fact *= n\n",
    "            n-=1\n",
    "        return fact"
   ]
  },
  {
   "cell_type": "code",
   "execution_count": 9,
   "metadata": {},
   "outputs": [
    {
     "data": {
      "text/plain": [
       "120"
      ]
     },
     "execution_count": 9,
     "metadata": {},
     "output_type": "execute_result"
    }
   ],
   "source": [
    "factorial(5)"
   ]
  },
  {
   "cell_type": "code",
   "execution_count": 10,
   "metadata": {},
   "outputs": [
    {
     "name": "stdout",
     "output_type": "stream",
     "text": [
      "Factorial of 5 is 120\n"
     ]
    }
   ],
   "source": [
    "def factorial(n):\n",
    "    return 1 if (n<=1) else n*factorial(n-1)\n",
    "num = 5\n",
    "print('Factorial of',num,'is',factorial(num))"
   ]
  },
  {
   "cell_type": "code",
   "execution_count": 11,
   "metadata": {},
   "outputs": [
    {
     "data": {
      "text/plain": [
       "720"
      ]
     },
     "execution_count": 11,
     "metadata": {},
     "output_type": "execute_result"
    }
   ],
   "source": [
    "import math\n",
    "def factorial(n):\n",
    "    return math.factorial(n)\n",
    "factorial(6)"
   ]
  },
  {
   "cell_type": "code",
   "execution_count": 12,
   "metadata": {},
   "outputs": [],
   "source": [
    "import math\n",
    "def factorial(n):\n",
    "    return math.factorial(n)"
   ]
  },
  {
   "cell_type": "code",
   "execution_count": 13,
   "metadata": {},
   "outputs": [
    {
     "data": {
      "text/plain": [
       "720"
      ]
     },
     "execution_count": 13,
     "metadata": {},
     "output_type": "execute_result"
    }
   ],
   "source": [
    "factorial(6)"
   ]
  },
  {
   "cell_type": "code",
   "execution_count": 14,
   "metadata": {},
   "outputs": [
    {
     "name": "stdout",
     "output_type": "stream",
     "text": [
      "Area of 78.5500\n"
     ]
    }
   ],
   "source": [
    "#4 Find the area of a circle\n",
    "# Area of a circle = pi *radius *radius where pi = 3.142\n",
    "\n",
    "def area(r):\n",
    "    return 3.142 * r**2\n",
    "print('Area of %.4f' %area(5))"
   ]
  },
  {
   "cell_type": "code",
   "execution_count": 15,
   "metadata": {},
   "outputs": [
    {
     "name": "stdout",
     "output_type": "stream",
     "text": [
      "Enter a number: 1234\n",
      "The reversed number is 4321\n"
     ]
    }
   ],
   "source": [
    "#5 Reverse the given number.\n",
    "num = int(input('Enter a number: '))\n",
    "testnum = 0\n",
    "while (num>0):\n",
    "    remainder = num % 10\n",
    "    testnum = (testnum*10) + remainder\n",
    "    num = num//10\n",
    "print(f\"The reversed number is {testnum}\")"
   ]
  },
  {
   "cell_type": "code",
   "execution_count": 16,
   "metadata": {},
   "outputs": [
    {
     "name": "stdout",
     "output_type": "stream",
     "text": [
      "Even numbers in list:  [2, 4, 6, 8]\n"
     ]
    }
   ],
   "source": [
    "#6 Print even numbers in a list\n",
    "\n",
    "my_list  = [1,2,3,4,5,6,7,8]\n",
    "even = [n for n in my_list if n%2==0]\n",
    "print('Even numbers in list: ',even)"
   ]
  },
  {
   "cell_type": "code",
   "execution_count": 17,
   "metadata": {},
   "outputs": [
    {
     "name": "stdout",
     "output_type": "stream",
     "text": [
      "Even no in list:  [2, 4, 6, 8]\n"
     ]
    }
   ],
   "source": [
    "my_list  = [1,2,3,4,5,6,7,8]\n",
    "even_list = list(filter(lambda x: x%2==0, my_list))\n",
    "print('Even no in list: ', even_list)"
   ]
  },
  {
   "cell_type": "code",
   "execution_count": 18,
   "metadata": {},
   "outputs": [
    {
     "name": "stdout",
     "output_type": "stream",
     "text": [
      "10301 is a palindrome.\n"
     ]
    }
   ],
   "source": [
    "#7 Check whether a number is Palindrome or not.\n",
    "# A palindrome is a word or a string which remains the same when reversed.\n",
    "def palindrome(num):\n",
    "    mynum = num\n",
    "    tempnum = 0\n",
    "    while num >0:\n",
    "        remainder = num %10\n",
    "        tempnum = (tempnum*10) +remainder\n",
    "        num = num//10\n",
    "    if tempnum == mynum:\n",
    "        print(mynum,'is a palindrome.')\n",
    "    else:\n",
    "        print(mynum,'is not a palindrome.')\n",
    "palindrome(10301)"
   ]
  },
  {
   "cell_type": "code",
   "execution_count": 19,
   "metadata": {},
   "outputs": [
    {
     "name": "stdout",
     "output_type": "stream",
     "text": [
      "Enter a word: racecar\n",
      "racecar is a palindrome\n"
     ]
    }
   ],
   "source": [
    "word = input('Enter a word: ')\n",
    "if word == word[::-1]:\n",
    "    print(word,'is a palindrome')\n",
    "else:\n",
    "    print(word,'is not a palindrome')"
   ]
  },
  {
   "cell_type": "code",
   "execution_count": 20,
   "metadata": {},
   "outputs": [
    {
     "name": "stdout",
     "output_type": "stream",
     "text": [
      "The largest number is  35\n"
     ]
    }
   ],
   "source": [
    "#8 Find largest element in an array\n",
    "\n",
    "def largest(arr):\n",
    "    n=len(arr)\n",
    "    max = arr[0]\n",
    "    for i in range(1,n):\n",
    "        if arr[i]>max:\n",
    "            max = arr[i]\n",
    "    return max\n",
    "\n",
    "arr = [10,20,30,25,35]\n",
    "print('The largest number is ',largest(arr))"
   ]
  },
  {
   "cell_type": "code",
   "execution_count": 21,
   "metadata": {},
   "outputs": [
    {
     "name": "stdout",
     "output_type": "stream",
     "text": [
      "35\n"
     ]
    }
   ],
   "source": [
    "def largest(arr):\n",
    "    return max(arr)\n",
    "print(largest(arr))"
   ]
  },
  {
   "cell_type": "code",
   "execution_count": 22,
   "metadata": {},
   "outputs": [
    {
     "name": "stdout",
     "output_type": "stream",
     "text": [
      "Enter a number: 3\n",
      "3 is a prime number.\n"
     ]
    }
   ],
   "source": [
    "#9 Check if a number is Prime or not.\n",
    "\n",
    "num = int(input('Enter a number: '))\n",
    "if num >1:\n",
    "    for i in range(2, int(num/2)+1):\n",
    "        if num%i == 0:\n",
    "            print(num, 'is not a prime number.')\n",
    "            break\n",
    "    else:\n",
    "        print(num, 'is a prime number.')\n",
    "else:\n",
    "    print(num, 'is not a prime number.')"
   ]
  },
  {
   "cell_type": "code",
   "execution_count": 23,
   "metadata": {},
   "outputs": [
    {
     "name": "stdout",
     "output_type": "stream",
     "text": [
      "01010101\n",
      "10101010\n",
      "01010101\n",
      "10101010\n",
      "01010101\n",
      "10101010\n",
      "01010101\n",
      "10101010\n"
     ]
    }
   ],
   "source": [
    "#10 Create a chessboard with black as '1' and white as '0'.\n",
    "\n",
    "for i in range(8):\n",
    "    if i%2==0:\n",
    "        print(4*'01')\n",
    "    else:\n",
    "        print(4*'10')"
   ]
  },
  {
   "cell_type": "code",
   "execution_count": 24,
   "metadata": {},
   "outputs": [
    {
     "name": "stdout",
     "output_type": "stream",
     "text": [
      "The ASCII value of a is 97\n"
     ]
    }
   ],
   "source": [
    "#11 ASCII value of a character.\n",
    "\n",
    "c = 'a'\n",
    "print('The ASCII value of ' + c + ' is', ord(c))"
   ]
  },
  {
   "cell_type": "code",
   "execution_count": 25,
   "metadata": {},
   "outputs": [
    {
     "name": "stdout",
     "output_type": "stream",
     "text": [
      "7 is not a perfect number.\n",
      "28 is a perfect number.\n"
     ]
    }
   ],
   "source": [
    "#12 A Perfect number is a positive integer that\n",
    "#  is equal to the sum of its positive divisors,\n",
    "#  excluding the number itself.\n",
    "#  eg: 6=1+2+3, 28=1+2+4+7+14 \n",
    "\n",
    "def perfect(N):\n",
    "    j = 0\n",
    "    for i in range(1,N):\n",
    "        if (N % i)==0:\n",
    "            j = j + i\n",
    "    if (N == j):\n",
    "        print(N,'is a perfect number.')\n",
    "    else:\n",
    "        print(N,'is not a perfect number.')\n",
    "\n",
    "perfect(7)\n",
    "perfect(28)"
   ]
  },
  {
   "cell_type": "code",
   "execution_count": 26,
   "metadata": {},
   "outputs": [
    {
     "name": "stdout",
     "output_type": "stream",
     "text": [
      "Enter your name: Jack\n",
      "Enter your age: 20\n",
      "\n",
      "Today's date is 2021-08-06\n",
      "Current year is 2021\n",
      "\n",
      "20-year old Jack will celebrate 100 years in 2101.\n"
     ]
    }
   ],
   "source": [
    "#13 what will be the year at your 100th birthday?\n",
    "\n",
    "from datetime import date\n",
    "\n",
    "name = input(\"Enter your name: \")\n",
    "age = int(input(\"Enter your age: \"))\n",
    "today = date.today()\n",
    "today_year = today.year\n",
    "print(\"\\nToday's date is\", today)\n",
    "print(\"Current year is\", today_year)\n",
    "remaining_age = 100 - age\n",
    "hundred_year = remaining_age + today_year\n",
    "print(f'\\n{age}-year old {name.capitalize()} will celebrate 100 years in {hundred_year}.')"
   ]
  },
  {
   "cell_type": "code",
   "execution_count": 27,
   "metadata": {},
   "outputs": [
    {
     "data": {
      "text/plain": [
       "['Lnkedin', 'is', 'Great']"
      ]
     },
     "execution_count": 27,
     "metadata": {},
     "output_type": "execute_result"
    }
   ],
   "source": [
    "#14 Split and Join a string.\n",
    "\n",
    "string1 = 'Lnkedin is Great'\n",
    "string1.split()"
   ]
  },
  {
   "cell_type": "code",
   "execution_count": 28,
   "metadata": {},
   "outputs": [
    {
     "data": {
      "text/plain": [
       "'All-is-well'"
      ]
     },
     "execution_count": 28,
     "metadata": {},
     "output_type": "execute_result"
    }
   ],
   "source": [
    "string2 = ['All', 'is', 'well']\n",
    "'-'.join(string2)"
   ]
  },
  {
   "cell_type": "code",
   "execution_count": 29,
   "metadata": {},
   "outputs": [
    {
     "name": "stdout",
     "output_type": "stream",
     "text": [
      "Enter any number for dimension: 3\n",
      "The dimension is 3\n",
      "\n",
      "The created matrix is [[1, 2, 3], [4, 5, 6], [7, 8, 9]]\n"
     ]
    }
   ],
   "source": [
    "#15 Matrix creation of n*n\n",
    "\n",
    "N = int(input('Enter any number for dimension: '))\n",
    "print('The dimension is '+ str(N))\n",
    "\n",
    "matrix = [list(range(1 + N * i, 1 + N * (i + 1))) for i in range(N)]\n",
    "print('\\nThe created matrix is ' + str(matrix))"
   ]
  },
  {
   "cell_type": "code",
   "execution_count": 30,
   "metadata": {},
   "outputs": [
    {
     "name": "stdout",
     "output_type": "stream",
     "text": [
      "Enter any number for dimension: 3\n",
      "Enter the start value: 11\n",
      "\n",
      "The created matrix is [[11, 12, 13], [14, 15, 16], [17, 18, 19]]\n"
     ]
    }
   ],
   "source": [
    "# To create n*n matrix from a given number.\n",
    "# using itertools and next()\n",
    "\n",
    "import itertools\n",
    "\n",
    "N = int(input('Enter any number for dimension: '))\n",
    "start = int(input('Enter the start value: '))\n",
    "\n",
    "temp = itertools.count(start) \n",
    "\n",
    "matrix = [[next(temp) for i in range(N)] for i in range(N)]\n",
    "\n",
    "print(\"\\nThe created matrix is \" + str(matrix))"
   ]
  },
  {
   "cell_type": "code",
   "execution_count": 31,
   "metadata": {},
   "outputs": [
    {
     "data": {
      "text/plain": [
       "[6, 5, 4, 3, 2, 1]"
      ]
     },
     "execution_count": 31,
     "metadata": {},
     "output_type": "execute_result"
    }
   ],
   "source": [
    "#16 Reversing a List\n",
    "\n",
    "list1 = [1,2,3,4,5,6]\n",
    "list1[::-1]"
   ]
  },
  {
   "cell_type": "code",
   "execution_count": 32,
   "metadata": {
    "scrolled": true
   },
   "outputs": [
    {
     "name": "stdout",
     "output_type": "stream",
     "text": [
      "[6, 5, 4, 3, 2, 1]\n",
      "[1, 2, 3, 4, 5, 6]\n"
     ]
    }
   ],
   "source": [
    "# reversed() - doesn't overwrite original list.\n",
    "def reverse(lst):\n",
    "    return [i for i in reversed(lst)]\n",
    "\n",
    "lst = [1,2,3,4,5,6]\n",
    "print(reverse(lst))\n",
    "print(lst)"
   ]
  },
  {
   "cell_type": "code",
   "execution_count": 33,
   "metadata": {},
   "outputs": [
    {
     "name": "stdout",
     "output_type": "stream",
     "text": [
      "[50, 40, 30, 20, 10]\n",
      "[50, 40, 30, 20, 10]\n"
     ]
    }
   ],
   "source": [
    "# reverse() - overwrites the original list.\n",
    "\n",
    "def Reverse(lst):\n",
    "    lst.reverse()\n",
    "    return lst\n",
    "lst = [10,20,30,40,50]\n",
    "print(Reverse(lst))\n",
    "print(lst)"
   ]
  },
  {
   "cell_type": "code",
   "execution_count": 34,
   "metadata": {},
   "outputs": [
    {
     "name": "stdout",
     "output_type": "stream",
     "text": [
      "None\n",
      "{'a': 1, 'b': 2}\n",
      "{'c': 3, 'd': 4, 'a': 1, 'b': 2}\n"
     ]
    }
   ],
   "source": [
    "#17 Merging two dictonaries.\n",
    "\n",
    "def merge(dict1,dict2):\n",
    "    return(dict2.update(dict1))\n",
    "\n",
    "dict1 = {'a':1, 'b':2}\n",
    "dict2 = {'c':3, 'd':4}\n",
    "print(merge(dict1,dict2))\n",
    "print(dict1)\n",
    "print(dict2)"
   ]
  },
  {
   "cell_type": "code",
   "execution_count": 35,
   "metadata": {},
   "outputs": [
    {
     "name": "stdout",
     "output_type": "stream",
     "text": [
      "{'a': 1, 'b': 2, 'c': 3, 'd': 4}\n",
      "{'a': 1, 'b': 2}\n",
      "{'c': 3, 'd': 4}\n"
     ]
    }
   ],
   "source": [
    "def merge(dict1,dict2):\n",
    "    result = {**dict1, **dict2}\n",
    "    return(result)\n",
    "\n",
    "dict1 = {'a':1, 'b':2}\n",
    "dict2 = {'c':3, 'd':4}\n",
    "print(merge(dict1,dict2))\n",
    "print(dict1)\n",
    "print(dict2)"
   ]
  },
  {
   "cell_type": "code",
   "execution_count": 36,
   "metadata": {},
   "outputs": [
    {
     "name": "stdout",
     "output_type": "stream",
     "text": [
      "{'akash': 10, 'gaurav': 12, 'anand': 14, 'suraj': 20, 'akhil': 25, 'ashish': 30}\n"
     ]
    }
   ],
   "source": [
    "#18 Convert a list of Tuples into Dictionary.\n",
    "\n",
    "input1 = [(\"akash\", 10), (\"gaurav\", 12), (\"anand\", 14), \n",
    "         (\"suraj\", 20), (\"akhil\", 25), (\"ashish\", 30)]\n",
    "print(dict(input1))"
   ]
  },
  {
   "cell_type": "code",
   "execution_count": 37,
   "metadata": {},
   "outputs": [
    {
     "name": "stdout",
     "output_type": "stream",
     "text": [
      "{'virat': [24], 'akash': [10], 'gaurav': [12], 'anand': [14], 'suraj': [20], 'akhil': [25], 'ashish': [30]}\n"
     ]
    }
   ],
   "source": [
    "def Convert(tup, di):\n",
    "    for a,b in tup:\n",
    "        di.setdefault(a,[]).append(b)\n",
    "    return di\n",
    "\n",
    "tups = [(\"akash\", 10), (\"gaurav\", 12), (\"anand\", 14),\n",
    "    (\"suraj\", 20), (\"akhil\", 25), (\"ashish\", 30)]\n",
    "\n",
    "dictionary = {'virat': [24]}\n",
    "print (Convert(tups, dictionary))"
   ]
  },
  {
   "cell_type": "code",
   "execution_count": 38,
   "metadata": {},
   "outputs": [
    {
     "name": "stdout",
     "output_type": "stream",
     "text": [
      "{'akash': ['Male', 10], 'gaurav': ['Male', 12], 'anand': ['Male', 14], 'suraj': ['Male', 20], 'akhil': ['Male', 25], 'ashish': ['Male', 30]}\n"
     ]
    }
   ],
   "source": [
    "tups = [(\"akash\", 10), (\"gaurav\", 12), (\"anand\", 14),\n",
    "    (\"suraj\", 20), (\"akhil\", 25), (\"ashish\", 30)]\n",
    "\n",
    "dict1 = dict()\n",
    "for a,b in tups:\n",
    "    dict1.setdefault(a, ['Male']).append(b)\n",
    "print(dict1)"
   ]
  },
  {
   "cell_type": "code",
   "execution_count": 39,
   "metadata": {},
   "outputs": [
    {
     "name": "stdout",
     "output_type": "stream",
     "text": [
      "Sum : 600\n"
     ]
    }
   ],
   "source": [
    "#19 Sum of all values in a dictionary.\n",
    "\n",
    "def sum(dic):    \n",
    "     sum = 0\n",
    "     for i in dic:\n",
    "           sum = sum + dic[i]  #or dict[i]   \n",
    "     return sum\n",
    "\n",
    "dict1 = {'a': 100, 'b':200, 'c':300}\n",
    "print(\"Sum :\", sum(dict1))"
   ]
  },
  {
   "cell_type": "code",
   "execution_count": 40,
   "metadata": {},
   "outputs": [
    {
     "name": "stdout",
     "output_type": "stream",
     "text": [
      "Sum : 600\n"
     ]
    }
   ],
   "source": [
    "def sum(d):\n",
    "    sum = 0\n",
    "    for i in d.values():\n",
    "        sum = sum + i\n",
    "    return sum\n",
    "\n",
    "dict1 = {'a': 100, 'b':200, 'c':300}\n",
    "print(\"Sum :\", sum(dict1))"
   ]
  },
  {
   "cell_type": "code",
   "execution_count": 41,
   "metadata": {},
   "outputs": [
    {
     "name": "stdout",
     "output_type": "stream",
     "text": [
      "Original List:  [2, 'b', {'apple': 300}, ('orange', 40), 'mango']\n",
      "Cloned list:  [2, 'b', {'apple': 300}, ('orange', 40), 'mango']\n"
     ]
    }
   ],
   "source": [
    "#20 Ways of Cloning a List.\n",
    "\n",
    "def cloning(list1):\n",
    "    new_list = list1[:]\n",
    "    return new_list\n",
    "\n",
    "list1 = [2, 'b', {'apple': 300}, ('orange',40), 'mango']\n",
    "cloned_list = cloning(list1)\n",
    "print('Original List: ', list1)\n",
    "print('Cloned list: ', cloned_list)"
   ]
  },
  {
   "cell_type": "code",
   "execution_count": 42,
   "metadata": {},
   "outputs": [
    {
     "name": "stdout",
     "output_type": "stream",
     "text": [
      "Original List: [2, 4, 5, 6]\n",
      "After Cloning: [2, 4, 5, 6]\n"
     ]
    }
   ],
   "source": [
    "def copy(l1):\n",
    "    new_list = []\n",
    "    new_list.extend(l1)\n",
    "    return new_list\n",
    "\n",
    "l1 = [2,4,5,6]\n",
    "l2 = (copy(l1))\n",
    "print(\"Original List:\", l1)\n",
    "print(\"After Cloning:\", l2)"
   ]
  },
  {
   "cell_type": "code",
   "execution_count": 43,
   "metadata": {},
   "outputs": [
    {
     "name": "stdout",
     "output_type": "stream",
     "text": [
      "[2, 4, 5, 6]\n",
      "[2, 4, 5, 6]\n"
     ]
    }
   ],
   "source": [
    "def copy(l1):\n",
    "    l2 = list(l1)\n",
    "    return l2\n",
    "\n",
    "print(copy(l1))\n",
    "print(l1)"
   ]
  },
  {
   "cell_type": "code",
   "execution_count": 44,
   "metadata": {},
   "outputs": [
    {
     "name": "stdout",
     "output_type": "stream",
     "text": [
      "[2, 4, 5, 6]\n",
      "[2, 4, 5, 6]\n"
     ]
    }
   ],
   "source": [
    "def copy(l1):\n",
    "    l2 = [i for i in l1]\n",
    "    return l2\n",
    "\n",
    "print(copy(l1))\n",
    "print(l1)"
   ]
  },
  {
   "cell_type": "code",
   "execution_count": 45,
   "metadata": {},
   "outputs": [
    {
     "name": "stdout",
     "output_type": "stream",
     "text": [
      "['sam', ('pam', 2), {'apple': 300}]\n"
     ]
    }
   ],
   "source": [
    "def clone(original_list):\n",
    "    empty_list = []\n",
    "    for item in original_list : empty_list.append(item)\n",
    "    return empty_list\n",
    "\n",
    "list1 = ['sam', ('pam', 2), {'apple':300}]\n",
    "print(clone(list1))"
   ]
  },
  {
   "cell_type": "code",
   "execution_count": 46,
   "metadata": {},
   "outputs": [
    {
     "name": "stdout",
     "output_type": "stream",
     "text": [
      "['a', 'ab', 'ac']\n",
      "Cloned list: ['a', 'ab', 'ac']\n"
     ]
    }
   ],
   "source": [
    "def copy(list1):\n",
    "    #li = []\n",
    "    li= list1.copy()\n",
    "    return li\n",
    "\n",
    "original_list = ['a', 'ab', 'ac']\n",
    "print(original_list)\n",
    "print('Cloned list:',copy(original_list))"
   ]
  },
  {
   "cell_type": "code",
   "execution_count": 47,
   "metadata": {},
   "outputs": [
    {
     "name": "stdout",
     "output_type": "stream",
     "text": [
      "Matrix A:\n",
      "[[1 2 3]\n",
      " [4 5 6]]\n",
      "\n",
      "Matrix B:\n",
      "[[7 8 9]\n",
      " [0 1 2]]\n",
      "\n",
      "A + B:\n",
      "[[ 8 10 12]\n",
      " [ 4  6  8]]\n",
      "\n",
      "A - B:\n",
      "[[-6 -6 -6]\n",
      " [ 4  4  4]]\n"
     ]
    }
   ],
   "source": [
    "#21 Add and subtract Matrices\n",
    "\n",
    "import numpy as np\n",
    "\n",
    "A = np.array([[1,2,3], [4,5,6]])\n",
    "B = np.array([[7,8,9], [0,1,2]])\n",
    "print('Matrix A:')\n",
    "print(A)\n",
    "print('\\nMatrix B:')\n",
    "print(B)\n",
    "print('\\nA + B:')\n",
    "print(np.add(A,B))\n",
    "print('\\nA - B:')\n",
    "print(np.subtract(A,B))"
   ]
  },
  {
   "cell_type": "code",
   "execution_count": 48,
   "metadata": {},
   "outputs": [
    {
     "name": "stdout",
     "output_type": "stream",
     "text": [
      "Hello\n"
     ]
    }
   ],
   "source": [
    "#22 Understanding Python Closures.\n",
    "# Here, the nested function 'print_msg' is accessing the non-local variable 'msg'.\n",
    "\n",
    "def printer(msg):\n",
    "    #enclosing function\n",
    "    \n",
    "    def print_msg():\n",
    "        #nested function\n",
    "        print(msg)\n",
    "        \n",
    "    print_msg()  #executes the nested function.\n",
    "printer('Hello')  "
   ]
  },
  {
   "cell_type": "code",
   "execution_count": 49,
   "metadata": {},
   "outputs": [
    {
     "name": "stdout",
     "output_type": "stream",
     "text": [
      "<function printer.<locals>.print_msg at 0x0000017B32E11A68>\n",
      "<function printer.<locals>.print_msg at 0x0000017B32E11948>\n",
      "Hello\n"
     ]
    }
   ],
   "source": [
    "# Criteria to create closures.\n",
    "'''We must have a nested function (function inside a function).\n",
    "The nested function must refer to a value defined in the enclosing function.\n",
    "The enclosing function must return the nested function. '''\n",
    "\n",
    "def printer(msg):    #value 'msg' defined in the enclosing function.\n",
    "    #enclosing function\n",
    "    \n",
    "    def print_msg():\n",
    "        #nested function\n",
    "        print(msg)\n",
    "        \n",
    "    return print_msg #returns the nested function without executing it- instead of print_msg().\n",
    "\n",
    "print(printer('Hello'))\n",
    "new_printer = printer('Hello')\n",
    "print(new_printer)\n",
    "new_printer() \n",
    "#technique by which some data ('hello') gets attached to the code is called closure in python."
   ]
  },
  {
   "cell_type": "code",
   "execution_count": 50,
   "metadata": {},
   "outputs": [],
   "source": [
    "# The value in the enclosing scope 'msg' is still accessible \n",
    "# even when the function 'printer()' is removed.\n",
    "\n",
    "del printer"
   ]
  },
  {
   "cell_type": "code",
   "execution_count": 51,
   "metadata": {},
   "outputs": [
    {
     "ename": "NameError",
     "evalue": "name 'printer' is not defined",
     "output_type": "error",
     "traceback": [
      "\u001b[1;31m---------------------------------------------------------------------------\u001b[0m",
      "\u001b[1;31mNameError\u001b[0m                                 Traceback (most recent call last)",
      "\u001b[1;32m<ipython-input-51-d269f7184de7>\u001b[0m in \u001b[0;36m<module>\u001b[1;34m\u001b[0m\n\u001b[1;32m----> 1\u001b[1;33m \u001b[0mprinter\u001b[0m\u001b[1;33m(\u001b[0m\u001b[1;34m'Hello'\u001b[0m\u001b[1;33m)\u001b[0m\u001b[1;33m\u001b[0m\u001b[1;33m\u001b[0m\u001b[0m\n\u001b[0m",
      "\u001b[1;31mNameError\u001b[0m: name 'printer' is not defined"
     ]
    }
   ],
   "source": [
    "printer('Hello')"
   ]
  },
  {
   "cell_type": "code",
   "execution_count": 52,
   "metadata": {},
   "outputs": [
    {
     "name": "stdout",
     "output_type": "stream",
     "text": [
      "Hello\n"
     ]
    }
   ],
   "source": [
    "new_printer()"
   ]
  },
  {
   "cell_type": "code",
   "execution_count": 53,
   "metadata": {},
   "outputs": [
    {
     "name": "stdout",
     "output_type": "stream",
     "text": [
      "27\n",
      "30\n"
     ]
    }
   ],
   "source": [
    "# Another example\n",
    "\n",
    "def multiplier(n):\n",
    "    def multiply(x):\n",
    "        return x * n\n",
    "    return multiply\n",
    "\n",
    "times3 = multiplier(3)\n",
    "times5 = multiplier(5)\n",
    "print(times3(9))\n",
    "print(times5(6))\n",
    "\n",
    "#here times3 and times5 are closure functions."
   ]
  },
  {
   "cell_type": "code",
   "execution_count": 54,
   "metadata": {},
   "outputs": [],
   "source": [
    "multiplier.__closure__"
   ]
  },
  {
   "cell_type": "code",
   "execution_count": 55,
   "metadata": {},
   "outputs": [
    {
     "data": {
      "text/plain": [
       "(<cell at 0x0000017B32DF6318: int object at 0x00007FFD7A9AA1D0>,)"
      ]
     },
     "execution_count": 55,
     "metadata": {},
     "output_type": "execute_result"
    }
   ],
   "source": [
    "times3.__closure__"
   ]
  },
  {
   "cell_type": "code",
   "execution_count": 56,
   "metadata": {},
   "outputs": [
    {
     "data": {
      "text/plain": [
       "3"
      ]
     },
     "execution_count": 56,
     "metadata": {},
     "output_type": "execute_result"
    }
   ],
   "source": [
    "times3.__closure__[0].cell_contents"
   ]
  },
  {
   "cell_type": "code",
   "execution_count": 57,
   "metadata": {},
   "outputs": [
    {
     "data": {
      "text/plain": [
       "5"
      ]
     },
     "execution_count": 57,
     "metadata": {},
     "output_type": "execute_result"
    }
   ],
   "source": [
    "times5.__closure__[0].cell_contents"
   ]
  },
  {
   "cell_type": "code",
   "execution_count": 58,
   "metadata": {},
   "outputs": [],
   "source": [
    "#23 Write to a file.\n",
    "\n",
    "with open('newfile.txt', 'w') as w:\n",
    "    #creates newfile.txt if it does not exist,\n",
    "    # else overwrites the file if it exists.\n",
    "    \n",
    "    w.write(\"Hello everyone, What's up?.\")"
   ]
  },
  {
   "cell_type": "code",
   "execution_count": 59,
   "metadata": {},
   "outputs": [
    {
     "name": "stdout",
     "output_type": "stream",
     "text": [
      "Hello\n",
      "everyone,\n",
      "What's\n",
      "up?.\n"
     ]
    }
   ],
   "source": [
    "# Read from a file.\n",
    "\n",
    "with open('newfile.txt', 'r') as anyfilename:\n",
    "    for line in anyfilename:\n",
    "        #reading every lines in a file.\n",
    "        for word in line.split():\n",
    "            #reading every word in a line\n",
    "            print(word)"
   ]
  },
  {
   "cell_type": "code",
   "execution_count": 60,
   "metadata": {},
   "outputs": [],
   "source": [
    "# Another method.\n",
    "\n",
    "w = open('newfile.txt', 'w')\n",
    "w.write(\"Hi, Let's overwrite the file.\")\n",
    "w.close()"
   ]
  },
  {
   "cell_type": "code",
   "execution_count": 61,
   "metadata": {},
   "outputs": [
    {
     "data": {
      "text/plain": [
       "\"Hi, Let's overwrite the file.\""
      ]
     },
     "execution_count": 61,
     "metadata": {},
     "output_type": "execute_result"
    }
   ],
   "source": [
    "r = open('newfile.txt', 'r')\n",
    "r.read()"
   ]
  },
  {
   "cell_type": "code",
   "execution_count": 62,
   "metadata": {},
   "outputs": [],
   "source": [
    "#close the file under read mode.\n",
    "r.close()"
   ]
  },
  {
   "cell_type": "code",
   "execution_count": 63,
   "metadata": {},
   "outputs": [
    {
     "name": "stdout",
     "output_type": "stream",
     "text": [
      "H\n",
      "i\n",
      ",\n",
      " \n",
      "L\n",
      "e\n",
      "t\n",
      "'\n",
      "s\n",
      " \n",
      "o\n",
      "v\n",
      "e\n",
      "r\n",
      "w\n",
      "r\n",
      "i\n",
      "t\n",
      "e\n",
      " \n",
      "t\n",
      "h\n",
      "e\n",
      " \n",
      "f\n",
      "i\n",
      "l\n",
      "e\n",
      ".\n"
     ]
    }
   ],
   "source": [
    "#24 Read character by character from a file.\n",
    "\n",
    "f = open('newfile.txt', 'r')\n",
    "while 1:\n",
    "    char = f.read(1)\n",
    "    if not char:\n",
    "        break\n",
    "    print(char)\n",
    "f.close()"
   ]
  },
  {
   "cell_type": "code",
   "execution_count": 64,
   "metadata": {},
   "outputs": [
    {
     "name": "stdout",
     "output_type": "stream",
     "text": [
      "Hi, \n",
      "Let'\n",
      "s ov\n",
      "erwr\n",
      "ite \n",
      "the \n",
      "file\n",
      ".\n"
     ]
    }
   ],
   "source": [
    "# Reading more than one characters.\n",
    "\n",
    "with open('newfile.txt') as f:\n",
    "    while True:\n",
    "        c = f.read(4)\n",
    "        if not c:\n",
    "            break\n",
    "        print(c)"
   ]
  },
  {
   "cell_type": "code",
   "execution_count": 65,
   "metadata": {},
   "outputs": [
    {
     "name": "stdout",
     "output_type": "stream",
     "text": [
      "Enter the name of first file: firstfile.txt\n",
      "Enter the name of second file: secondfile.txt\n",
      "\n",
      "The content of the first file:  This is the first file.\n",
      "\n",
      "The content of the second file:  This is the second file\n",
      "\n",
      "Content of First file after appending:  This is the first file.This is the second file\n",
      "\n",
      "Content of Second file after appending:  This is the second file\n"
     ]
    }
   ],
   "source": [
    "#25 Append content of one file to another.\n",
    "\n",
    "# First create two .txt files.\n",
    "firstfile = input('Enter the name of first file: ')\n",
    "secondfile = input('Enter the name of second file: ')\n",
    "\n",
    "# Opening both files in read mode.\n",
    "f1 = open(firstfile, 'r')\n",
    "f2 = open(secondfile, 'r')\n",
    "print('\\nThe content of the first file: ', f1.read())\n",
    "print('\\nThe content of the second file: ', f2.read())\n",
    "\n",
    "# closing the files.\n",
    "f1.close()\n",
    "f2.close()\n",
    "\n",
    "# Opening first file in append mode and second in read.\n",
    "f1 = open(firstfile, 'a+')\n",
    "f2 = open(secondfile, 'r')\n",
    "f1.write(f2.read())\n",
    "\n",
    "# Moving the cursor at the beginning.\n",
    "f1.seek(0)\n",
    "f2.seek(0)\n",
    "\n",
    "print(\"\\nContent of First file after appending: \", f1.read())\n",
    "print(\"\\nContent of Second file after appending: \", f2.read())\n",
    "f1.close()\n",
    "f2.close()"
   ]
  },
  {
   "cell_type": "code",
   "execution_count": 66,
   "metadata": {},
   "outputs": [
    {
     "name": "stdout",
     "output_type": "stream",
     "text": [
      "{\n",
      "        \"id\": 1,\n",
      "        \"name\": \"Ehtisham\",\n",
      "        \"gender\": \"Male\"\n",
      "}\n",
      "<class 'str'>\n"
     ]
    }
   ],
   "source": [
    "#26 Convert python to JSON.\n",
    "\n",
    "import json\n",
    "\n",
    "dictionary = {\n",
    "    'id':1,\n",
    "    'name': 'Ehtisham',\n",
    "    'gender': 'Male'\n",
    "}\n",
    "\n",
    "#convert python dictionary to json string with indentation.\n",
    "json_object = json.dumps(dictionary, indent=8)\n",
    "\n",
    "print(json_object)\n",
    "print(type(json_object))"
   ]
  },
  {
   "cell_type": "code",
   "execution_count": 67,
   "metadata": {},
   "outputs": [
    {
     "name": "stdout",
     "output_type": "stream",
     "text": [
      "{'id': 1, 'name': 'Ehtisham', 'gender': 'male'}\n",
      "<class 'dict'>\n"
     ]
    }
   ],
   "source": [
    "# Convert JSON to python.\n",
    "\n",
    "import json\n",
    "\n",
    "#json string.\n",
    "employee= '{\"id\":1, \"name\":\"Ehtisham\", \"gender\": \"male\"}'\n",
    "\n",
    "#convert json string to python dictionary.\n",
    "employee_dict = json.loads(employee)\n",
    "\n",
    "print(employee_dict)\n",
    "print(type(employee_dict))"
   ]
  },
  {
   "cell_type": "code",
   "execution_count": 68,
   "metadata": {},
   "outputs": [
    {
     "name": "stdout",
     "output_type": "stream",
     "text": [
      "{'new company': 'Youtube', 'location': 'NY', 'startedon': 1990}\n"
     ]
    }
   ],
   "source": [
    "#27 Read and Write JSON.\n",
    "\n",
    "#Writing JSON data into a file.\n",
    "\n",
    "import json\n",
    "\n",
    "dictionary = {'new company':'Youtube', 'location':'NY', 'startedon':1990}\n",
    "\n",
    "#Opening the file in write or append mode.\n",
    "#convert dictionary to json- json.dump(dictionary_name, file_pointer)\n",
    "\n",
    "with open('sample.json', 'w') as file:\n",
    "    json.dump(dictionary, file)\n",
    "\n",
    "#Reading JSON data from a file.\n",
    "#opening the already created json file.\n",
    "f = open('sample.json')\n",
    "\n",
    "#converting json data to python dictionary.\n",
    "data = json.load(f)\n",
    "\n",
    "print(data)\n",
    "\n",
    "#closing the opened json file.\n",
    "f.close()"
   ]
  },
  {
   "cell_type": "code",
   "execution_count": 69,
   "metadata": {},
   "outputs": [
    {
     "name": "stdout",
     "output_type": "stream",
     "text": [
      "Valid string\n",
      "Invalid string\n"
     ]
    }
   ],
   "source": [
    "#28 Check if string contains only defined characters\n",
    "#   using Regex.\n",
    "\n",
    "import re\n",
    "\n",
    "def check(str,pattern):\n",
    "    \n",
    "    if re.search(pattern, str):\n",
    "        print('Valid string')\n",
    "    else:\n",
    "        print('Invalid string')\n",
    "\n",
    "pattern = re.compile('^[1234]+$')\n",
    "\n",
    "check('2134', pattern)\n",
    "check('2125', pattern)"
   ]
  },
  {
   "cell_type": "code",
   "execution_count": 70,
   "metadata": {},
   "outputs": [
    {
     "name": "stdout",
     "output_type": "stream",
     "text": [
      "itsme@gmail.com is a valid Email\n",
      "andy_sara@edu-org.co.uk is a valid Email\n",
      "hr_department.com is an invalid Email\n"
     ]
    }
   ],
   "source": [
    "#29 Check if it is a valid email using regex.\n",
    "\n",
    "# ^ - starts with\n",
    "# $ - ends with\n",
    "# \\w - any character(a-Z, 0-9, _)\n",
    "#  | - either or\n",
    "# \\. - includes .\n",
    "# \\- - includes -\n",
    "# () - group\n",
    "# [] - set of characters\n",
    "# \\w{2,3} - 2 or 3 occurences of \\w\n",
    "\n",
    "import re\n",
    "\n",
    "regex = '^(\\w|\\.|\\-)+[@](\\w|\\-|\\.)+[.]\\w{2,3}$'\n",
    "\n",
    "def check(email):\n",
    "    if re.search(regex, email):\n",
    "        print(email,'is a valid Email')\n",
    "    else:\n",
    "        print(email, 'is an invalid Email')\n",
    "        \n",
    "if __name__ == '__main__':\n",
    "    email = 'itsme@gmail.com'\n",
    "    check(email)\n",
    "    \n",
    "    email = 'andy_sara@edu-org.co.uk'\n",
    "    check(email)\n",
    "    \n",
    "    email = 'hr_department.com'\n",
    "    check(email)"
   ]
  },
  {
   "cell_type": "code",
   "execution_count": 71,
   "metadata": {},
   "outputs": [
    {
     "name": "stdout",
     "output_type": "stream",
     "text": [
      "The no. of uppercase characters is 3\n",
      "The no. of lowercase characters is 10\n",
      "The no. of numerical characters is 3\n",
      "The no. of special characters is 6\n"
     ]
    }
   ],
   "source": [
    "#30 No. of lowercase, uppercase, numbers and special characters in a string.\n",
    "\n",
    "import re\n",
    "\n",
    "string = \"ThisIsAmazing* ! , 123\"\n",
    "  \n",
    "# Creating separate lists using \n",
    "# the re.findall() method.\n",
    "uppercase_characters = re.findall(r\"[A-Z]\", string)\n",
    "lowercase_characters = re.findall(r\"[a-z]\", string)\n",
    "numerical_characters = re.findall(r\"[0-9]\", string)\n",
    "special_characters = re.findall(r\"[,* .!?]\", string)\n",
    "  \n",
    "print(\"The no. of uppercase characters is\", len(uppercase_characters))\n",
    "print(\"The no. of lowercase characters is\", len(lowercase_characters))\n",
    "print(\"The no. of numerical characters is\", len(numerical_characters))\n",
    "print(\"The no. of special characters is\", len(special_characters))"
   ]
  },
  {
   "cell_type": "code",
   "execution_count": 72,
   "metadata": {},
   "outputs": [
    {
     "name": "stdout",
     "output_type": "stream",
     "text": [
      "Final dictionary: OrderedDict([('c', '3'), ('a', '1'), ('b', '2')])\n"
     ]
    }
   ],
   "source": [
    "#31 Insertion at the beginning in ordered dict.\n",
    "\n",
    "#Method 1:\n",
    "\n",
    "from collections import OrderedDict\n",
    "\n",
    "#initializing ordered dict\n",
    "ordered_dict = OrderedDict([('a', '1'), ('b', '2')])\n",
    "\n",
    "ordered_dict.update({'c': '3'})\n",
    "ordered_dict.move_to_end('c', last=False)\n",
    "\n",
    "print('Final dictionary: '+str(ordered_dict))"
   ]
  },
  {
   "cell_type": "code",
   "execution_count": 73,
   "metadata": {},
   "outputs": [
    {
     "name": "stdout",
     "output_type": "stream",
     "text": [
      "New dictionary: OrderedDict([('c', '2'), ('d', '1'), ('a', '4'), ('b', '3')])\n"
     ]
    }
   ],
   "source": [
    "#Method 2:\n",
    "\n",
    "from collections import OrderedDict\n",
    "\n",
    "dic1 = OrderedDict([('a', '4'), ('b', '3')])\n",
    "dic2 = OrderedDict([('c', '2'), ('d', '1')])\n",
    "\n",
    "dic3 = OrderedDict(list(dic2.items()) + list(dic1.items()))\n",
    "\n",
    "print('New dictionary: '+str(dic3))"
   ]
  },
  {
   "cell_type": "code",
   "execution_count": 74,
   "metadata": {},
   "outputs": [
    {
     "name": "stdout",
     "output_type": "stream",
     "text": [
      "Minimum no. of platforms required:  3\n"
     ]
    }
   ],
   "source": [
    "#32 Find the minimum no. of platforms required in a railway station\n",
    "#   given the arrival and departure times.\n",
    "\n",
    "def platform(arr, dep):\n",
    "    \n",
    "    #sort arrival and departure times.\n",
    "    arr.sort()\n",
    "    dep.sort()\n",
    "    \n",
    "    #initializing.\n",
    "    plat_needed = 1\n",
    "    result = 1\n",
    "    i = 1\n",
    "    j = 0\n",
    "    \n",
    "    while (i < len(arr) and j < len(arr)):\n",
    "        # if a train arrives before a train departs.\n",
    "        if (arr[i] <= dep[j]):\n",
    "            plat_needed += 1\n",
    "            i += 1\n",
    "            \n",
    "        # if a train arrives after a train departs.\n",
    "        elif (arr[i] > dep[j]):\n",
    "            plat_needed -= 1\n",
    "            j += 1\n",
    "            \n",
    "        #updating the result\n",
    "        if (plat_needed > result):\n",
    "            result = plat_needed\n",
    "    return result\n",
    "\n",
    "arrival = [9.00, 9.40, 9.50, 11.00, 15.00, 18.00]\n",
    "departure = [9.10, 12.00, 11.20, 11.30, 19.00, 20.00]\n",
    "\n",
    "print('Minimum no. of platforms required: ', platform(arrival, departure))"
   ]
  },
  {
   "cell_type": "code",
   "execution_count": 75,
   "metadata": {},
   "outputs": [
    {
     "name": "stdout",
     "output_type": "stream",
     "text": [
      "['a', 'b']\n"
     ]
    }
   ],
   "source": [
    "#33 Usage of __slots__\n",
    "# Since python object has a dynamic dictionary that allows adding attributes, hence consuming lot of space.\n",
    "# Slots reduce the wastage of RAM and speed up the program by allocating space for a fixed amount of attributes.\n",
    "# Example:\n",
    "\n",
    "class Classname(object):\n",
    "    \n",
    "    #Allocating space for a and b alone using slots.\n",
    "    __slots__ = ['a', 'b']\n",
    "    \n",
    "    def __init__(self, *args, **kwargs):\n",
    "        \n",
    "        self.a = 1\n",
    "        self.b = 2\n",
    "    \n",
    "if __name__ == \"__main__\":\n",
    "    \n",
    "    instance = Classname()\n",
    "    print(instance.__slots__)"
   ]
  },
  {
   "cell_type": "code",
   "execution_count": 76,
   "metadata": {},
   "outputs": [
    {
     "name": "stdout",
     "output_type": "stream",
     "text": [
      "The snake case string is 100_days_of_code_challenge\n",
      "\n",
      "The pascal case string is 100DaysOfCodeChallenge\n"
     ]
    }
   ],
   "source": [
    "#34 Convert snake case to pascal case\n",
    "\n",
    "str1 = '100_days_of_code_challenge'\n",
    "\n",
    "print('The snake case string is '+str1)\n",
    "\n",
    "str2 = str1.replace('_', ' ').title().replace(' ', '')\n",
    "print('\\nThe pascal case string is '+str2)"
   ]
  },
  {
   "cell_type": "code",
   "execution_count": 77,
   "metadata": {},
   "outputs": [
    {
     "name": "stdout",
     "output_type": "stream",
     "text": [
      "The snake case string is 100_days_of_code_challenge\n",
      "\n",
      "The pascal case string is 100DaysOfCodeChallenge\n"
     ]
    }
   ],
   "source": [
    "# using capwords()\n",
    "\n",
    "import string\n",
    "\n",
    "str3 = '100_days_of_code_challenge'\n",
    "\n",
    "print('The snake case string is '+str3)\n",
    "\n",
    "str4 = string.capwords(str3.replace('_', ' ')).replace(' ', '')\n",
    "\n",
    "print('\\nThe pascal case string is '+str4)"
   ]
  },
  {
   "cell_type": "code",
   "execution_count": 78,
   "metadata": {},
   "outputs": [
    {
     "name": "stdout",
     "output_type": "stream",
     "text": [
      "Listen and Silent are anagram.\n"
     ]
    }
   ],
   "source": [
    "#35 Check if two strings are anagram.\n",
    "\n",
    "str1 = 'Listen'\n",
    "str2 = 'Silent'\n",
    "\n",
    "str1_lower = str1.lower()\n",
    "str2_lower = str2.lower()\n",
    "\n",
    "if len(str1) == len(str2):\n",
    "    str1_sorted = sorted(str1_lower)\n",
    "    str2_sorted = sorted(str2_lower)\n",
    "    \n",
    "    if str1_sorted == str2_sorted:\n",
    "        print(str1, 'and', str2, 'are anagram.')\n",
    "    else:\n",
    "        print(str1, 'and', str2, 'are not anagram.')\n",
    "else:\n",
    "    print(str1, 'and', str2, 'are not anagram.')"
   ]
  },
  {
   "cell_type": "code",
   "execution_count": 79,
   "metadata": {},
   "outputs": [],
   "source": [
    "#36 Find Armstrong Number.\n",
    "# If multiplying each digit with the same digit that much times of the number of digits in a number and adding them\n",
    "# gives the same number, that number is called the Armstrong Number.  \n",
    "# Example: 153 = 1*1*1 + 5*5*5 + 3*3*3 = 153 is an armstrong.\n",
    "# 120 = 1*1*1 + 2*2*2 + 0*0*0 = 9 is not an armstrong.\n",
    "# 1634 = 1*1*1*1 + 6*6*6*6 + 3*3*3*3 + 4*4*4*4 = 1634 is an armstrong.\n",
    "\n",
    "def armstrong(num):\n",
    "    order = len(str(num))\n",
    "    temp = num\n",
    "    sum = 0\n",
    "    while temp > 0:\n",
    "        digit = temp % 10\n",
    "        sum += digit**order\n",
    "        temp //= 10\n",
    "        \n",
    "    if sum == num:\n",
    "        print(f'{num} is an Armstrong number.')\n",
    "    else:\n",
    "        print('{} is not an Armstrong number.'.format(num))"
   ]
  },
  {
   "cell_type": "code",
   "execution_count": 80,
   "metadata": {},
   "outputs": [
    {
     "name": "stdout",
     "output_type": "stream",
     "text": [
      "153 is an Armstrong number.\n"
     ]
    }
   ],
   "source": [
    "armstrong(153)"
   ]
  },
  {
   "cell_type": "code",
   "execution_count": 81,
   "metadata": {},
   "outputs": [
    {
     "name": "stdout",
     "output_type": "stream",
     "text": [
      "1634 is an Armstrong number.\n"
     ]
    }
   ],
   "source": [
    "armstrong(1634)"
   ]
  },
  {
   "cell_type": "code",
   "execution_count": 82,
   "metadata": {},
   "outputs": [
    {
     "name": "stdout",
     "output_type": "stream",
     "text": [
      "Sorted array is: \n",
      "22\n",
      "36\n",
      "43\n",
      "47\n",
      "54\n",
      "64\n",
      "78\n"
     ]
    }
   ],
   "source": [
    "#37 Bubble Sort.\n",
    "# It is an algorithm to arrange elements in correct order.\n",
    "\n",
    "def bubble(arr):\n",
    "    n = len(arr)\n",
    "    \n",
    "    for i in range(n-1):\n",
    "        \n",
    "        for j in range(n-i-1):\n",
    "            if arr[j] > arr[j+1]:\n",
    "                arr[j+1], arr[j] = arr[j], arr[j+1]\n",
    "                \n",
    "arr = [64, 36, 43, 54, 47, 78, 22]\n",
    "bubble(arr)\n",
    "\n",
    "print('Sorted array is: ')\n",
    "for i in range(len(arr)):\n",
    "    print(\"%d\" %arr[i])"
   ]
  },
  {
   "cell_type": "code",
   "execution_count": 83,
   "metadata": {},
   "outputs": [],
   "source": [
    "# Method-2:\n",
    "\n",
    "def bubble_sort(arr): \n",
    "    \n",
    "    for n in range(len(arr)-1, 0, -1):\n",
    "        \n",
    "        for k in range(n):\n",
    "            \n",
    "            if arr[k] > arr[k+1]:\n",
    "                \n",
    "                temp = arr[k]\n",
    "                arr[k] = arr[k+1]\n",
    "                arr[k+1] = temp\n",
    "                \n",
    "    return arr"
   ]
  },
  {
   "cell_type": "code",
   "execution_count": 84,
   "metadata": {},
   "outputs": [
    {
     "data": {
      "text/plain": [
       "[7, 8, 9, 10, 13, 15, 18, 20]"
      ]
     },
     "execution_count": 84,
     "metadata": {},
     "output_type": "execute_result"
    }
   ],
   "source": [
    "arr = [10,9,8,13,20,18,15,7]\n",
    "bubble_sort(arr)"
   ]
  },
  {
   "cell_type": "code",
   "execution_count": 85,
   "metadata": {},
   "outputs": [
    {
     "name": "stdout",
     "output_type": "stream",
     "text": [
      "1611081000.0\n"
     ]
    }
   ],
   "source": [
    "#38 Convert date string to timestamp.\n",
    "# Before saving datetime into database, it should be converted to timestamp.\n",
    "\n",
    "import time, datetime\n",
    "\n",
    "string = \"20/1/2021\"\n",
    "\n",
    "element = datetime.datetime.strptime(string, '%d/%m/%Y')\n",
    "timestamp = datetime.datetime.timestamp(element)\n",
    "print(timestamp)"
   ]
  },
  {
   "cell_type": "code",
   "execution_count": 86,
   "metadata": {},
   "outputs": [
    {
     "name": "stdout",
     "output_type": "stream",
     "text": [
      "The column-2 of matrix is [3, 6, 9]\n"
     ]
    }
   ],
   "source": [
    "#39 Print Kth column of a matrix.\n",
    "\n",
    "matrix = [[1,2,3], [4,5,6], [7,8,9]]\n",
    "\n",
    "K = 2\n",
    "\n",
    "result = [col[K] for col in matrix]\n",
    "print(f'The column-{K} of matrix is {result}')"
   ]
  },
  {
   "cell_type": "code",
   "execution_count": 87,
   "metadata": {},
   "outputs": [
    {
     "name": "stdout",
     "output_type": "stream",
     "text": [
      "1 Rajini Kollywood\n",
      "2 Amitabh Bollywood\n",
      "3 TomCruise Hollywood\n"
     ]
    }
   ],
   "source": [
    "#40 Iterate over multiple lists simultaneously.\n",
    "\n",
    "id = [1, 2, 3]\n",
    "actors = ['Rajini', 'Amitabh', 'TomCruise']\n",
    "industry = ['Kollywood', 'Bollywood', 'Hollywood']\n",
    "\n",
    "for a, b, c in zip(id, actors, industry):\n",
    "    print(a, b, c)"
   ]
  },
  {
   "cell_type": "code",
   "execution_count": 88,
   "metadata": {},
   "outputs": [
    {
     "name": "stdout",
     "output_type": "stream",
     "text": [
      "1 Rajini Kollywood\n",
      "2 Amitabh Bollywood\n",
      "3 Jackie None\n"
     ]
    }
   ],
   "source": [
    "# using itertools.zip_longest\n",
    "\n",
    "import itertools\n",
    "\n",
    "id = [1, 2, 3]\n",
    "actors = ['Rajini', 'Amitabh', 'Jackie']\n",
    "industry = ['Kollywood', 'Bollywood']\n",
    "# None for Jackie.\n",
    "\n",
    "for a, b, c in itertools.zip_longest(id, actors, industry):\n",
    "    print(a, b, c)"
   ]
  },
  {
   "cell_type": "code",
   "execution_count": 89,
   "metadata": {},
   "outputs": [
    {
     "name": "stdout",
     "output_type": "stream",
     "text": [
      "1 Rajini Kollywood\n",
      "2 Amitabh Bollywood\n",
      "3 Jackie Chinese\n"
     ]
    }
   ],
   "source": [
    "import itertools\n",
    "\n",
    "id = [1, 2, 3]\n",
    "actors = ['Rajini', 'Amitabh', 'Jackie']\n",
    "industry = ['Kollywood', 'Bollywood']\n",
    "# None for Jackie.\n",
    "\n",
    "for a, b, c in itertools.zip_longest(id, actors, industry, fillvalue='Chinese'):\n",
    "    #fillvalue is a default value instead of None.\n",
    "    \n",
    "    print(a, b, c)"
   ]
  },
  {
   "cell_type": "code",
   "execution_count": 90,
   "metadata": {},
   "outputs": [
    {
     "ename": "KeyError",
     "evalue": "'c'",
     "output_type": "error",
     "traceback": [
      "\u001b[1;31m---------------------------------------------------------------------------\u001b[0m",
      "\u001b[1;31mKeyError\u001b[0m                                  Traceback (most recent call last)",
      "\u001b[1;32m<ipython-input-90-c8783e7d8328>\u001b[0m in \u001b[0;36m<module>\u001b[1;34m\u001b[0m\n\u001b[0;32m      3\u001b[0m \u001b[0mdic\u001b[0m \u001b[1;33m=\u001b[0m \u001b[1;33m{\u001b[0m\u001b[1;34m'a'\u001b[0m\u001b[1;33m:\u001b[0m \u001b[1;36m1\u001b[0m\u001b[1;33m,\u001b[0m \u001b[1;34m'b'\u001b[0m\u001b[1;33m:\u001b[0m\u001b[1;36m2\u001b[0m\u001b[1;33m}\u001b[0m\u001b[1;33m\u001b[0m\u001b[1;33m\u001b[0m\u001b[0m\n\u001b[0;32m      4\u001b[0m \u001b[1;33m\u001b[0m\u001b[0m\n\u001b[1;32m----> 5\u001b[1;33m \u001b[0mprint\u001b[0m\u001b[1;33m(\u001b[0m\u001b[0mdic\u001b[0m\u001b[1;33m[\u001b[0m\u001b[1;34m'c'\u001b[0m\u001b[1;33m]\u001b[0m\u001b[1;33m)\u001b[0m\u001b[1;33m\u001b[0m\u001b[1;33m\u001b[0m\u001b[0m\n\u001b[0m",
      "\u001b[1;31mKeyError\u001b[0m: 'c'"
     ]
    }
   ],
   "source": [
    "#41 Handling missing values in a dictionary.\n",
    "\n",
    "dic = {'a': 1, 'b':2}\n",
    "\n",
    "print(dic['c'])"
   ]
  },
  {
   "cell_type": "code",
   "execution_count": 91,
   "metadata": {},
   "outputs": [
    {
     "name": "stdout",
     "output_type": "stream",
     "text": [
      "Not found\n",
      "1\n"
     ]
    }
   ],
   "source": [
    "# using get()\n",
    "\n",
    "print(dic.get('c', 'Not found'))\n",
    "print(dic.get('a', 'Not found'))"
   ]
  },
  {
   "cell_type": "code",
   "execution_count": 92,
   "metadata": {},
   "outputs": [
    {
     "name": "stdout",
     "output_type": "stream",
     "text": [
      "Not found\n"
     ]
    }
   ],
   "source": [
    "# using setdefault()\n",
    "\n",
    "dic.setdefault('d', 'Not found')\n",
    "print(dic['d'])"
   ]
  },
  {
   "cell_type": "code",
   "execution_count": 93,
   "metadata": {},
   "outputs": [
    {
     "name": "stdout",
     "output_type": "stream",
     "text": [
      "Not found\n"
     ]
    }
   ],
   "source": [
    "# best practice is using defaultdict().\n",
    "\n",
    "import collections\n",
    "\n",
    "dic = collections.defaultdict(lambda : 'Not found')\n",
    "# 'not found' will be returned for all non-existing keys.\n",
    "\n",
    "print(dic['c'])"
   ]
  },
  {
   "cell_type": "code",
   "execution_count": 94,
   "metadata": {},
   "outputs": [
    {
     "name": "stdout",
     "output_type": "stream",
     "text": [
      "The result matrix is: [[1, 1], [2, 2], [3, 3], [4], [5]]\n"
     ]
    }
   ],
   "source": [
    "#42 Group similar elements in a matrix.\n",
    "\n",
    "from itertools import groupby\n",
    "\n",
    "list1 = [1,2,3,2,3,1,4,5]\n",
    "\n",
    "result = [list(val) for key,val in groupby(sorted(list1))]\n",
    "\n",
    "print('The result matrix is: ' +str(result))"
   ]
  },
  {
   "cell_type": "code",
   "execution_count": 95,
   "metadata": {},
   "outputs": [
    {
     "name": "stdout",
     "output_type": "stream",
     "text": [
      "Counter({'apple': 2, 'orange': 2, 'mango': 1, 'banana': 1})\n",
      "dict_items([('apple', 2), ('orange', 2), ('mango', 1), ('banana', 1)])\n",
      "\n",
      "Matrix after grouping: [['apple', 'apple'], ['orange', 'orange'], ['mango'], ['banana']]\n"
     ]
    }
   ],
   "source": [
    "# Using Counter():\n",
    "\n",
    "from collections import Counter\n",
    "\n",
    "list1 = ['apple', 'orange', 'apple', 'mango', 'banana', 'orange']\n",
    "\n",
    "temp = Counter(list1)\n",
    "\n",
    "print(temp)\n",
    "print(temp.items())\n",
    "\n",
    "result = [[key]*val for key,val in temp.items()]\n",
    "print('\\nMatrix after grouping: '+str(result))"
   ]
  },
  {
   "cell_type": "code",
   "execution_count": 96,
   "metadata": {},
   "outputs": [],
   "source": [
    "#43 Print unique elements.\n",
    "\n",
    "def unique(list1):\n",
    "    unique_list = []\n",
    "    for x in list1:\n",
    "        if x not in unique_list:\n",
    "            unique_list.append(x)\n",
    "    for x in unique_list:\n",
    "        print (x,end=' ')"
   ]
  },
  {
   "cell_type": "code",
   "execution_count": 97,
   "metadata": {},
   "outputs": [
    {
     "name": "stdout",
     "output_type": "stream",
     "text": [
      "1 2 3 4 5 "
     ]
    }
   ],
   "source": [
    "list1 = [1,2,1,2,3,4,4,5]\n",
    "(unique(list1))"
   ]
  },
  {
   "cell_type": "code",
   "execution_count": 98,
   "metadata": {},
   "outputs": [],
   "source": [
    "# Method-2\n",
    "\n",
    "def unique(lst):\n",
    "    return list(set(lst))"
   ]
  },
  {
   "cell_type": "code",
   "execution_count": 99,
   "metadata": {},
   "outputs": [
    {
     "data": {
      "text/plain": [
       "['Manu', 'Tanu']"
      ]
     },
     "execution_count": 99,
     "metadata": {},
     "output_type": "execute_result"
    }
   ],
   "source": [
    "lst = ['Manu', 'Tanu', 'Manu', 'Tanu']\n",
    "unique(lst)"
   ]
  },
  {
   "cell_type": "code",
   "execution_count": 100,
   "metadata": {},
   "outputs": [],
   "source": [
    "# Method-3\n",
    "\n",
    "import numpy as np\n",
    "\n",
    "def unique_list(lst):\n",
    "    print(np.unique(lst))"
   ]
  },
  {
   "cell_type": "code",
   "execution_count": 101,
   "metadata": {},
   "outputs": [
    {
     "name": "stdout",
     "output_type": "stream",
     "text": [
      "['Manu' 'Tanu']\n"
     ]
    }
   ],
   "source": [
    "unique_list(lst)"
   ]
  },
  {
   "cell_type": "code",
   "execution_count": 102,
   "metadata": {},
   "outputs": [
    {
     "name": "stdout",
     "output_type": "stream",
     "text": [
      "1 2 3 4 5\n"
     ]
    }
   ],
   "source": [
    "# Method-4\n",
    "from collections import Counter\n",
    "\n",
    "def unique(lst):\n",
    "    print(*Counter(lst))\n",
    "    \n",
    "unique(list1)"
   ]
  },
  {
   "cell_type": "code",
   "execution_count": 103,
   "metadata": {},
   "outputs": [
    {
     "name": "stdout",
     "output_type": "stream",
     "text": [
      "[-1, -4, -6, 2, 5, 3]\n"
     ]
    }
   ],
   "source": [
    "#44 Move negative numbers to beginning.\n",
    "\n",
    "arr = [-1, 2,3, -4,5,-6]\n",
    "def move(arr):\n",
    "    j = 0\n",
    "    for i in range(len(arr)):\n",
    "        if arr[i]< 0:\n",
    "            temp = arr[i]\n",
    "            arr[i] = arr[j]\n",
    "            arr[j] = temp\n",
    "            j += 1\n",
    "    print(arr)\n",
    "    \n",
    "move(arr)"
   ]
  },
  {
   "cell_type": "code",
   "execution_count": 104,
   "metadata": {},
   "outputs": [
    {
     "data": {
      "text/plain": [
       "[-6, -4, -1, 2, 3, 5]"
      ]
     },
     "execution_count": 104,
     "metadata": {},
     "output_type": "execute_result"
    }
   ],
   "source": [
    "# Method - 2\n",
    "\n",
    "arr = [-1, 2,3, -4,5,-6]\n",
    "sorted(arr)"
   ]
  },
  {
   "cell_type": "code",
   "execution_count": 105,
   "metadata": {},
   "outputs": [],
   "source": [
    "#45 Check if string has unique characters.\n",
    "\n",
    "def unique(string):\n",
    "    for i in range(len(string)):\n",
    "        for j in range(i+1, len(string)):\n",
    "            if string[j] ==string[i]:\n",
    "                return False\n",
    "    return True"
   ]
  },
  {
   "cell_type": "code",
   "execution_count": 106,
   "metadata": {},
   "outputs": [
    {
     "name": "stdout",
     "output_type": "stream",
     "text": [
      "It has unique characters.\n"
     ]
    }
   ],
   "source": [
    "str = 'Arnold'\n",
    "if unique(str):\n",
    "    print('It has unique characters.')\n",
    "else:\n",
    "    print('It is not unique.')"
   ]
  },
  {
   "cell_type": "code",
   "execution_count": 107,
   "metadata": {},
   "outputs": [
    {
     "name": "stdout",
     "output_type": "stream",
     "text": [
      "It is not unique.\n"
     ]
    }
   ],
   "source": [
    "str = 'Bill Gates'\n",
    "if unique(str):\n",
    "    print('It has unique characters.')\n",
    "else:\n",
    "    print('It is not unique.')"
   ]
  },
  {
   "cell_type": "code",
   "execution_count": 108,
   "metadata": {},
   "outputs": [
    {
     "name": "stdout",
     "output_type": "stream",
     "text": [
      "True\n",
      "False\n"
     ]
    }
   ],
   "source": [
    "# Method - 2\n",
    "\n",
    "def unique(s):\n",
    "    return len(set(s)) == len(s)\n",
    "\n",
    "print(unique('abcde'))\n",
    "print(unique('abcdea'))"
   ]
  },
  {
   "cell_type": "code",
   "execution_count": 109,
   "metadata": {},
   "outputs": [
    {
     "name": "stdout",
     "output_type": "stream",
     "text": [
      "True\n",
      "False\n"
     ]
    }
   ],
   "source": [
    "# Method - 3\n",
    "\n",
    "def unique_char(s):\n",
    "    char = set()\n",
    "    \n",
    "    for letters in s:\n",
    "        if letters in char:\n",
    "            return False\n",
    "        else:\n",
    "            char.add(letters)\n",
    "    return True\n",
    "\n",
    "print(unique_char('Arnold'))\n",
    "print(unique_char('Arnoldd'))"
   ]
  },
  {
   "cell_type": "code",
   "execution_count": 110,
   "metadata": {},
   "outputs": [
    {
     "name": "stdout",
     "output_type": "stream",
     "text": [
      "String with characters:  123abcjw:, .@! eiw\n",
      "\n",
      "String without characters:  123abcjweiw\n"
     ]
    }
   ],
   "source": [
    "#46 Removal of characters except letters and numbers.\n",
    "\n",
    "import re\n",
    "\n",
    "input_string = '123abcjw:, .@! eiw'\n",
    "\n",
    "# code to remove extra characters.\n",
    "output_string = re.sub('[\\W_]+', '', input_string)\n",
    "\n",
    "print('String with characters: ', input_string)\n",
    "print('\\nString without characters: ', output_string)"
   ]
  },
  {
   "cell_type": "code",
   "execution_count": 111,
   "metadata": {},
   "outputs": [
    {
     "data": {
      "text/plain": [
       "'123abcjweiw'"
      ]
     },
     "execution_count": 111,
     "metadata": {},
     "output_type": "execute_result"
    }
   ],
   "source": [
    "# Method - 2\n",
    "\n",
    "st = '123abcjw:, .@! eiw'\n",
    "''.join(i for i in st if i.isalnum())"
   ]
  },
  {
   "cell_type": "code",
   "execution_count": 112,
   "metadata": {},
   "outputs": [
    {
     "name": "stdout",
     "output_type": "stream",
     "text": [
      "False\n",
      "True\n"
     ]
    }
   ],
   "source": [
    "#47 Check if two lists have atleast one element in common.\n",
    "\n",
    "def common(list1, list2):\n",
    "    list1_set = set(list1)\n",
    "    list2_set = set(list2)\n",
    "    \n",
    "    if len(list1_set.intersection(list2_set)) > 0:\n",
    "        return True\n",
    "    return False\n",
    "\n",
    "a = [1,2,3,4,5]\n",
    "b = [6,7,8,9,0]\n",
    "print(common(a,b))\n",
    "\n",
    "a = [1,2,3,4,5]\n",
    "b = [5,7,8,9,0]\n",
    "print(common(a,b))"
   ]
  },
  {
   "cell_type": "code",
   "execution_count": 113,
   "metadata": {},
   "outputs": [
    {
     "name": "stdout",
     "output_type": "stream",
     "text": [
      "True\n",
      "False\n"
     ]
    }
   ],
   "source": [
    "# Method -2:\n",
    "\n",
    "def common_member(a, b):\n",
    "    a_set = set(a)\n",
    "    b_set = set(b)\n",
    "    if (a_set & b_set):\n",
    "        return True \n",
    "    else:\n",
    "        return False\n",
    "          \n",
    "  \n",
    "a = [1, 2, 3, 4, 5]\n",
    "b = [5, 6, 7, 8, 9]\n",
    "print(common_member(a, b))\n",
    "  \n",
    "a =[1, 2, 3, 4, 5]\n",
    "b =[6, 7, 8, 9]\n",
    "print(common_member(a, b))"
   ]
  },
  {
   "cell_type": "code",
   "execution_count": 114,
   "metadata": {},
   "outputs": [
    {
     "name": "stdout",
     "output_type": "stream",
     "text": [
      "True\n",
      "False\n"
     ]
    }
   ],
   "source": [
    "# Method-3:\n",
    "\n",
    "def common(a, b):\n",
    "    a_set = set(a)\n",
    "    b_set = set(b)\n",
    "    if a_set.isdisjoint(b_set):\n",
    "        return False\n",
    "    else:\n",
    "        return True\n",
    "    \n",
    "a = [1, 2, 3, 4, 5]\n",
    "b = [5, 6, 7, 8, 9]\n",
    "print (common(a, b))\n",
    "a =[1, 2, 3, 4, 5]\n",
    "b =[6, 7, 8, 9]\n",
    "print(common(a,b))"
   ]
  },
  {
   "cell_type": "code",
   "execution_count": 115,
   "metadata": {},
   "outputs": [
    {
     "name": "stdout",
     "output_type": "stream",
     "text": [
      "True\n",
      "False\n"
     ]
    }
   ],
   "source": [
    "# Method - 4\n",
    "\n",
    "def common(a, b):\n",
    "    return not set(a).isdisjoint(set(b))\n",
    "\n",
    "a = [1, 2, 3, 4, 5]\n",
    "b = [5, 6, 7, 8, 9]\n",
    "print (common(a, b))\n",
    "a =[1, 2, 3, 4, 5]\n",
    "b =[6, 7, 8, 9]\n",
    "print(common(a,b))"
   ]
  },
  {
   "cell_type": "code",
   "execution_count": 116,
   "metadata": {},
   "outputs": [
    {
     "name": "stdout",
     "output_type": "stream",
     "text": [
      "Sorted list of tuples:  [('History', 70), ('English', 75), ('Science', 80), ('Maths', 95)]\n"
     ]
    }
   ],
   "source": [
    "#48 Sort a list of tuples using lambda.\n",
    "\n",
    "subject_marks = [('Science', 80), ('Maths', 95), ('English', 75), ('History', 70)]\n",
    "\n",
    "subject_marks.sort(key = lambda x:x[1])\n",
    "\n",
    "print('Sorted list of tuples: ', subject_marks)"
   ]
  },
  {
   "cell_type": "code",
   "execution_count": 117,
   "metadata": {},
   "outputs": [
    {
     "name": "stdout",
     "output_type": "stream",
     "text": [
      "Sentence without duplicate words: Python is great and Java also\n"
     ]
    }
   ],
   "source": [
    "#49 Remove duplicate words in a given sentence.\n",
    "\n",
    "from collections import Counter\n",
    "\n",
    "def remove_duplicate(input):\n",
    "    input = input.split()\n",
    "    unique = Counter(input)\n",
    "    result = \" \".join(unique)\n",
    "    print(f'Sentence without duplicate words: {result}')\n",
    "    \n",
    "if __name__==\"__main__\":\n",
    "    input = 'Python is great and Java is also great'\n",
    "    remove_duplicate(input)"
   ]
  },
  {
   "cell_type": "code",
   "execution_count": 118,
   "metadata": {},
   "outputs": [
    {
     "name": "stdout",
     "output_type": "stream",
     "text": [
      "Python is great and Java also\n"
     ]
    }
   ],
   "source": [
    "# Method - 2:\n",
    "\n",
    "string = 'Python is great and Java is also great'\n",
    "\n",
    "splitted_string = string.split()\n",
    "result = []\n",
    "\n",
    "for i in splitted_string:\n",
    "    if (splitted_string.count(i) >= 1) and (i not in result):\n",
    "        result.append(i)\n",
    "print(\" \".join(result))"
   ]
  },
  {
   "cell_type": "code",
   "execution_count": 119,
   "metadata": {},
   "outputs": [
    {
     "name": "stdout",
     "output_type": "stream",
     "text": [
      "Python is great and Java also\n"
     ]
    }
   ],
   "source": [
    "# Method - 3\n",
    "\n",
    "string = 'Python is great and Java is also great'\n",
    "\n",
    "print(' '.join(dict.fromkeys(string.split())))"
   ]
  },
  {
   "cell_type": "code",
   "execution_count": 120,
   "metadata": {},
   "outputs": [
    {
     "name": "stdout",
     "output_type": "stream",
     "text": [
      "True\n",
      "True\n",
      "False\n"
     ]
    }
   ],
   "source": [
    "# 50 Check balanced parenthesis\n",
    "\n",
    "def balance_check(s):\n",
    "    if len(s)%2 != 0:\n",
    "        return False\n",
    "    \n",
    "    opening = ('(', '[', '{')\n",
    "    matches = [('(', ')'), ('[', ']'), ('{', '}')]\n",
    "    stack = []\n",
    "        \n",
    "    for paren in s:\n",
    "        if paren in opening:\n",
    "            stack.append(paren)\n",
    "                \n",
    "        else:\n",
    "            if len(stack)==0:\n",
    "                return False\n",
    "                \n",
    "            last_item = stack.pop()   \n",
    "            if (last_item, paren) not in matches:\n",
    "                return False\n",
    "    return len(stack)==0\n",
    "    \n",
    "print(balance_check('[]'))\n",
    "print(balance_check('[](){}([{[]}]){}'))\n",
    "print(balance_check('()[{]}()'))"
   ]
  },
  {
   "cell_type": "code",
   "execution_count": 121,
   "metadata": {},
   "outputs": [
    {
     "data": {
      "text/plain": [
       "{'(', '[', '{'}"
      ]
     },
     "execution_count": 121,
     "metadata": {},
     "output_type": "execute_result"
    }
   ],
   "source": [
    "set('([{')"
   ]
  },
  {
   "cell_type": "code",
   "execution_count": 122,
   "metadata": {},
   "outputs": [],
   "source": [
    "#51 Implement a queue using two stacks\n",
    "\n",
    "class Stack():\n",
    "    def __init__(self):\n",
    "        self.instack = []\n",
    "        self.outstack = []\n",
    "        \n",
    "    def enqueue(self, element):\n",
    "        self.instack.append(element)\n",
    "        \n",
    "    def dequeue(self):\n",
    "        while self.instack:\n",
    "            self.outstack.append(self.instack.pop())\n",
    "        return self.outstack.pop()"
   ]
  },
  {
   "cell_type": "code",
   "execution_count": 123,
   "metadata": {},
   "outputs": [
    {
     "name": "stdout",
     "output_type": "stream",
     "text": [
      "0\n",
      "1\n",
      "2\n",
      "3\n",
      "4\n"
     ]
    }
   ],
   "source": [
    "s = Stack()\n",
    "for i in range(5):\n",
    "    s.enqueue(i)\n",
    "    \n",
    "for i in range(5):\n",
    "    print(s.dequeue())"
   ]
  },
  {
   "cell_type": "code",
   "execution_count": 124,
   "metadata": {},
   "outputs": [
    {
     "name": "stdout",
     "output_type": "stream",
     "text": [
      "Python is great and Java also\n"
     ]
    }
   ],
   "source": [
    "# Method - 3\n",
    "\n",
    "string = 'Python is great and Java is also great'\n",
    "\n",
    "print(' '.join(dict.fromkeys(string.split())))"
   ]
  },
  {
   "cell_type": "code",
   "execution_count": 125,
   "metadata": {},
   "outputs": [
    {
     "name": "stdout",
     "output_type": "stream",
     "text": [
      "False\n",
      "True\n"
     ]
    }
   ],
   "source": [
    "#52 Implementation of Binary Search\n",
    "# Binary Search: Search a sorted array by repeatedly dividing the search interval in half.\n",
    "\n",
    "def binary_search(arr, n):\n",
    "    first = 0\n",
    "    last = len(arr) - 1\n",
    "    found = False\n",
    "    \n",
    "    while first <= last and not found:       \n",
    "        mid = (first + last) // 2\n",
    "        \n",
    "        # Match found\n",
    "        if arr[mid] == n:\n",
    "            found = True          \n",
    "        else:\n",
    "          \n",
    "            # Set new endpoints depending on comparision\n",
    "            if arr[mid] < n:\n",
    "                first = mid + 1   \n",
    "            else:\n",
    "                last = mid - 1              \n",
    "    return found            \n",
    "\n",
    "arr = [1,2,3,4,5,6,7,8]\n",
    "print(binary_search(arr, 9))\n",
    "print(binary_search(arr, 6))"
   ]
  },
  {
   "cell_type": "code",
   "execution_count": 126,
   "metadata": {},
   "outputs": [
    {
     "name": "stdout",
     "output_type": "stream",
     "text": [
      "True\n",
      "False\n"
     ]
    }
   ],
   "source": [
    "#53 Implementation of Recursive Binary Search.\n",
    "\n",
    "def rec_bin_search(arr, ele):\n",
    "    \n",
    "    # Base case\n",
    "    if len(arr) == 0:\n",
    "        return False\n",
    "    else:\n",
    "        mid = len(arr)//2\n",
    "        \n",
    "        # If match found\n",
    "        if ele == arr[mid]:\n",
    "            return True\n",
    "        \n",
    "        # Set new endpoints depending on comparision\n",
    "        elif ele < arr[mid]:\n",
    "            return rec_bin_search(arr[:mid], ele)\n",
    "        else:\n",
    "            return rec_bin_search(arr[mid+1:], ele)\n",
    "        \n",
    "# List must already be sorted.\n",
    "arr = [1,2,3,4,5,6,7,8,9,10]\n",
    "\n",
    "print(rec_bin_search(arr, 9))\n",
    "print(rec_bin_search(arr, 11))"
   ]
  },
  {
   "cell_type": "code",
   "execution_count": 127,
   "metadata": {},
   "outputs": [],
   "source": [
    "#54 Implementation of selection sort\n",
    "# Selection sort: sorts an array by repeatedly finding the minimum element (considering ascending order)\n",
    "# from unsorted part and putting it at the beginning.\n",
    "\n",
    "def selection_sort(arr):\n",
    "    \n",
    "    #for every element in array\n",
    "    for fillslot in range(len(arr)-1, 0, -1):\n",
    "        maxposition = 0\n",
    "        \n",
    "        # for every set of 1 to fillslot+1\n",
    "        for location in range(1, fillslot+1):\n",
    "            \n",
    "            # considering ascending order\n",
    "            if arr[maxposition] < arr[location]:\n",
    "                maxposition = location\n",
    "        \n",
    "        # swapping\n",
    "        temp = arr[fillslot]\n",
    "        arr[fillslot] = arr[maxposition]\n",
    "        arr[maxposition] = temp\n",
    "        \n",
    "    return arr"
   ]
  },
  {
   "cell_type": "code",
   "execution_count": 128,
   "metadata": {},
   "outputs": [
    {
     "data": {
      "text/plain": [
       "[7, 8, 9, 10, 13, 15, 18, 20]"
      ]
     },
     "execution_count": 128,
     "metadata": {},
     "output_type": "execute_result"
    }
   ],
   "source": [
    "arr = [10,9,8,13,20,18,15,7]\n",
    "selection_sort(arr)"
   ]
  },
  {
   "cell_type": "code",
   "execution_count": 129,
   "metadata": {},
   "outputs": [],
   "source": [
    "#55 Implementation of Insertion sort\n",
    "# Insertion sort builds the final sorted array one item at a time.\n",
    "\n",
    "def insertion_sort(arr):\n",
    "    \n",
    "    for i in range(1, len(arr)):\n",
    "       \n",
    "        currentvalue = arr[i]\n",
    "        position = i\n",
    "        \n",
    "        while position > 0 and arr[position-1] > currentvalue:\n",
    "            \n",
    "            arr[position] = arr[position-1]\n",
    "            position = position - 1\n",
    "            \n",
    "        arr[position] = currentvalue\n",
    "        \n",
    "    return arr"
   ]
  },
  {
   "cell_type": "code",
   "execution_count": 130,
   "metadata": {},
   "outputs": [
    {
     "data": {
      "text/plain": [
       "[1, 2, 2, 4, 4, 6, 7, 9, 11, 13, 23]"
      ]
     },
     "execution_count": 130,
     "metadata": {},
     "output_type": "execute_result"
    }
   ],
   "source": [
    "arr = [4,6,2,7,4,1,9,11,23,13,2]\n",
    "insertion_sort(arr)"
   ]
  },
  {
   "cell_type": "code",
   "execution_count": 131,
   "metadata": {},
   "outputs": [],
   "source": [
    "#56 Implementation of Shell sort\n",
    "# Shell sort is a generalized version of the insertion sort algorithm. It first sorts elements that are far apart from each \n",
    "# other and successively reduces the interval between the elements to be sorted.\n",
    "\n",
    "def shell_sort(arr):\n",
    "    \n",
    "    sublistcount = len(arr)//2\n",
    "    \n",
    "    while sublistcount > 0:\n",
    "        for start in range(sublistcount):\n",
    "            \n",
    "            gap_insertion_sort(arr, start, sublistcount)\n",
    "            \n",
    "        # Print for better understanding    \n",
    "        #print('\\nAfter increments of size: ', sublistcount)\n",
    "        #print('The list is ', arr)\n",
    "        \n",
    "        sublistcount = sublistcount//2"
   ]
  },
  {
   "cell_type": "code",
   "execution_count": 132,
   "metadata": {},
   "outputs": [],
   "source": [
    "def gap_insertion_sort(arr, start, sublistcount):\n",
    "    \n",
    "    for i in range(start+sublistcount, len(arr), sublistcount):\n",
    "        \n",
    "        currentvalue = arr[i]\n",
    "        position = i\n",
    "        \n",
    "        # Print for better understanding.\n",
    "        #print('the index value: ', i)\n",
    "        #print('The list is ', arr)\n",
    "        \n",
    "        while position >= sublistcount and arr[position-sublistcount] > currentvalue:\n",
    "            \n",
    "            arr[position] = arr[position-sublistcount]\n",
    "            position = position - sublistcount\n",
    "        \n",
    "        arr[position] = currentvalue"
   ]
  },
  {
   "cell_type": "code",
   "execution_count": 133,
   "metadata": {},
   "outputs": [
    {
     "data": {
      "text/plain": [
       "[2, 4, 6, 7, 21, 23, 24, 45, 45, 67, 90]"
      ]
     },
     "execution_count": 133,
     "metadata": {},
     "output_type": "execute_result"
    }
   ],
   "source": [
    "arr = [45,67,23,45,21,24,7,2,6,4,90]\n",
    "shell_sort(arr)\n",
    "arr"
   ]
  },
  {
   "cell_type": "code",
   "execution_count": 134,
   "metadata": {},
   "outputs": [],
   "source": [
    "#57 Implementation of Merge sort\n",
    "# Merge sort divides the input array into two halves, calls itself for the two halves, and then merges the two sorted halves.\n",
    "\n",
    "def merge_sort(arr):   \n",
    "    if len(arr) > 1:       \n",
    "        mid = len(arr)//2\n",
    "        lefthalf = arr[:mid]\n",
    "        righthalf = arr[mid:]        \n",
    "        merge_sort(lefthalf)\n",
    "        merge_sort(righthalf)\n",
    "        i=0\n",
    "        j=0\n",
    "        k=0\n",
    "        while i < len(lefthalf) and j < len(righthalf): \n",
    "            if lefthalf[i] < righthalf[j]:\n",
    "                arr[k] = lefthalf[i]\n",
    "                i += 1\n",
    "            else:\n",
    "                arr[k] = righthalf[j]\n",
    "                j += 1        \n",
    "            k += 1\n",
    "        while i < len(lefthalf):\n",
    "            arr[k] = lefthalf[i]\n",
    "            i += 1\n",
    "            k += 1\n",
    "        while j < len(righthalf):\n",
    "            arr[k] = righthalf[j]\n",
    "            j += 1\n",
    "            k += 1        \n",
    "    \n",
    "    print('Merging', arr)  # Printing for better understanding\n",
    "    return arr"
   ]
  },
  {
   "cell_type": "code",
   "execution_count": 135,
   "metadata": {},
   "outputs": [
    {
     "name": "stdout",
     "output_type": "stream",
     "text": [
      "Merging [45]\n",
      "Merging [67]\n",
      "Merging [45, 67]\n",
      "Merging [23]\n",
      "Merging [45]\n",
      "Merging [21]\n",
      "Merging [21, 45]\n",
      "Merging [21, 23, 45]\n",
      "Merging [21, 23, 45, 45, 67]\n",
      "Merging [24]\n",
      "Merging [7]\n",
      "Merging [2]\n",
      "Merging [2, 7]\n",
      "Merging [2, 7, 24]\n",
      "Merging [6]\n",
      "Merging [4]\n",
      "Merging [90]\n",
      "Merging [4, 90]\n",
      "Merging [4, 6, 90]\n",
      "Merging [2, 4, 6, 7, 24, 90]\n",
      "Merging [2, 4, 6, 7, 21, 23, 24, 45, 45, 67, 90]\n"
     ]
    },
    {
     "data": {
      "text/plain": [
       "[2, 4, 6, 7, 21, 23, 24, 45, 45, 67, 90]"
      ]
     },
     "execution_count": 135,
     "metadata": {},
     "output_type": "execute_result"
    }
   ],
   "source": [
    "arr = [45,67,23,45,21,24,7,2,6,4,90]\n",
    "merge_sort(arr)"
   ]
  },
  {
   "cell_type": "code",
   "execution_count": 136,
   "metadata": {},
   "outputs": [],
   "source": [
    "#58 Writing data from a python list to csv file\n",
    "\n",
    "import csv\n",
    "\n",
    "data = [['Geeks'], [4], ['geeks !']]\n",
    "\n",
    "file = open('g4g.csv', 'w+', newline = '')\n",
    "\n",
    "with file:\n",
    "    write = csv.writer(file)\n",
    "    write.writerows(data)"
   ]
  },
  {
   "cell_type": "code",
   "execution_count": 137,
   "metadata": {},
   "outputs": [],
   "source": [
    "# Writing data row-wise into an existing csv file\n",
    "\n",
    "import csv\n",
    "\n",
    "file = open('g4g.csv', 'w', newline='')\n",
    "\n",
    "with file:\n",
    "    header = ['Organisation', 'Established', 'CEO']\n",
    "    writer = csv.DictWriter(file, fieldnames = header)\n",
    "    \n",
    "    writer.writeheader()\n",
    "    writer.writerow({'Organisation': 'Google', \n",
    "                    'Established': '1998',\n",
    "                    'CEO': 'Sundar Pichai'})\n",
    "    writer.writerow({'Organisation': 'Microsoft', \n",
    "                    'Established': '1975',\n",
    "                    'CEO': 'Bill Gates'})\n",
    "    writer.writerow({'Organisation': 'Nokia', \n",
    "                    'Established': '1998',\n",
    "                    'CEO': 'Rajeev Suri'})"
   ]
  },
  {
   "cell_type": "code",
   "execution_count": 138,
   "metadata": {},
   "outputs": [],
   "source": [
    "#59 Implementation of Linked lists\n",
    "# Linked list is a linear data structure in which elements are not stored in memory locations.\n",
    "# Instead, each element points to the next.\n",
    "\n",
    "# Singly Linked List\n",
    "\n",
    "class Node(object):\n",
    "    \n",
    "    def __init__(self, value):\n",
    "        self.value = value\n",
    "        self.nextnode = None"
   ]
  },
  {
   "cell_type": "code",
   "execution_count": 139,
   "metadata": {},
   "outputs": [],
   "source": [
    "a = Node(1)\n",
    "b = Node(2)\n",
    "c = Node(3)"
   ]
  },
  {
   "cell_type": "code",
   "execution_count": 140,
   "metadata": {},
   "outputs": [],
   "source": [
    "a.nextnode = b\n",
    "b.nextnode = c"
   ]
  },
  {
   "cell_type": "code",
   "execution_count": 141,
   "metadata": {},
   "outputs": [
    {
     "data": {
      "text/plain": [
       "<__main__.Node at 0x17b2f0c6d48>"
      ]
     },
     "execution_count": 141,
     "metadata": {},
     "output_type": "execute_result"
    }
   ],
   "source": [
    "a.nextnode"
   ]
  },
  {
   "cell_type": "code",
   "execution_count": 142,
   "metadata": {},
   "outputs": [
    {
     "data": {
      "text/plain": [
       "2"
      ]
     },
     "execution_count": 142,
     "metadata": {},
     "output_type": "execute_result"
    }
   ],
   "source": [
    "a.nextnode.value"
   ]
  },
  {
   "cell_type": "code",
   "execution_count": 143,
   "metadata": {},
   "outputs": [
    {
     "data": {
      "text/plain": [
       "1"
      ]
     },
     "execution_count": 143,
     "metadata": {},
     "output_type": "execute_result"
    }
   ],
   "source": [
    "a.value"
   ]
  },
  {
   "cell_type": "code",
   "execution_count": 144,
   "metadata": {},
   "outputs": [
    {
     "data": {
      "text/plain": [
       "2"
      ]
     },
     "execution_count": 144,
     "metadata": {},
     "output_type": "execute_result"
    }
   ],
   "source": [
    "b.value"
   ]
  },
  {
   "cell_type": "code",
   "execution_count": 145,
   "metadata": {},
   "outputs": [
    {
     "data": {
      "text/plain": [
       "3"
      ]
     },
     "execution_count": 145,
     "metadata": {},
     "output_type": "execute_result"
    }
   ],
   "source": [
    "b.nextnode.value"
   ]
  },
  {
   "cell_type": "code",
   "execution_count": 146,
   "metadata": {},
   "outputs": [
    {
     "data": {
      "text/plain": [
       "3"
      ]
     },
     "execution_count": 146,
     "metadata": {},
     "output_type": "execute_result"
    }
   ],
   "source": [
    "c.value"
   ]
  },
  {
   "cell_type": "code",
   "execution_count": 147,
   "metadata": {},
   "outputs": [],
   "source": [
    "# Doubly Linked list\n",
    "\n",
    "class DoublyLinkedList(object):\n",
    "    \n",
    "    def __init__(self,value):\n",
    "        \n",
    "        self.value = value\n",
    "        self.nextnode = None\n",
    "        self.prevnode = None"
   ]
  },
  {
   "cell_type": "code",
   "execution_count": 148,
   "metadata": {},
   "outputs": [],
   "source": [
    "a = DoublyLinkedList(1)\n",
    "b = DoublyLinkedList(2)\n",
    "c = DoublyLinkedList(3)"
   ]
  },
  {
   "cell_type": "code",
   "execution_count": 149,
   "metadata": {},
   "outputs": [],
   "source": [
    "a.nextnode = b\n",
    "b.prevnode = a\n",
    "b.nextnode = c\n",
    "c.prevnode = b"
   ]
  },
  {
   "cell_type": "code",
   "execution_count": 150,
   "metadata": {},
   "outputs": [
    {
     "data": {
      "text/plain": [
       "2"
      ]
     },
     "execution_count": 150,
     "metadata": {},
     "output_type": "execute_result"
    }
   ],
   "source": [
    "a.nextnode.value"
   ]
  },
  {
   "cell_type": "code",
   "execution_count": 151,
   "metadata": {},
   "outputs": [
    {
     "data": {
      "text/plain": [
       "1"
      ]
     },
     "execution_count": 151,
     "metadata": {},
     "output_type": "execute_result"
    }
   ],
   "source": [
    "b.prevnode.value"
   ]
  },
  {
   "cell_type": "code",
   "execution_count": 152,
   "metadata": {},
   "outputs": [
    {
     "data": {
      "text/plain": [
       "2"
      ]
     },
     "execution_count": 152,
     "metadata": {},
     "output_type": "execute_result"
    }
   ],
   "source": [
    "b.value"
   ]
  },
  {
   "cell_type": "code",
   "execution_count": 153,
   "metadata": {},
   "outputs": [
    {
     "data": {
      "text/plain": [
       "3"
      ]
     },
     "execution_count": 153,
     "metadata": {},
     "output_type": "execute_result"
    }
   ],
   "source": [
    "c.value"
   ]
  },
  {
   "cell_type": "code",
   "execution_count": 154,
   "metadata": {},
   "outputs": [],
   "source": [
    "#60 Check if the linked list is a circular linked list.\n",
    "\n",
    "class Node(object):\n",
    "    \n",
    "    def __init__(self, value):\n",
    "        self.value = value\n",
    "        self.nextnode = None"
   ]
  },
  {
   "cell_type": "code",
   "execution_count": 155,
   "metadata": {},
   "outputs": [],
   "source": [
    "def cycle_check(node):\n",
    "    # Begin both markers at the first node\n",
    "    marker1 = node\n",
    "    marker2 = node\n",
    "    \n",
    "    # Go until end of list\n",
    "    while marker2 != None and marker2.nextnode != None:\n",
    "        marker1 = marker1.nextnode\n",
    "        marker2 = marker2.nextnode.nextnode\n",
    "        \n",
    "        # Check if markers have matched\n",
    "        if marker2 == marker1:\n",
    "            return True\n",
    "        \n",
    "    # if marker reaches end of list\n",
    "    return False"
   ]
  },
  {
   "cell_type": "code",
   "execution_count": 156,
   "metadata": {},
   "outputs": [
    {
     "name": "stdout",
     "output_type": "stream",
     "text": [
      "All test cases passed\n"
     ]
    }
   ],
   "source": [
    "from nose.tools import assert_equal\n",
    "\n",
    "# Cycle list \n",
    "a = Node(1)\n",
    "b = Node(2)\n",
    "c = Node(3)\n",
    "a.nextnode = b\n",
    "b.nextnode = c\n",
    "c.nextnode = a\n",
    "\n",
    "# Non-cycle list\n",
    "x = Node(1)\n",
    "y = Node(2)\n",
    "z = Node(3)\n",
    "x.nextnode = y\n",
    "y.nextnode = z\n",
    "\n",
    "class TestCycleCheck(object):\n",
    "    def test(self,sol):\n",
    "        assert_equal(sol(a), True)\n",
    "        assert_equal(sol(x), False)\n",
    "        \n",
    "        print('All test cases passed')\n",
    "        \n",
    "t = TestCycleCheck()\n",
    "t.test(cycle_check)"
   ]
  },
  {
   "cell_type": "code",
   "execution_count": 157,
   "metadata": {},
   "outputs": [],
   "source": [
    "#61 Linked List Reversal\n",
    "\n",
    "class Node(object):\n",
    "    \n",
    "    def __init__(self, value):\n",
    "        self.value = value\n",
    "        self.nextnode = None"
   ]
  },
  {
   "cell_type": "code",
   "execution_count": 158,
   "metadata": {},
   "outputs": [],
   "source": [
    "def reverse(head):\n",
    "    current = head\n",
    "    previous = None\n",
    "    nextnode = None\n",
    "    \n",
    "    # Until end of the list\n",
    "    while current:\n",
    "        \n",
    "        # Copying current nodes next node to a variable nextnode\n",
    "        # before overwriting as the previous node for reversal\n",
    "        \n",
    "        nextnode = current.nextnode\n",
    "        current.nextnode = previous\n",
    "        previous = current\n",
    "        current = nextnode\n",
    "        \n",
    "    return previous"
   ]
  },
  {
   "cell_type": "code",
   "execution_count": 159,
   "metadata": {},
   "outputs": [],
   "source": [
    "a = Node(1)\n",
    "b = Node(2)\n",
    "c = Node(3)\n",
    "d = Node(4)\n",
    "\n",
    "a.nextnode = b\n",
    "b.nextnode = c\n",
    "c.nextnode = d"
   ]
  },
  {
   "cell_type": "code",
   "execution_count": 160,
   "metadata": {},
   "outputs": [
    {
     "name": "stdout",
     "output_type": "stream",
     "text": [
      "2\n",
      "3\n",
      "4\n"
     ]
    }
   ],
   "source": [
    "print(a.nextnode.value)\n",
    "print(b.nextnode.value)\n",
    "print(c.nextnode.value)"
   ]
  },
  {
   "cell_type": "code",
   "execution_count": 161,
   "metadata": {},
   "outputs": [
    {
     "ename": "AttributeError",
     "evalue": "'NoneType' object has no attribute 'value'",
     "output_type": "error",
     "traceback": [
      "\u001b[1;31m---------------------------------------------------------------------------\u001b[0m",
      "\u001b[1;31mAttributeError\u001b[0m                            Traceback (most recent call last)",
      "\u001b[1;32m<ipython-input-161-9ee2d814a788>\u001b[0m in \u001b[0;36m<module>\u001b[1;34m\u001b[0m\n\u001b[1;32m----> 1\u001b[1;33m \u001b[0md\u001b[0m\u001b[1;33m.\u001b[0m\u001b[0mnextnode\u001b[0m\u001b[1;33m.\u001b[0m\u001b[0mvalue\u001b[0m\u001b[1;33m\u001b[0m\u001b[1;33m\u001b[0m\u001b[0m\n\u001b[0m",
      "\u001b[1;31mAttributeError\u001b[0m: 'NoneType' object has no attribute 'value'"
     ]
    }
   ],
   "source": [
    "d.nextnode.value"
   ]
  },
  {
   "cell_type": "code",
   "execution_count": 162,
   "metadata": {},
   "outputs": [
    {
     "data": {
      "text/plain": [
       "<__main__.Node at 0x17b347776c8>"
      ]
     },
     "execution_count": 162,
     "metadata": {},
     "output_type": "execute_result"
    }
   ],
   "source": [
    "reverse(a)"
   ]
  },
  {
   "cell_type": "code",
   "execution_count": 163,
   "metadata": {},
   "outputs": [
    {
     "name": "stdout",
     "output_type": "stream",
     "text": [
      "3\n",
      "2\n",
      "1\n"
     ]
    }
   ],
   "source": [
    "print(d.nextnode.value)\n",
    "print(c.nextnode.value)\n",
    "print(b.nextnode.value)"
   ]
  },
  {
   "cell_type": "code",
   "execution_count": 164,
   "metadata": {},
   "outputs": [
    {
     "ename": "AttributeError",
     "evalue": "'NoneType' object has no attribute 'value'",
     "output_type": "error",
     "traceback": [
      "\u001b[1;31m---------------------------------------------------------------------------\u001b[0m",
      "\u001b[1;31mAttributeError\u001b[0m                            Traceback (most recent call last)",
      "\u001b[1;32m<ipython-input-164-198bb82d5fce>\u001b[0m in \u001b[0;36m<module>\u001b[1;34m\u001b[0m\n\u001b[1;32m----> 1\u001b[1;33m \u001b[0mprint\u001b[0m\u001b[1;33m(\u001b[0m\u001b[0ma\u001b[0m\u001b[1;33m.\u001b[0m\u001b[0mnextnode\u001b[0m\u001b[1;33m.\u001b[0m\u001b[0mvalue\u001b[0m\u001b[1;33m)\u001b[0m   \u001b[1;31m#This will give an error since it now points to None\u001b[0m\u001b[1;33m\u001b[0m\u001b[1;33m\u001b[0m\u001b[0m\n\u001b[0m",
      "\u001b[1;31mAttributeError\u001b[0m: 'NoneType' object has no attribute 'value'"
     ]
    }
   ],
   "source": [
    "print(a.nextnode.value)   #This will give an error since it now points to None "
   ]
  },
  {
   "cell_type": "code",
   "execution_count": 165,
   "metadata": {},
   "outputs": [],
   "source": [
    "#62 Linked list nth node from last node.\n",
    "\n",
    "class Node(object):\n",
    "    def __init__(self, value):\n",
    "        self.value = value\n",
    "        self.nextnode = None"
   ]
  },
  {
   "cell_type": "code",
   "execution_count": 166,
   "metadata": {},
   "outputs": [],
   "source": [
    "def nth_to_last_node(n, head):\n",
    "    left_pointer  = head\n",
    "    right_pointer = head\n",
    "\n",
    "    # Set right pointer at n nodes away from head\n",
    "    for i in range(n-1):\n",
    "        \n",
    "        # Check for edge case of not having enough nodes!\n",
    "        if not right_pointer.nextnode:\n",
    "            raise LookupError('Error: n is larger than the linked list.')\n",
    "\n",
    "        # Otherwise, we can set the block\n",
    "        right_pointer = right_pointer.nextnode\n",
    "\n",
    "    # Move the block down the linked list\n",
    "    while right_pointer.nextnode:\n",
    "        left_pointer  = left_pointer.nextnode\n",
    "        right_pointer = right_pointer.nextnode\n",
    "\n",
    "    # Now return left pointer, its at the nth to last element!\n",
    "    return left_pointer"
   ]
  },
  {
   "cell_type": "code",
   "execution_count": 167,
   "metadata": {},
   "outputs": [
    {
     "name": "stdout",
     "output_type": "stream",
     "text": [
      "All test cases passed\n"
     ]
    }
   ],
   "source": [
    "from nose.tools import assert_equal\n",
    "\n",
    "a = Node(1)\n",
    "b = Node(2)\n",
    "c = Node(3)\n",
    "d = Node(4)\n",
    "e = Node(5)\n",
    "\n",
    "a.nextnode = b\n",
    "b.nextnode = c\n",
    "c.nextnode = d\n",
    "d.nextnode = e\n",
    "\n",
    "class TestNlast(object):\n",
    "    def test(self,sol):\n",
    "        \n",
    "        # Check if 2nd node from last is d\n",
    "        assert_equal(sol(2,a),d)\n",
    "        print('All test cases passed')\n",
    "        \n",
    "t = TestNlast()\n",
    "t.test(nth_to_last_node)"
   ]
  },
  {
   "cell_type": "code",
   "execution_count": 168,
   "metadata": {},
   "outputs": [],
   "source": [
    "#63 Given an integer array, output all the unique pairs that sum up to a specific value K.\n",
    "\n",
    "def pair_sum(arr,k):\n",
    "    if len(arr) < 2:\n",
    "        return\n",
    "    \n",
    "    # Sets for tracking\n",
    "    seen = set()\n",
    "    output = set()\n",
    "    \n",
    "    # for every number in array\n",
    "    for num in arr:\n",
    "        \n",
    "        # set target difference\n",
    "        target = k - num\n",
    "        \n",
    "        # Add it to set if target hasn't seen\n",
    "        if target not in seen:\n",
    "            seen.add(num)\n",
    "        else:\n",
    "            # Add a tuple with the corresponding pair\n",
    "            output.add((min(num,target), max(num, target)))\n",
    "    \n",
    "    #print('\\n'.join(map(str, list(output))))\n",
    "    return list(output)"
   ]
  },
  {
   "cell_type": "code",
   "execution_count": 169,
   "metadata": {},
   "outputs": [
    {
     "data": {
      "text/plain": [
       "[(1, 3), (2, 2)]"
      ]
     },
     "execution_count": 169,
     "metadata": {},
     "output_type": "execute_result"
    }
   ],
   "source": [
    "pair_sum([1,3,2,2],4)"
   ]
  },
  {
   "cell_type": "code",
   "execution_count": 170,
   "metadata": {},
   "outputs": [
    {
     "data": {
      "text/plain": [
       "[(4, 6), (5, 5), (2, 8), (-1, 11), (1, 9), (3, 7)]"
      ]
     },
     "execution_count": 170,
     "metadata": {},
     "output_type": "execute_result"
    }
   ],
   "source": [
    "pair_sum([1,9,2,8,3,7,4,6,5,5,13,14,11,13,-1],10)"
   ]
  },
  {
   "cell_type": "code",
   "execution_count": 171,
   "metadata": {},
   "outputs": [],
   "source": [
    "# Method - 2:\n",
    "\n",
    "import itertools as itx\n",
    "\n",
    "def pair_sum1(arr, num):\n",
    "    \n",
    "    itx_sum = itx.combinations(arr, 2)\n",
    "    output = set([(x,y) for x,y in itx_sum if x+y==num])\n",
    "    \n",
    "    #print('\\n'.join(map(str, list(output))))\n",
    "    return list(output)"
   ]
  },
  {
   "cell_type": "code",
   "execution_count": 172,
   "metadata": {},
   "outputs": [
    {
     "data": {
      "text/plain": [
       "[(9, 2), (7, 4), (8, 3), (6, 5)]"
      ]
     },
     "execution_count": 172,
     "metadata": {},
     "output_type": "execute_result"
    }
   ],
   "source": [
    "pair_sum1([1,9,2,8,3,7,4,6,5,5,13,14,11,13,-1],11)"
   ]
  },
  {
   "cell_type": "code",
   "execution_count": 173,
   "metadata": {},
   "outputs": [],
   "source": [
    "# Method - 3:\n",
    "\n",
    "def pair_sum2(arr, num):   \n",
    "    st = set()\n",
    "    \n",
    "    for i in range(len(arr)-1):\n",
    "        \n",
    "        y, *z = arr[i:]\n",
    "        st.update((y,ele) for ele in z if y+ele == num)\n",
    "        \n",
    "    #print('\\n'.join(map(str, list(st))))\n",
    "    return list(st)"
   ]
  },
  {
   "cell_type": "code",
   "execution_count": 174,
   "metadata": {},
   "outputs": [
    {
     "data": {
      "text/plain": [
       "[(9, 3), (7, 5), (13, -1), (1, 11), (8, 4)]"
      ]
     },
     "execution_count": 174,
     "metadata": {},
     "output_type": "execute_result"
    }
   ],
   "source": [
    "pair_sum2([1,9,2,8,3,7,4,6,5,5,13,14,11,13,-1],12)"
   ]
  },
  {
   "cell_type": "code",
   "execution_count": 175,
   "metadata": {},
   "outputs": [],
   "source": [
    "#64 Find missing element in array\n",
    "\n",
    "def finder(arr1, arr2):\n",
    "    \n",
    "    arr1.sort()\n",
    "    arr2.sort()\n",
    "    \n",
    "    for num1, num2 in zip(arr1, arr2):\n",
    "        if num1 != num2:\n",
    "            return num1\n",
    "        \n",
    "    return arr1[-1]"
   ]
  },
  {
   "cell_type": "code",
   "execution_count": 176,
   "metadata": {},
   "outputs": [
    {
     "data": {
      "text/plain": [
       "5"
      ]
     },
     "execution_count": 176,
     "metadata": {},
     "output_type": "execute_result"
    }
   ],
   "source": [
    "arr1 = [1,2,3,4,5,6,7]\n",
    "arr2 = [3,7,6,2,4,1]\n",
    "finder(arr1, arr2)"
   ]
  },
  {
   "cell_type": "code",
   "execution_count": 177,
   "metadata": {},
   "outputs": [],
   "source": [
    "# Method - 2\n",
    "\n",
    "def finder(arr1, arr2):\n",
    "    result = 0\n",
    "    \n",
    "    for num in arr1+arr2:\n",
    "        result ^= num\n",
    "        \n",
    "    return result"
   ]
  },
  {
   "cell_type": "code",
   "execution_count": 178,
   "metadata": {},
   "outputs": [
    {
     "data": {
      "text/plain": [
       "5"
      ]
     },
     "execution_count": 178,
     "metadata": {},
     "output_type": "execute_result"
    }
   ],
   "source": [
    "finder(arr1, arr2)"
   ]
  },
  {
   "cell_type": "code",
   "execution_count": 179,
   "metadata": {},
   "outputs": [
    {
     "name": "stdout",
     "output_type": "stream",
     "text": [
      "5\n"
     ]
    }
   ],
   "source": [
    "# Method - 3\n",
    "\n",
    "import collections\n",
    "\n",
    "d = collections.defaultdict(int)\n",
    "\n",
    "for num in arr2:\n",
    "    d[num] += 1\n",
    "    \n",
    "for num in arr1:\n",
    "    if d[num] == 0:\n",
    "        print(num)\n",
    "    else:\n",
    "        d[num] -= 1"
   ]
  },
  {
   "cell_type": "code",
   "execution_count": 180,
   "metadata": {},
   "outputs": [],
   "source": [
    "#65 Sentence reversal using algorithm.\n",
    "\n",
    "def rev_word2(s):   \n",
    "    # To push words to a stack.\n",
    "    words = []\n",
    "    length = len(s)\n",
    "    # To remove spaces\n",
    "    spaces = [' ']\n",
    "    # Index tracker\n",
    "    i = 0\n",
    "    \n",
    "    while i < length:       \n",
    "        # If element isn't a space\n",
    "        if s[i] not in spaces:\n",
    "            # Then the word starts at this index\n",
    "            word_start = i\n",
    "        \n",
    "            while i < length and s[i] not in spaces:              \n",
    "                # Get index where word ends\n",
    "                i += 1    \n",
    "            # Append that word to the list\n",
    "            words.append(s[word_start:i])\n",
    "        # Move index\n",
    "        i += 1\n",
    "        \n",
    "    # Join the reversed words\n",
    "    return ' '.join(words[::-1])"
   ]
  },
  {
   "cell_type": "code",
   "execution_count": 181,
   "metadata": {},
   "outputs": [
    {
     "data": {
      "text/plain": [
       "'go? to ready you are John, Hi'"
      ]
     },
     "execution_count": 181,
     "metadata": {},
     "output_type": "execute_result"
    }
   ],
   "source": [
    "rev_word2('Hi John,   are you ready to go?')"
   ]
  },
  {
   "cell_type": "code",
   "execution_count": 182,
   "metadata": {},
   "outputs": [],
   "source": [
    "# Sentence Reversal.\n",
    "\n",
    "def rev_word(s):\n",
    "    return \" \".join(reversed(s.split()))\n",
    "\n",
    "# or\n",
    "\n",
    "def rev_word1(s):\n",
    "    return \" \".join(s.split()[::-1])"
   ]
  },
  {
   "cell_type": "code",
   "execution_count": 183,
   "metadata": {},
   "outputs": [
    {
     "data": {
      "text/plain": [
       "'go? to ready you are John, Hi'"
      ]
     },
     "execution_count": 183,
     "metadata": {},
     "output_type": "execute_result"
    }
   ],
   "source": [
    "rev_word('Hi John,   are you ready to go?')"
   ]
  },
  {
   "cell_type": "code",
   "execution_count": 184,
   "metadata": {},
   "outputs": [
    {
     "data": {
      "text/plain": [
       "'go? to ready you are John, Hi'"
      ]
     },
     "execution_count": 184,
     "metadata": {},
     "output_type": "execute_result"
    }
   ],
   "source": [
    "rev_word1('Hi John,   are you ready to go?')"
   ]
  },
  {
   "cell_type": "code",
   "execution_count": 207,
   "metadata": {},
   "outputs": [],
   "source": [
    "#66 String Compression\n",
    "\n",
    "def compress(s):   \n",
    "    r = \"\"\n",
    "    l = len(s)\n",
    "    \n",
    "    if l == 0:\n",
    "        return ''\n",
    "    if l == 1:\n",
    "        return s + '1'\n",
    "    \n",
    "    count = 1\n",
    "    i = 1\n",
    "    \n",
    "    # i < len(s)\n",
    "    while i < l:\n",
    "        \n",
    "        # check to see if it is the same letter\n",
    "        if s[i] == s[i-1]:\n",
    "            # Add a count if same as previous\n",
    "            count += 1\n",
    "        else:\n",
    "            # Otherwise store the previous data\n",
    "            r = r + s[i-1] + str(count)\n",
    "            count = 1           \n",
    "        i += 1\n",
    "        \n",
    "    r = r + s[i-1] + str(count)\n",
    "    return r"
   ]
  },
  {
   "cell_type": "code",
   "execution_count": 208,
   "metadata": {},
   "outputs": [
    {
     "data": {
      "text/plain": [
       "'A2B1C2a2D4'"
      ]
     },
     "execution_count": 208,
     "metadata": {},
     "output_type": "execute_result"
    }
   ],
   "source": [
    "compress('AABCCaaDDDD')"
   ]
  },
  {
   "cell_type": "code",
   "execution_count": 209,
   "metadata": {},
   "outputs": [
    {
     "data": {
      "text/plain": [
       "''"
      ]
     },
     "execution_count": 209,
     "metadata": {},
     "output_type": "execute_result"
    }
   ],
   "source": [
    "compress('')"
   ]
  },
  {
   "cell_type": "code",
   "execution_count": 210,
   "metadata": {},
   "outputs": [
    {
     "data": {
      "text/plain": [
       "'a1b2C3d1'"
      ]
     },
     "execution_count": 210,
     "metadata": {},
     "output_type": "execute_result"
    }
   ],
   "source": [
    "compress('abbCCCd')"
   ]
  },
  {
   "cell_type": "code",
   "execution_count": 211,
   "metadata": {},
   "outputs": [
    {
     "data": {
      "text/plain": [
       "'a2B2c3D1'"
      ]
     },
     "execution_count": 211,
     "metadata": {},
     "output_type": "execute_result"
    }
   ],
   "source": [
    "# Method - 2\n",
    "\n",
    "def compress(x):\n",
    "    i = 0\n",
    "    for ind, ele in enumerate(x):\n",
    "        if ind <= len(x)-2:\n",
    "            if ele != x[ind+1]:\n",
    "                yield ele + str(ind+1-i)\n",
    "                i = ind+1\n",
    "    yield x[i]+str(len(x)-i)\n",
    "    \n",
    "s = 'aaBBcccD'\n",
    "''.join(compress(s))"
   ]
  },
  {
   "cell_type": "code",
   "execution_count": 212,
   "metadata": {},
   "outputs": [],
   "source": [
    "#67 Recursion problems.\n",
    "\n",
    "# Write a recursive function which takes an integer and computes the cumulative sum of 0 to that integer.\n",
    "\n",
    "def rec_sum(n):\n",
    "    if n > 1:\n",
    "        n = n + rec_sum(n-1)\n",
    "    return n"
   ]
  },
  {
   "cell_type": "code",
   "execution_count": 213,
   "metadata": {},
   "outputs": [
    {
     "data": {
      "text/plain": [
       "0"
      ]
     },
     "execution_count": 213,
     "metadata": {},
     "output_type": "execute_result"
    }
   ],
   "source": [
    "rec_sum(0)"
   ]
  },
  {
   "cell_type": "code",
   "execution_count": 214,
   "metadata": {},
   "outputs": [],
   "source": [
    "# Method - 2\n",
    "\n",
    "def rec_sum1(n):\n",
    "    return n + rec_sum1(n-1) if n > 1 else n"
   ]
  },
  {
   "cell_type": "code",
   "execution_count": 215,
   "metadata": {},
   "outputs": [
    {
     "data": {
      "text/plain": [
       "15"
      ]
     },
     "execution_count": 215,
     "metadata": {},
     "output_type": "execute_result"
    }
   ],
   "source": [
    "rec_sum1(5)"
   ]
  },
  {
   "cell_type": "code",
   "execution_count": 216,
   "metadata": {},
   "outputs": [
    {
     "data": {
      "text/plain": [
       "21"
      ]
     },
     "execution_count": 216,
     "metadata": {},
     "output_type": "execute_result"
    }
   ],
   "source": [
    "# Method - 3\n",
    "\n",
    "def rec_sum2(n):\n",
    "    if n == 0:\n",
    "        return 0\n",
    "    else:\n",
    "        return n + rec_sum2(n-1)\n",
    "    \n",
    "rec_sum2(6)"
   ]
  },
  {
   "cell_type": "code",
   "execution_count": 217,
   "metadata": {},
   "outputs": [],
   "source": [
    "# Write a recursive function which returns the sum of all the individual digits in that integer.\n",
    "\n",
    "def sum_digits(n):\n",
    "    return n if n < 1 else n%10 + sum_digits(n//10)"
   ]
  },
  {
   "cell_type": "code",
   "execution_count": 218,
   "metadata": {},
   "outputs": [
    {
     "data": {
      "text/plain": [
       "14"
      ]
     },
     "execution_count": 218,
     "metadata": {},
     "output_type": "execute_result"
    }
   ],
   "source": [
    "sum_digits(95)"
   ]
  },
  {
   "cell_type": "code",
   "execution_count": 219,
   "metadata": {},
   "outputs": [
    {
     "data": {
      "text/plain": [
       "10"
      ]
     },
     "execution_count": 219,
     "metadata": {},
     "output_type": "execute_result"
    }
   ],
   "source": [
    "# Method - 2\n",
    "\n",
    "def sum_func(n):\n",
    "    if len(str(n)) == 1:\n",
    "        return n\n",
    "    else:\n",
    "        return n%10 + sum_func(n//10)\n",
    "    \n",
    "sum_func(1234)"
   ]
  },
  {
   "cell_type": "code",
   "execution_count": 220,
   "metadata": {},
   "outputs": [],
   "source": [
    "#Create a function which takes in a string phrase and a set list_of_words which will then determine \n",
    "# if it is possible to split the string in a way in which words can be made from the list of words.\n",
    "\n",
    "def word_split(phrase, list_of_words, output=None):\n",
    "    \n",
    "    # Checks to see if any output has been initiated.\n",
    "    # If you default output=[], it would be overwritten for every recursion!\n",
    "    if output is None:\n",
    "        output = []\n",
    "    \n",
    "    for word in list_of_words:\n",
    "        if phrase.startswith(word):\n",
    "            output.append(word)\n",
    "            \n",
    "            # Recursively call the split function on the remaining portion of the phrase--- phrase[len(word):]\n",
    "            # Remember to pass along the output and list of words\n",
    "            return word_split(phrase[len(word):], list_of_words, output)\n",
    "    \n",
    "    # return output if no phrase.startswith(word)\n",
    "    return output"
   ]
  },
  {
   "cell_type": "code",
   "execution_count": 221,
   "metadata": {},
   "outputs": [
    {
     "data": {
      "text/plain": [
       "['the', 'man', 'ran']"
      ]
     },
     "execution_count": 221,
     "metadata": {},
     "output_type": "execute_result"
    }
   ],
   "source": [
    "word_split('themanran',['the','ran','man'])"
   ]
  },
  {
   "cell_type": "code",
   "execution_count": 222,
   "metadata": {},
   "outputs": [
    {
     "data": {
      "text/plain": [
       "['i', 'love', 'dogs', 'John']"
      ]
     },
     "execution_count": 222,
     "metadata": {},
     "output_type": "execute_result"
    }
   ],
   "source": [
    "word_split('ilovedogsJohn',['i','am','a','dogs','lover','love','John'])"
   ]
  },
  {
   "cell_type": "code",
   "execution_count": 223,
   "metadata": {},
   "outputs": [
    {
     "data": {
      "text/plain": [
       "[]"
      ]
     },
     "execution_count": 223,
     "metadata": {},
     "output_type": "execute_result"
    }
   ],
   "source": [
    "word_split('themanran',['clown','ran','man'])"
   ]
  },
  {
   "cell_type": "code",
   "execution_count": 224,
   "metadata": {},
   "outputs": [
    {
     "data": {
      "text/plain": [
       "'edcba'"
      ]
     },
     "execution_count": 224,
     "metadata": {},
     "output_type": "execute_result"
    }
   ],
   "source": [
    "#68 Write a recursive function to reverse the string.\n",
    "\n",
    "def reverse(s):\n",
    "    # Base case\n",
    "    if len(s) <= 1:\n",
    "        return s\n",
    "    \n",
    "    # Recursion\n",
    "    return reverse(s[1:]) + s[0] \n",
    "\n",
    "reverse('abcde')"
   ]
  },
  {
   "cell_type": "code",
   "execution_count": 225,
   "metadata": {},
   "outputs": [],
   "source": [
    "# Write a recursive function to output a list of all the possible permutations of that string.\n",
    "\n",
    "def permute(s):\n",
    "    \n",
    "    out = []\n",
    "    \n",
    "    # Base case\n",
    "    if len(s) == 1:\n",
    "        out = [s]\n",
    "        \n",
    "    else:\n",
    "        # For every letter in string\n",
    "        for i, let in enumerate(s):\n",
    "            \n",
    "            # For all permutations of the string\n",
    "            for perm in permute(s[:i] + s[i+1:]):\n",
    "                \n",
    "                # Print for better understanding the solution\n",
    "                print('\\nIndex is ', i)\n",
    "                print('Current Letter is ', let)\n",
    "                print('perm is ', perm)\n",
    "                \n",
    "                # Add it to output\n",
    "                out += [let + perm]\n",
    "                \n",
    "                print('Current output is ', out)\n",
    "                \n",
    "    return out"
   ]
  },
  {
   "cell_type": "code",
   "execution_count": 226,
   "metadata": {},
   "outputs": [
    {
     "name": "stdout",
     "output_type": "stream",
     "text": [
      "\n",
      "Index is  0\n",
      "Current Letter is  b\n",
      "perm is  c\n",
      "Current output is  ['bc']\n",
      "\n",
      "Index is  1\n",
      "Current Letter is  c\n",
      "perm is  b\n",
      "Current output is  ['bc', 'cb']\n",
      "\n",
      "Index is  0\n",
      "Current Letter is  a\n",
      "perm is  bc\n",
      "Current output is  ['abc']\n",
      "\n",
      "Index is  0\n",
      "Current Letter is  a\n",
      "perm is  cb\n",
      "Current output is  ['abc', 'acb']\n",
      "\n",
      "Index is  0\n",
      "Current Letter is  a\n",
      "perm is  c\n",
      "Current output is  ['ac']\n",
      "\n",
      "Index is  1\n",
      "Current Letter is  c\n",
      "perm is  a\n",
      "Current output is  ['ac', 'ca']\n",
      "\n",
      "Index is  1\n",
      "Current Letter is  b\n",
      "perm is  ac\n",
      "Current output is  ['abc', 'acb', 'bac']\n",
      "\n",
      "Index is  1\n",
      "Current Letter is  b\n",
      "perm is  ca\n",
      "Current output is  ['abc', 'acb', 'bac', 'bca']\n",
      "\n",
      "Index is  0\n",
      "Current Letter is  a\n",
      "perm is  b\n",
      "Current output is  ['ab']\n",
      "\n",
      "Index is  1\n",
      "Current Letter is  b\n",
      "perm is  a\n",
      "Current output is  ['ab', 'ba']\n",
      "\n",
      "Index is  2\n",
      "Current Letter is  c\n",
      "perm is  ab\n",
      "Current output is  ['abc', 'acb', 'bac', 'bca', 'cab']\n",
      "\n",
      "Index is  2\n",
      "Current Letter is  c\n",
      "perm is  ba\n",
      "Current output is  ['abc', 'acb', 'bac', 'bca', 'cab', 'cba']\n"
     ]
    },
    {
     "data": {
      "text/plain": [
       "['abc', 'acb', 'bac', 'bca', 'cab', 'cba']"
      ]
     },
     "execution_count": 226,
     "metadata": {},
     "output_type": "execute_result"
    }
   ],
   "source": [
    "permute('abc')"
   ]
  },
  {
   "cell_type": "code",
   "execution_count": 227,
   "metadata": {},
   "outputs": [],
   "source": [
    "#69 Implement a Fibonacci sequence in 3 ways.\n",
    "# Fibonacci sequence: 0,1,1,2,3,5,8,13,21,....\n",
    "\n",
    "# 1) Iteratively\n",
    "\n",
    "def fib_iter(n):\n",
    "    a,b = 0,1\n",
    "    \n",
    "    for i in range(n):\n",
    "        a, b = b, a+b\n",
    "        \n",
    "    return a"
   ]
  },
  {
   "cell_type": "code",
   "execution_count": 228,
   "metadata": {},
   "outputs": [
    {
     "data": {
      "text/plain": [
       "8"
      ]
     },
     "execution_count": 228,
     "metadata": {},
     "output_type": "execute_result"
    }
   ],
   "source": [
    "fib_iter(6)"
   ]
  },
  {
   "cell_type": "code",
   "execution_count": 229,
   "metadata": {},
   "outputs": [],
   "source": [
    "# 2) Recursively\n",
    "\n",
    "def fib_rec(n):\n",
    "    \n",
    "    # Base case\n",
    "    if n==0 or n==1:\n",
    "        return n\n",
    "    \n",
    "    # Recursive case\n",
    "    else:\n",
    "        return fib_rec(n-1) + fib_rec(n-2)"
   ]
  },
  {
   "cell_type": "code",
   "execution_count": 230,
   "metadata": {},
   "outputs": [
    {
     "data": {
      "text/plain": [
       "55"
      ]
     },
     "execution_count": 230,
     "metadata": {},
     "output_type": "execute_result"
    }
   ],
   "source": [
    "fib_rec(10)"
   ]
  },
  {
   "cell_type": "code",
   "execution_count": 231,
   "metadata": {},
   "outputs": [],
   "source": [
    "# 3) Dynamically (Using Memoization to store results)\n",
    "\n",
    "# Cache\n",
    "n = 10    # set n value\n",
    "cache = [None]*(n+1)\n",
    "\n",
    "def fib_dyn(n):\n",
    "    \n",
    "    # Base case\n",
    "    if n==0 or n==1:\n",
    "        return n\n",
    "    \n",
    "    # Check cache\n",
    "    \n",
    "    if cache[n] != None:\n",
    "        return cache[n]\n",
    "    \n",
    "    # Keep setting cache\n",
    "    cache[n] = fib_dyn(n-1) + fib_dyn(n-2)\n",
    "    \n",
    "    return cache[n]"
   ]
  },
  {
   "cell_type": "code",
   "execution_count": 232,
   "metadata": {},
   "outputs": [
    {
     "data": {
      "text/plain": [
       "55"
      ]
     },
     "execution_count": 232,
     "metadata": {},
     "output_type": "execute_result"
    }
   ],
   "source": [
    "fib_dyn(10)"
   ]
  },
  {
   "cell_type": "code",
   "execution_count": 233,
   "metadata": {},
   "outputs": [
    {
     "name": "stdout",
     "output_type": "stream",
     "text": [
      "438 ns ± 14.3 ns per loop (mean ± std. dev. of 7 runs, 1000000 loops each)\n"
     ]
    }
   ],
   "source": [
    "# Calculating time.\n",
    "\n",
    "%timeit fib_dyn(10)"
   ]
  },
  {
   "cell_type": "code",
   "execution_count": 234,
   "metadata": {},
   "outputs": [
    {
     "name": "stdout",
     "output_type": "stream",
     "text": [
      "64.9 µs ± 16.1 µs per loop (mean ± std. dev. of 7 runs, 10000 loops each)\n"
     ]
    }
   ],
   "source": [
    "%timeit fib_rec(10)"
   ]
  },
  {
   "cell_type": "code",
   "execution_count": 235,
   "metadata": {},
   "outputs": [
    {
     "name": "stdout",
     "output_type": "stream",
     "text": [
      "1.35 µs ± 18.6 ns per loop (mean ± std. dev. of 7 runs, 1000000 loops each)\n"
     ]
    }
   ],
   "source": [
    "%timeit fib_iter(10)"
   ]
  },
  {
   "cell_type": "markdown",
   "metadata": {},
   "source": [
    "Clearly, fib_dyn() function is faster and takes less time in nanoseconds."
   ]
  },
  {
   "cell_type": "code",
   "execution_count": 236,
   "metadata": {},
   "outputs": [
    {
     "name": "stdout",
     "output_type": "stream",
     "text": [
      "{67: ['A', 'G'], 23: ['B', 'H'], 45: ['C'], 12: ['E'], 69: ['F']}\n"
     ]
    }
   ],
   "source": [
    "#70 Swap keys and values in a dictionary.\n",
    "\n",
    "dict1 = {'A':67, 'B': 23, 'C': 45, 'E': 12, 'F': 69, 'G': 67, 'H': 23}\n",
    "\n",
    "new_dict = {}\n",
    "for key,value in (dict1.items()):\n",
    "    if value in new_dict:\n",
    "        new_dict[value].append(key)\n",
    "    else:\n",
    "        new_dict[value] = [key]\n",
    "print(new_dict)"
   ]
  },
  {
   "cell_type": "code",
   "execution_count": 237,
   "metadata": {},
   "outputs": [
    {
     "name": "stdout",
     "output_type": "stream",
     "text": [
      "Second largest number is  45\n",
      "Second smallest number is  27\n",
      "\n",
      "Difference between them is  18\n"
     ]
    }
   ],
   "source": [
    "# Difference between second largest and second smallest number\n",
    "# without using builtin functions\n",
    "\n",
    "def diff(list1):\n",
    "    largest = list1[0]\n",
    "    lowest = list1[0]\n",
    "    largest2 = None\n",
    "    lowest2 = None\n",
    "    for item in list1[1:]:\n",
    "        if item > largest:\n",
    "            largest2 = largest\n",
    "            largest = item\n",
    "        elif largest2 ==None or largest2 < item:\n",
    "            largest2 = item\n",
    "        if item < lowest:\n",
    "            lowest2 = lowest\n",
    "            lowest = item\n",
    "        elif lowest2 == None or lowest2 > item:\n",
    "            lowest2 = item\n",
    "    print('Second largest number is ', largest2)\n",
    "    print('Second smallest number is ', lowest2)\n",
    "    print('\\nDifference between them is ', largest2 - lowest2)\n",
    "    \n",
    "list1= [23,45,27,45,32,65]\n",
    "diff(list1)"
   ]
  },
  {
   "cell_type": "code",
   "execution_count": 238,
   "metadata": {},
   "outputs": [
    {
     "name": "stdout",
     "output_type": "stream",
     "text": [
      "Difference between second largest and second smallest number is  18\n"
     ]
    }
   ],
   "source": [
    "# Method-2 using sort()\n",
    "\n",
    "list1= [23,45,27,45,32,65]\n",
    "\n",
    "list1.sort()\n",
    "\n",
    "diff = list1[-2] - list1[1]\n",
    "\n",
    "print('Difference between second largest and second smallest number is ',diff)"
   ]
  },
  {
   "cell_type": "code",
   "execution_count": 239,
   "metadata": {},
   "outputs": [
    {
     "name": "stdout",
     "output_type": "stream",
     "text": [
      "The maximum occuring character is: a\n"
     ]
    }
   ],
   "source": [
    "#71 Find the maximum occuring character\n",
    "\n",
    "s = 'aaabbccaabaaa'\n",
    "\n",
    "freq = {}\n",
    "for i in s:\n",
    "    if i in freq:\n",
    "        freq[i] += 1\n",
    "    else:\n",
    "        freq[i] = 1\n",
    "    \n",
    "res = max(freq, key=freq.get)\n",
    "print('The maximum occuring character is: '+str(res))"
   ]
  },
  {
   "cell_type": "code",
   "execution_count": 240,
   "metadata": {},
   "outputs": [
    {
     "name": "stdout",
     "output_type": "stream",
     "text": [
      "The maximum occuring character is: a\n"
     ]
    }
   ],
   "source": [
    "# Method-2\n",
    "\n",
    "from collections import Counter\n",
    "\n",
    "s = 'aaabbccaabaaa'\n",
    "\n",
    "res = Counter(s)\n",
    "\n",
    "res = max(res, key = res.get)\n",
    "\n",
    "print('The maximum occuring character is: '+str(res))"
   ]
  },
  {
   "cell_type": "code",
   "execution_count": 241,
   "metadata": {},
   "outputs": [
    {
     "name": "stdout",
     "output_type": "stream",
     "text": [
      "The maximum occuring character is: ['a', 'b']\n"
     ]
    }
   ],
   "source": [
    "# Method - 3\n",
    "\n",
    "#72 Find the maximum occuring character\n",
    "\n",
    "s = 'aaabbccb'\n",
    "\n",
    "freq = {}\n",
    "for i in s:\n",
    "    if i in freq:\n",
    "        freq[i] += 1\n",
    "    else:\n",
    "        freq[i] = 1\n",
    "\n",
    "result = [x for x, y in freq.items() if y ==max(freq.values())]\n",
    "\n",
    "print('The maximum occuring character is: '+str(result))"
   ]
  },
  {
   "cell_type": "code",
   "execution_count": 242,
   "metadata": {},
   "outputs": [
    {
     "name": "stdout",
     "output_type": "stream",
     "text": [
      "Total number of objects created:  3\n"
     ]
    }
   ],
   "source": [
    "# Count number of objects created to the class\n",
    "\n",
    "# Create a class\n",
    "class Student:\n",
    "    \n",
    "    # Initialize class variable\n",
    "    counter = 0\n",
    "    \n",
    "    # Constructor method\n",
    "    def __init__(self, name, age):\n",
    "        \n",
    "        # instance variable or object attributes\n",
    "        self.name = name\n",
    "        self.age = age\n",
    "        \n",
    "        # Incrementing the class variable by 1\n",
    "        # whenever new object is created\n",
    "        Student.counter += 1\n",
    "        \n",
    "# Create an object of Student class with attributes\n",
    "student1 = Student('Harry', 36)\n",
    "student2 = Student('Potter', 35)\n",
    "student3 = Student('Jackie', 60)\n",
    "\n",
    "print('Total number of objects created: ', Student.counter)"
   ]
  },
  {
   "cell_type": "code",
   "execution_count": 1,
   "metadata": {},
   "outputs": [],
   "source": [
    "#72 Check if the three given lengths form a right-angled triangle\n",
    "\n",
    "def right_angled_triangle():\n",
    "    print('Input three integers (sides of a triangle):')\n",
    "\n",
    "    num = list(map(int, input().split()))\n",
    "\n",
    "    x,y,z = sorted(num)\n",
    "\n",
    "    # Condition to check right-angled triangle\n",
    "    if x**2 + y**2 == z**2:\n",
    "        print('It is a right-angled triangle')\n",
    "        \n",
    "    else:\n",
    "        print('Not a right-angled triangle')"
   ]
  },
  {
   "cell_type": "code",
   "execution_count": 2,
   "metadata": {},
   "outputs": [
    {
     "name": "stdout",
     "output_type": "stream",
     "text": [
      "Input three integers (sides of a triangle):\n",
      "4 5 6\n",
      "Not a right-angled triangle\n"
     ]
    }
   ],
   "source": [
    "right_angled_triangle()"
   ]
  },
  {
   "cell_type": "code",
   "execution_count": 3,
   "metadata": {},
   "outputs": [
    {
     "name": "stdout",
     "output_type": "stream",
     "text": [
      "Input three integers (sides of a triangle):\n",
      "3 4 5\n",
      "It is a right-angled triangle\n"
     ]
    }
   ],
   "source": [
    "right_angled_triangle()"
   ]
  },
  {
   "cell_type": "code",
   "execution_count": 4,
   "metadata": {},
   "outputs": [],
   "source": [
    "#73 Coin change problem through Recursion.\n",
    "# Minimum coins required from the list of coins to get the target amount.\n",
    "\n",
    "def rec_coin(target, coins):\n",
    "    \n",
    "    # Default to target value\n",
    "    min_coins = target\n",
    "    \n",
    "    # Check to see if we have a single coin match\n",
    "    if target in coins:\n",
    "        return 1\n",
    "    \n",
    "    else:\n",
    "        \n",
    "        # for every coin value that is <= target\n",
    "        for i in [c for c in coins if c <= target]:\n",
    "            \n",
    "            # Recursive call (add a count coin and subtract from the target)\n",
    "            num_coins = 1 + rec_coin(target-i, coins)\n",
    "            \n",
    "            # Reset minimum if we have a new minimum\n",
    "            if num_coins < min_coins:\n",
    "                \n",
    "                min_coins = num_coins\n",
    "                \n",
    "    return min_coins"
   ]
  },
  {
   "cell_type": "code",
   "execution_count": 5,
   "metadata": {},
   "outputs": [
    {
     "data": {
      "text/plain": [
       "6"
      ]
     },
     "execution_count": 5,
     "metadata": {},
     "output_type": "execute_result"
    }
   ],
   "source": [
    "rec_coin(63, [1,5,10,25])"
   ]
  },
  {
   "cell_type": "code",
   "execution_count": 6,
   "metadata": {},
   "outputs": [],
   "source": [
    "# Using Dynamic Programming\n",
    "\n",
    "def rec_coin_dynam(target, coins, known_results):\n",
    "    # Default output to target\n",
    "    min_coins = target\n",
    "    \n",
    "    # Check to see if we have a single coin match\n",
    "    if target in coins:\n",
    "        known_results[target] = 1\n",
    "        return 1\n",
    "    \n",
    "    # Return a known result if it happens to be greater than 0\n",
    "    elif known_results[target] > 0:\n",
    "        return known_results[target]   \n",
    "    else:\n",
    "        # for every coin value that is <= target\n",
    "        for i in [c for c in coins if c <= target]:\n",
    "            \n",
    "            # Recursive call\n",
    "            num_coins = 1 + rec_coin_dynam(target-i, coins, known_results)\n",
    "            \n",
    "            # Reset minimum if we have a new minimum\n",
    "            if num_coins < min_coins:\n",
    "                min_coins = num_coins\n",
    "                \n",
    "                # Reset the known result\n",
    "                known_results[target] = min_coins\n",
    "                \n",
    "    return min_coins"
   ]
  },
  {
   "cell_type": "code",
   "execution_count": 7,
   "metadata": {},
   "outputs": [
    {
     "data": {
      "text/plain": [
       "8"
      ]
     },
     "execution_count": 7,
     "metadata": {},
     "output_type": "execute_result"
    }
   ],
   "source": [
    "target = 74\n",
    "coins = [1,5,10,25]\n",
    "known_results = [0]*(target+1)\n",
    "\n",
    "rec_coin_dynam(target, coins, known_results)"
   ]
  },
  {
   "cell_type": "markdown",
   "metadata": {},
   "source": [
    "After executing both the methods, dynamic programming is very much faster."
   ]
  },
  {
   "cell_type": "markdown",
   "metadata": {},
   "source": [
    "Clearly, dynamic programming is faster."
   ]
  },
  {
   "cell_type": "code",
   "execution_count": 1,
   "metadata": {},
   "outputs": [],
   "source": [
    "#74 Simple Implementation of Trees\n",
    "# A tree has a root node, left and right child.\n",
    "\n",
    "def Tree(r):\n",
    "    return [r, [], []]\n",
    "    # Root r, empty left and right child\n",
    "    \n",
    "def insertLeft(root, newBranch):\n",
    "    # Taking left child at index 1\n",
    "    t = root.pop(1)\n",
    "    \n",
    "    # If left child has more than 1 elements\n",
    "    if len(t) > 1:\n",
    "        root.insert(1,[newBranch,t,[]])\n",
    "        \n",
    "    # if it has only one element\n",
    "    else:\n",
    "        root.insert(1, [newBranch, [], []])\n",
    "    return root\n",
    "\n",
    "def insertRight(root, newBranch):\n",
    "    # Right child is at index 2\n",
    "    t = root.pop(2)\n",
    "    \n",
    "    if len(t) > 1:\n",
    "        # insert t at the right\n",
    "        root.insert(2,[newBranch,[],t])\n",
    "    else:\n",
    "        root.insert(2,[newBranch,[],[]])\n",
    "    return root"
   ]
  },
  {
   "cell_type": "code",
   "execution_count": 2,
   "metadata": {},
   "outputs": [],
   "source": [
    "def getRootVal(root):\n",
    "    # root is always at index 0\n",
    "    return root[0]\n",
    "\n",
    "def setRootVal(root, newVal):\n",
    "    # Changing the root value to a new value\n",
    "    root[0] = newVal\n",
    "    \n",
    "def getLeftChild(root):\n",
    "    # Left child is at index 1\n",
    "    return root[1]\n",
    "\n",
    "def getRightChild(root):\n",
    "    # Right child is at index 2\n",
    "    return root[2]"
   ]
  },
  {
   "cell_type": "code",
   "execution_count": 3,
   "metadata": {},
   "outputs": [],
   "source": [
    "r = Tree(3)"
   ]
  },
  {
   "cell_type": "code",
   "execution_count": 4,
   "metadata": {},
   "outputs": [
    {
     "data": {
      "text/plain": [
       "[3, [4, [], []], []]"
      ]
     },
     "execution_count": 4,
     "metadata": {},
     "output_type": "execute_result"
    }
   ],
   "source": [
    "insertLeft(r,4)"
   ]
  },
  {
   "cell_type": "code",
   "execution_count": 5,
   "metadata": {},
   "outputs": [
    {
     "data": {
      "text/plain": [
       "[3, [5, [4, [], []], []], []]"
      ]
     },
     "execution_count": 5,
     "metadata": {},
     "output_type": "execute_result"
    }
   ],
   "source": [
    "insertLeft(r,5)"
   ]
  },
  {
   "cell_type": "code",
   "execution_count": 6,
   "metadata": {},
   "outputs": [
    {
     "data": {
      "text/plain": [
       "[3, [5, [4, [], []], []], [6, [], []]]"
      ]
     },
     "execution_count": 6,
     "metadata": {},
     "output_type": "execute_result"
    }
   ],
   "source": [
    "insertRight(r,6)"
   ]
  },
  {
   "cell_type": "code",
   "execution_count": 7,
   "metadata": {},
   "outputs": [
    {
     "data": {
      "text/plain": [
       "[3, [5, [4, [], []], []], [7, [], [6, [], []]]]"
      ]
     },
     "execution_count": 7,
     "metadata": {},
     "output_type": "execute_result"
    }
   ],
   "source": [
    "insertRight(r,7)"
   ]
  },
  {
   "cell_type": "code",
   "execution_count": 8,
   "metadata": {},
   "outputs": [
    {
     "name": "stdout",
     "output_type": "stream",
     "text": [
      "[5, [4, [], []], []]\n"
     ]
    }
   ],
   "source": [
    "# Get Left child of the tree.\n",
    "\n",
    "l = getLeftChild(r)\n",
    "print(l)"
   ]
  },
  {
   "cell_type": "code",
   "execution_count": 9,
   "metadata": {},
   "outputs": [
    {
     "name": "stdout",
     "output_type": "stream",
     "text": [
      "[9, [4, [], []], []]\n"
     ]
    }
   ],
   "source": [
    "# Change root value of left child 'l'\n",
    "setRootVal(l, 9)\n",
    "print(l)"
   ]
  },
  {
   "cell_type": "code",
   "execution_count": 10,
   "metadata": {},
   "outputs": [
    {
     "name": "stdout",
     "output_type": "stream",
     "text": [
      "[3, [9, [4, [], []], []], [7, [], [6, [], []]]]\n"
     ]
    }
   ],
   "source": [
    "# Printing the tree\n",
    "print(r)"
   ]
  },
  {
   "cell_type": "code",
   "execution_count": 11,
   "metadata": {},
   "outputs": [],
   "source": [
    "#75 Implementation of a tree as a class with nodes and references\n",
    "\n",
    "class Tree(object):\n",
    "    def __init__(self,rootobj):\n",
    "        self.key = rootobj\n",
    "        self.leftChild = None\n",
    "        self.rightChild = None\n",
    "        \n",
    "    def insertLeft(self,newnode):\n",
    "        if self.leftChild == None:\n",
    "            self.leftChild = Tree(newnode)\n",
    "        else:\n",
    "            t = Tree(newnode)\n",
    "            t.leftChild = self.leftChild\n",
    "            self.leftChild = t\n",
    "            \n",
    "    def insertRight(self,newnode):\n",
    "        if self.rightChild == None:\n",
    "            self.rightChild = Tree(newnode)\n",
    "        else:\n",
    "            t = Tree(newnode)\n",
    "            t.rightChild = self.rightChild\n",
    "            self.rightChild = t\n",
    "            \n",
    "    def getRightChild(self):\n",
    "        return self.rightChild\n",
    "    \n",
    "    def getLeftChild(self):\n",
    "        return self.leftChild\n",
    "    \n",
    "    def setRootVal(self,obj):\n",
    "        self.key = obj\n",
    "        \n",
    "    def getRootVal(self):\n",
    "        return self.key"
   ]
  },
  {
   "cell_type": "code",
   "execution_count": 12,
   "metadata": {},
   "outputs": [
    {
     "name": "stdout",
     "output_type": "stream",
     "text": [
      "a\n",
      "None\n",
      "<__main__.Tree object at 0x000001FEA5303888>\n",
      "b\n",
      "<__main__.Tree object at 0x000001FEA5229CC8>\n",
      "c\n",
      "hello\n"
     ]
    }
   ],
   "source": [
    "r = Tree('a')\n",
    "print(r.getRootVal())\n",
    "print(r.getLeftChild())\n",
    "r.insertLeft('b')\n",
    "print(r.getLeftChild())\n",
    "print(r.getLeftChild().getRootVal())\n",
    "r.insertRight('c')\n",
    "print(r.getRightChild())\n",
    "print(r.getRightChild().getRootVal())\n",
    "r.getRightChild().setRootVal('hello')\n",
    "print(r.getRightChild().getRootVal())"
   ]
  },
  {
   "cell_type": "code",
   "execution_count": 13,
   "metadata": {},
   "outputs": [],
   "source": [
    "#76 Tree Traversals.\n",
    "\n",
    "# Preorder traversal: We visit the root node first, then recursively do a preorder traversal of the left subtree, \n",
    "# followed by a recursive preorder traversal of the right subtree.\n",
    "\n",
    "def preorder(tree):\n",
    "    # if tree exists\n",
    "    if tree:\n",
    "        print(tree.getRootVal())\n",
    "        preorder(tree.getLeftChild())\n",
    "        preorder(tree.getRightChild())\n",
    "\n",
    "# Postorder traversal: We recursively do a postorder traversal of the left subtree and the right subtree,\n",
    "# followed by a visit to the root node.\n",
    "\n",
    "def postorder(tree):\n",
    "    if tree:\n",
    "        postorder(tree.getLeftChild())\n",
    "        postorder(tree.getRightChild())\n",
    "        print(tree.getRootVal())\n",
    "\n",
    "# Inorder traversal: We recursively do an inorder traversal on the left subtree, visit the root node, \n",
    "# and finally do a recursive inorder traversal of the right subtree.\n",
    "    \n",
    "def inorder(tree):\n",
    "    if tree:\n",
    "        inorder(tree.getLeftChild())\n",
    "        print(tree.getRootVal())\n",
    "        inorder(tree.getRightChild())"
   ]
  },
  {
   "cell_type": "code",
   "execution_count": 14,
   "metadata": {},
   "outputs": [
    {
     "name": "stdout",
     "output_type": "stream",
     "text": [
      "a\n",
      "b\n",
      "hello\n"
     ]
    }
   ],
   "source": [
    "# We have already created a tree 'r' (from the previous problem)\n",
    "\n",
    "preorder(r)"
   ]
  },
  {
   "cell_type": "code",
   "execution_count": 15,
   "metadata": {},
   "outputs": [
    {
     "name": "stdout",
     "output_type": "stream",
     "text": [
      "b\n",
      "hello\n",
      "a\n"
     ]
    }
   ],
   "source": [
    "postorder(r)"
   ]
  },
  {
   "cell_type": "code",
   "execution_count": 16,
   "metadata": {},
   "outputs": [
    {
     "name": "stdout",
     "output_type": "stream",
     "text": [
      "b\n",
      "a\n",
      "hello\n"
     ]
    }
   ],
   "source": [
    "inorder(r)"
   ]
  },
  {
   "cell_type": "code",
   "execution_count": 22,
   "metadata": {},
   "outputs": [],
   "source": [
    "#77 Eliminating repeated lines from a file\n",
    "\n",
    "# creating the output file\n",
    "outputfile = open('outputfile.txt', 'w')\n",
    "\n",
    "# reading the input file (input file which has repeated lines)\n",
    "inputfile = open('inputRepeatedfile.txt', 'r')\n",
    "\n",
    "# holds lines already seen\n",
    "lines_seen = set()\n",
    "\n",
    "for line in inputfile:\n",
    "    if line not in lines_seen:\n",
    "        \n",
    "        # write unique lines in output file\n",
    "        outputfile.write(line)\n",
    "        \n",
    "        # adds unique lines to lines_seen\n",
    "        lines_seen.add(line)\n",
    "        \n",
    "inputfile.close()\n",
    "outputfile.close()"
   ]
  },
  {
   "cell_type": "markdown",
   "metadata": {},
   "source": [
    "#78 You've been given a list of historical stock prices for a single day for Amazon stock. The index of the list represents the timestamp, so the element at index of 0 is the initial price of the stock, the element at index 1 is the next recorded price of the stock for that day, etc. Your task is to write a function that will return the maximum profit possible from the purchase and sale of a single share of Amazon stock on that day. Keep in mind to try to make this as efficient as possible.\n",
    "\n",
    "For example, if you were given the list of stock prices:\n",
    "prices = [12,11,15,3,10]\n",
    "\n",
    "Then your function would return the maximum possible profit, which would be 7 (buying at 3 and selling at 10)."
   ]
  },
  {
   "cell_type": "code",
   "execution_count": 23,
   "metadata": {},
   "outputs": [],
   "source": [
    "def profit(stock_prices):\n",
    "    \n",
    "    # Check length\n",
    "    if len(stock_prices) < 2:\n",
    "        raise Exception('Need atleast two stock prices!')\n",
    "        \n",
    "    # Start minimum price marker at first price\n",
    "    min_stock_price = stock_prices[0]\n",
    "    \n",
    "    # Start off with an initial max profit\n",
    "    max_profit = stock_prices[1] - stock_prices[0]\n",
    "    \n",
    "    # Skip first index of 0\n",
    "    for price in stock_prices[1:]:\n",
    "        \n",
    "        # Check the current price against our minimum for a profit\n",
    "        # comparision against the max_profit\n",
    "        comparision_profit = price - min_stock_price\n",
    "        \n",
    "        # Compare against our max_profit so far\n",
    "        max_profit = max(max_profit, comparision_profit)\n",
    "        \n",
    "        # Check to set the lowest stock price so far\n",
    "        min_stock_price = min(min_stock_price, price)\n",
    "        \n",
    "    return max_profit"
   ]
  },
  {
   "cell_type": "code",
   "execution_count": 24,
   "metadata": {},
   "outputs": [
    {
     "ename": "Exception",
     "evalue": "Need atleast two stock prices!",
     "output_type": "error",
     "traceback": [
      "\u001b[1;31m---------------------------------------------------------------------------\u001b[0m",
      "\u001b[1;31mException\u001b[0m                                 Traceback (most recent call last)",
      "\u001b[1;32m<ipython-input-24-4d965b6402df>\u001b[0m in \u001b[0;36m<module>\u001b[1;34m\u001b[0m\n\u001b[1;32m----> 1\u001b[1;33m \u001b[0mprofit\u001b[0m\u001b[1;33m(\u001b[0m\u001b[1;33m[\u001b[0m\u001b[1;36m1\u001b[0m\u001b[1;33m]\u001b[0m\u001b[1;33m)\u001b[0m\u001b[1;33m\u001b[0m\u001b[1;33m\u001b[0m\u001b[0m\n\u001b[0m",
      "\u001b[1;32m<ipython-input-23-e09560c1d236>\u001b[0m in \u001b[0;36mprofit\u001b[1;34m(stock_prices)\u001b[0m\n\u001b[0;32m      3\u001b[0m     \u001b[1;31m# Check length\u001b[0m\u001b[1;33m\u001b[0m\u001b[1;33m\u001b[0m\u001b[1;33m\u001b[0m\u001b[0m\n\u001b[0;32m      4\u001b[0m     \u001b[1;32mif\u001b[0m \u001b[0mlen\u001b[0m\u001b[1;33m(\u001b[0m\u001b[0mstock_prices\u001b[0m\u001b[1;33m)\u001b[0m \u001b[1;33m<\u001b[0m \u001b[1;36m2\u001b[0m\u001b[1;33m:\u001b[0m\u001b[1;33m\u001b[0m\u001b[1;33m\u001b[0m\u001b[0m\n\u001b[1;32m----> 5\u001b[1;33m         \u001b[1;32mraise\u001b[0m \u001b[0mException\u001b[0m\u001b[1;33m(\u001b[0m\u001b[1;34m'Need atleast two stock prices!'\u001b[0m\u001b[1;33m)\u001b[0m\u001b[1;33m\u001b[0m\u001b[1;33m\u001b[0m\u001b[0m\n\u001b[0m\u001b[0;32m      6\u001b[0m \u001b[1;33m\u001b[0m\u001b[0m\n\u001b[0;32m      7\u001b[0m     \u001b[1;31m# Start minimum price marker at first price\u001b[0m\u001b[1;33m\u001b[0m\u001b[1;33m\u001b[0m\u001b[1;33m\u001b[0m\u001b[0m\n",
      "\u001b[1;31mException\u001b[0m: Need atleast two stock prices!"
     ]
    }
   ],
   "source": [
    "profit([1])"
   ]
  },
  {
   "cell_type": "code",
   "execution_count": 25,
   "metadata": {},
   "outputs": [
    {
     "data": {
      "text/plain": [
       "-1"
      ]
     },
     "execution_count": 25,
     "metadata": {},
     "output_type": "execute_result"
    }
   ],
   "source": [
    "profit([30,22,21,5])"
   ]
  },
  {
   "cell_type": "code",
   "execution_count": 26,
   "metadata": {},
   "outputs": [
    {
     "data": {
      "text/plain": [
       "7"
      ]
     },
     "execution_count": 26,
     "metadata": {},
     "output_type": "execute_result"
    }
   ],
   "source": [
    "profit([12,11,15,3,10])"
   ]
  },
  {
   "cell_type": "markdown",
   "metadata": {},
   "source": [
    "#79 Given a list of integers, write a function that will return a list, in which for each index the element will be the product of all the integers except for the element at that index.\n",
    "\n",
    "For example, an input of [1,2,3,4] would return [24,12,8,6] by performing [2×3×4,1×3×4,1×2×4,1×2×3]\n",
    "\n",
    "Requirements:\n",
    "You can not use division in your answer! Meaning you can't simply multiply all the numbers and then divide by each element for each index!"
   ]
  },
  {
   "cell_type": "code",
   "execution_count": 27,
   "metadata": {},
   "outputs": [],
   "source": [
    "def index_prod(lst): \n",
    "    \n",
    "    # Create an empty output list\n",
    "    output = [None] * len(lst)\n",
    "    \n",
    "    # Set initial product and index for greedy run forward\n",
    "    product = 1\n",
    "    i = 0\n",
    "    \n",
    "    while i < len(lst): \n",
    "        \n",
    "        # Set index as cumulative product\n",
    "        output[i] = product\n",
    "        \n",
    "        # Cumulative product\n",
    "        product *= lst[i]  \n",
    "        \n",
    "        # Move forward\n",
    "        i += 1\n",
    "    #print(output) for better understanding`\n",
    "    # Now for our greedy run backwards\n",
    "    product = 1  \n",
    "    \n",
    "    # Start index at last (taking into account index 0)\n",
    "    i = len(lst) - 1\n",
    "    \n",
    "    # Until the beginning of the list\n",
    "    while i >= 0:\n",
    "        \n",
    "        # Same operations as before, just backwards\n",
    "        output[i] *= product\n",
    "        product *= lst[i]\n",
    "        i -= 1\n",
    "        \n",
    "    return output"
   ]
  },
  {
   "cell_type": "code",
   "execution_count": 28,
   "metadata": {},
   "outputs": [
    {
     "data": {
      "text/plain": [
       "[24, 12, 8, 6]"
      ]
     },
     "execution_count": 28,
     "metadata": {},
     "output_type": "execute_result"
    }
   ],
   "source": [
    "index_prod([1,2,3,4])"
   ]
  },
  {
   "cell_type": "code",
   "execution_count": 29,
   "metadata": {},
   "outputs": [
    {
     "data": {
      "text/plain": [
       "[24, 0, 0, 0, 0]"
      ]
     },
     "execution_count": 29,
     "metadata": {},
     "output_type": "execute_result"
    }
   ],
   "source": [
    "index_prod([0,1,2,3,4])"
   ]
  },
  {
   "cell_type": "code",
   "execution_count": 30,
   "metadata": {},
   "outputs": [],
   "source": [
    "#80 Given two rectangles, determine if they overlap. \n",
    "'''\n",
    "The rectangles are defined as a Dictionary, for example:\n",
    " r1 = {\n",
    "         # x and y coordinates of the bottom-left corner of the rectangle\n",
    "         'x': 2 , 'y': 4,\n",
    "         \n",
    "         # Width and Height of rectangle\n",
    "         'w':5,'h':12}\n",
    "'''\n",
    "# First create a function to detect overlap in a single dimension\n",
    "\n",
    "def calc_overlap(coor1, dim1, coor2, dim2):\n",
    "    \"\"\"\n",
    "    Takes in 2 coordinates and their length in that dimension\n",
    "    \"\"\"\n",
    "    \n",
    "    # Find greater of the two coordinates\n",
    "    # (this is either the point to the most right\n",
    "    #  or the higher point, depending on the dimension)\n",
    "    \n",
    "    # The greater point would be the start of the overlap\n",
    "    greater = max(coor1, coor2)\n",
    "    \n",
    "    # The lower point is the end of the overlap\n",
    "    lower = min(coor1+dim1, coor2+dim2)\n",
    "    \n",
    "    # Return a tuple of Nones if there is no overlap\n",
    "    if greater >= lower:\n",
    "        return (None,None)\n",
    "    \n",
    "    # Otherwise, get the overlap length\n",
    "    overlap = lower - greater\n",
    "    \n",
    "    return (greater, overlap)\n",
    "\n",
    "# Now, use this function to detect if the rectangles overlap\n",
    "\n",
    "def calc_rect_overlap(r1,r2):\n",
    "    \n",
    "    x_overlap, w_overlap = calc_overlap(r1['x'],r1['w'],r2['x'],r2['w'])\n",
    "    \n",
    "    y_overlap, h_overlap = calc_overlap(r1['y'],r1['h'],r2['y'],r2['h'])\n",
    "    \n",
    "    # If either returned None tuples, then there is no overlap\n",
    "    if not w_overlap or not h_overlap:\n",
    "        print('There is no overlap')\n",
    "        return None\n",
    "    \n",
    "    # Else, return the dictionary format of the overlapping rectangle\n",
    "    return {'x':x_overlap, 'y':y_overlap, 'w':w_overlap, 'h':h_overlap}"
   ]
  },
  {
   "cell_type": "code",
   "execution_count": 31,
   "metadata": {},
   "outputs": [
    {
     "data": {
      "text/plain": [
       "{'x': 2, 'y': 5, 'w': 5, 'h': 11}"
      ]
     },
     "execution_count": 31,
     "metadata": {},
     "output_type": "execute_result"
    }
   ],
   "source": [
    "r1 = {'x': 2 , 'y': 4,'w':5,'h':12}\n",
    "r2 = {'x': 1 , 'y': 5,'w':7,'h':14}\n",
    "calc_rect_overlap(r1, r2)"
   ]
  },
  {
   "cell_type": "code",
   "execution_count": 32,
   "metadata": {},
   "outputs": [
    {
     "name": "stdout",
     "output_type": "stream",
     "text": [
      "There is no overlap\n"
     ]
    }
   ],
   "source": [
    "r1 = {'x': 1 , 'y': 1,'w':2,'h':2}\n",
    "r2 = {'x': 3 , 'y': 3,'w':4,'h':4}\n",
    "calc_rect_overlap(r1, r2)"
   ]
  },
  {
   "cell_type": "code",
   "execution_count": 33,
   "metadata": {},
   "outputs": [],
   "source": [
    "#81 Given a dice which rolls 1 to 7 (with uniform probability), simulate a 5 sided dice. \n",
    "\n",
    "# SOLUTION: Just keep rolling the dice if you get a number greater than 5.\n",
    "\n",
    "from random import randint\n",
    "\n",
    "def dice7():\n",
    "    return randint(1,7)\n",
    "\n",
    "def convert7to5():   \n",
    "    # Starting roll\n",
    "    roll = 7\n",
    "    \n",
    "    while roll > 5:\n",
    "        \n",
    "        roll = dice7()\n",
    "        print('dice7() produced a roll of ', roll)\n",
    "        \n",
    "    print('Your final returned roll is below:')\n",
    "    return roll"
   ]
  },
  {
   "cell_type": "code",
   "execution_count": 34,
   "metadata": {},
   "outputs": [
    {
     "name": "stdout",
     "output_type": "stream",
     "text": [
      "dice7() produced a roll of  6\n",
      "dice7() produced a roll of  3\n",
      "Your final returned roll is below:\n"
     ]
    },
    {
     "data": {
      "text/plain": [
       "3"
      ]
     },
     "execution_count": 34,
     "metadata": {},
     "output_type": "execute_result"
    }
   ],
   "source": [
    "convert7to5()"
   ]
  },
  {
   "cell_type": "code",
   "execution_count": 35,
   "metadata": {},
   "outputs": [],
   "source": [
    "# Given a dice which rolls from 1 to 5, simulate a uniform 7 sided dice.\n",
    "'''\n",
    " SOLUTION: Because the 5 sided dice cannot produce 7 possible outcomes on a single roll, we immediately know that we need to\n",
    "roll the dice at least twice. If we roll the dice twice we have 25 possible combinations of the results of the two rolls. \n",
    "While 25 is not divisible by 7, 21 is. \n",
    "\n",
    "So our final solution is to roll the dice twice. Check the manipulated range from 1 to 25, if its greater than 21, do a re-roll.\n",
    "'''\n",
    "\n",
    "from random import randint\n",
    "\n",
    "def dice5():\n",
    "    return randint(1,5)\n",
    "\n",
    "def convert5to7():\n",
    "    \n",
    "    # For constant re-roll.\n",
    "    while True:\n",
    "        \n",
    "        # Roll the dice twice\n",
    "        roll_1 = dice5()\n",
    "        roll_2 = dice5()\n",
    "        \n",
    "        print('The rolls were {} and {}'.format(roll_1,roll_2))\n",
    "        \n",
    "        # Convert the combination to the range 1 to 25\n",
    "        # First roll should correspond with a value of 0, 5, 10, 15 and 20\n",
    "        num = ( (roll_1 - 1) * 5 ) + ( roll_2 )\n",
    "        \n",
    "        print('The converted range number was: ',num)\n",
    "        \n",
    "        if num > 21:\n",
    "            \n",
    "            # re-roll if we are out of range\n",
    "            continue\n",
    "            \n",
    "        # The final converted roll is\n",
    "        return num%7 + 1"
   ]
  },
  {
   "cell_type": "code",
   "execution_count": 36,
   "metadata": {},
   "outputs": [
    {
     "name": "stdout",
     "output_type": "stream",
     "text": [
      "The rolls were 3 and 4\n",
      "The converted range number was:  14\n"
     ]
    },
    {
     "data": {
      "text/plain": [
       "1"
      ]
     },
     "execution_count": 36,
     "metadata": {},
     "output_type": "execute_result"
    }
   ],
   "source": [
    "convert5to7()"
   ]
  },
  {
   "cell_type": "code",
   "execution_count": 37,
   "metadata": {},
   "outputs": [
    {
     "name": "stdout",
     "output_type": "stream",
     "text": [
      "The rolls were 3 and 3\n",
      "The converted range number was:  13\n"
     ]
    },
    {
     "data": {
      "text/plain": [
       "7"
      ]
     },
     "execution_count": 37,
     "metadata": {},
     "output_type": "execute_result"
    }
   ],
   "source": [
    "convert5to7()"
   ]
  },
  {
   "cell_type": "code",
   "execution_count": 38,
   "metadata": {},
   "outputs": [],
   "source": [
    "#82 Find the squareroot of a given number rounded down to the nearest integer, without using the sqrt function. \n",
    "# For example, squareroot of a number between [9, 15] should return 3, and [16, 24] should be 4.\n",
    "\n",
    "def solution(num):\n",
    "    if num < 0:\n",
    "        raise ValueError\n",
    "    if num == 1:\n",
    "        return 1\n",
    "    \n",
    "    # squareroot of a number N always lies between 0 and N/2\n",
    "    for k in range(1 + int(num/2)):\n",
    "        \n",
    "        if k**2 == num:\n",
    "            return k\n",
    "        elif k**2 > num:\n",
    "            return k-1\n",
    "    return k\n",
    "\n",
    "# Complexity of this approach is O(N)"
   ]
  },
  {
   "cell_type": "code",
   "execution_count": 39,
   "metadata": {},
   "outputs": [
    {
     "data": {
      "text/plain": [
       "1"
      ]
     },
     "execution_count": 39,
     "metadata": {},
     "output_type": "execute_result"
    }
   ],
   "source": [
    "solution(2)"
   ]
  },
  {
   "cell_type": "code",
   "execution_count": 40,
   "metadata": {},
   "outputs": [
    {
     "data": {
      "text/plain": [
       "3"
      ]
     },
     "execution_count": 40,
     "metadata": {},
     "output_type": "execute_result"
    }
   ],
   "source": [
    "solution(14)"
   ]
  },
  {
   "cell_type": "code",
   "execution_count": 41,
   "metadata": {},
   "outputs": [
    {
     "data": {
      "text/plain": [
       "4"
      ]
     },
     "execution_count": 41,
     "metadata": {},
     "output_type": "execute_result"
    }
   ],
   "source": [
    "solution(16)"
   ]
  },
  {
   "cell_type": "code",
   "execution_count": 42,
   "metadata": {},
   "outputs": [],
   "source": [
    "def better_solution(num):\n",
    "    if num < 0:\n",
    "        raise ValueError\n",
    "    if num == 1:\n",
    "        return 1\n",
    "    \n",
    "    low = 0\n",
    "    high = 1+ (num/2)\n",
    "    \n",
    "    while low+1 < high:\n",
    "        mid = low + int(high-low)//2\n",
    "        square = mid**2\n",
    "        \n",
    "        if square == num:\n",
    "            return mid\n",
    "        elif square < num:\n",
    "            low = mid\n",
    "        else:\n",
    "            high = mid\n",
    "            \n",
    "    return low\n",
    "\n",
    "# Its complexity is O(log N) which is better than the previous one."
   ]
  },
  {
   "cell_type": "code",
   "execution_count": 43,
   "metadata": {},
   "outputs": [
    {
     "data": {
      "text/plain": [
       "3"
      ]
     },
     "execution_count": 43,
     "metadata": {},
     "output_type": "execute_result"
    }
   ],
   "source": [
    "better_solution(14)"
   ]
  },
  {
   "cell_type": "code",
   "execution_count": 44,
   "metadata": {},
   "outputs": [
    {
     "data": {
      "text/plain": [
       "3"
      ]
     },
     "execution_count": 44,
     "metadata": {},
     "output_type": "execute_result"
    }
   ],
   "source": [
    "better_solution(10)"
   ]
  },
  {
   "cell_type": "code",
   "execution_count": 45,
   "metadata": {},
   "outputs": [
    {
     "data": {
      "text/plain": [
       "4"
      ]
     },
     "execution_count": 45,
     "metadata": {},
     "output_type": "execute_result"
    }
   ],
   "source": [
    "better_solution(16)"
   ]
  },
  {
   "cell_type": "code",
   "execution_count": 46,
   "metadata": {},
   "outputs": [],
   "source": [
    "#83 Given a list of integers, find the largest product you could make from 3 integers in the list.\n",
    "# SOLUTION: We use a greedy approach and keep track of some numbers.\n",
    "\n",
    "def solution(lst):\n",
    "    # Start at index 2 (3rd element) and assign highest and lowest\n",
    "    # based off of first two elements\n",
    "    \n",
    "    # Highest number so far\n",
    "    high = max(lst[0], lst[1])\n",
    "    \n",
    "    # Lowest number so far\n",
    "    low = min(lst[0], lst[1])\n",
    "    \n",
    "    # Initiate highest and lowest products of two numbers\n",
    "    high_prod2 = lst[0]*lst[1]\n",
    "    low_prod2 = lst[0]*lst[1]\n",
    "    \n",
    "    # Initiate highest product of 3 numbers\n",
    "    high_prod3 = lst[0]*lst[1]*lst[2]\n",
    "    \n",
    "    # Iterate through the list\n",
    "    for num in lst[2:]:\n",
    "        \n",
    "        # Compare possible highest product of 3 numbers\n",
    "        high_prod3 = max(high_prod3, num*high_prod2, num*low_prod2)\n",
    "        \n",
    "        # Check for possible new highest product of 2 numbers\n",
    "        high_prod2 = max(high_prod2, num*high, num*low)\n",
    "        \n",
    "        # Check for possible new lowest product of 2 numbers\n",
    "        low_prod2= min(low_prod2, num*high, num*low)\n",
    "        \n",
    "        # Check for new possible high\n",
    "        high = max(high, num)\n",
    "        \n",
    "        # Check for new possible low\n",
    "        low = min(low, num)\n",
    "        \n",
    "    return high_prod3"
   ]
  },
  {
   "cell_type": "code",
   "execution_count": 47,
   "metadata": {},
   "outputs": [
    {
     "data": {
      "text/plain": [
       "763092"
      ]
     },
     "execution_count": 47,
     "metadata": {},
     "output_type": "execute_result"
    }
   ],
   "source": [
    "l = [99,-82,82,40,75,-24,39, -82, 5, 30, -25, -94, 93, -23, 48, 50, 49,-81,41,63]\n",
    "\n",
    "solution(l)"
   ]
  },
  {
   "cell_type": "markdown",
   "metadata": {},
   "source": [
    "Through the use of a greedy approach, we have been able to complete the problem in O(n) time."
   ]
  },
  {
   "cell_type": "code",
   "execution_count": 48,
   "metadata": {},
   "outputs": [],
   "source": [
    "#84 Write a function that given a target amount of money and a list of possible coin denominations, \n",
    "# returns the number of ways to make change for the target amount using the coin denominations.\n",
    "\n",
    "def solution(n, coins):\n",
    "    \n",
    "    # Set up our array for tracking results\n",
    "    arr = [1] + [0] * n\n",
    "    \n",
    "    for coin in coins:\n",
    "        for i in range(coin, n + 1):\n",
    "            arr[i] += arr[i-coin]\n",
    "            \n",
    "    if n == 0:\n",
    "        return 0\n",
    "    else:\n",
    "        return arr[n]"
   ]
  },
  {
   "cell_type": "code",
   "execution_count": 49,
   "metadata": {},
   "outputs": [
    {
     "data": {
      "text/plain": [
       "884"
      ]
     },
     "execution_count": 49,
     "metadata": {},
     "output_type": "execute_result"
    }
   ],
   "source": [
    "solution(100, [1,2,3])"
   ]
  },
  {
   "cell_type": "code",
   "execution_count": 50,
   "metadata": {},
   "outputs": [
    {
     "data": {
      "text/plain": [
       "73"
      ]
     },
     "execution_count": 50,
     "metadata": {},
     "output_type": "execute_result"
    }
   ],
   "source": [
    "solution(63, [1,5,10,25])"
   ]
  },
  {
   "cell_type": "code",
   "execution_count": 51,
   "metadata": {},
   "outputs": [],
   "source": [
    "#85 Given a list of integers and a target number, write a function that returns a boolean \n",
    "# indicating if its possible to sum two integers from the list to reach the target number.\n",
    "\n",
    "def solution(lst, target):\n",
    "    \n",
    "    # Create set to keep track of duplicates\n",
    "    seen = set()\n",
    "    \n",
    "    # We want to find if there is a num2 that sums with num to reach the target\n",
    "    \n",
    "    for num in lst:\n",
    "        num2 = target - num\n",
    "        \n",
    "        if num2 in seen:\n",
    "            return True\n",
    "        \n",
    "        seen.add(num)\n",
    "        \n",
    "    # If we never find a match which creates the sum\n",
    "    return False"
   ]
  },
  {
   "cell_type": "code",
   "execution_count": 52,
   "metadata": {},
   "outputs": [
    {
     "data": {
      "text/plain": [
       "True"
      ]
     },
     "execution_count": 52,
     "metadata": {},
     "output_type": "execute_result"
    }
   ],
   "source": [
    "solution([1,3,5,1,7],4)"
   ]
  },
  {
   "cell_type": "code",
   "execution_count": 53,
   "metadata": {},
   "outputs": [
    {
     "data": {
      "text/plain": [
       "False"
      ]
     },
     "execution_count": 53,
     "metadata": {},
     "output_type": "execute_result"
    }
   ],
   "source": [
    "solution([1,3,5,1,7],14)"
   ]
  },
  {
   "cell_type": "code",
   "execution_count": 54,
   "metadata": {},
   "outputs": [],
   "source": [
    "#86 Given a list of account ID numbers (integers) which contains duplicates , find the one unique integer. \n",
    "# The list is guaranteed to only have one unique integer.\n",
    "# Requirements: Do not use built-in Python functions or methods.\n",
    "\n",
    "def solution(id_list):\n",
    "    \n",
    "    # Initiate unique id\n",
    "    unique_id = 0\n",
    "    \n",
    "    # XOR for every id in id list\n",
    "    for i in id_list:\n",
    "        \n",
    "        # Print for better understanding\n",
    "        print('Current id: ',i)\n",
    "        print('Current unique id: ',unique_id)\n",
    "        print('Result of XOR: ',unique_id^i)\n",
    "        \n",
    "        # XOR operation\n",
    "        unique_id ^= i\n",
    "        \n",
    "    return unique_id"
   ]
  },
  {
   "cell_type": "code",
   "execution_count": 55,
   "metadata": {},
   "outputs": [
    {
     "name": "stdout",
     "output_type": "stream",
     "text": [
      "Current id:  1\n",
      "Current unique id:  0\n",
      "Result of XOR:  1\n",
      "Current id:  2\n",
      "Current unique id:  1\n",
      "Result of XOR:  3\n",
      "Current id:  1\n",
      "Current unique id:  3\n",
      "Result of XOR:  2\n",
      "Current id:  3\n",
      "Current unique id:  2\n",
      "Result of XOR:  1\n",
      "Current id:  2\n",
      "Current unique id:  1\n",
      "Result of XOR:  3\n"
     ]
    },
    {
     "data": {
      "text/plain": [
       "3"
      ]
     },
     "execution_count": 55,
     "metadata": {},
     "output_type": "execute_result"
    }
   ],
   "source": [
    "solution([1,2,1,3,2])"
   ]
  },
  {
   "cell_type": "code",
   "execution_count": 56,
   "metadata": {},
   "outputs": [],
   "source": [
    "# Create a function that takes in a list of unsorted prices (integers) and a maximum possible price value, \n",
    "# and return a sorted list of prices.\n",
    "\n",
    "def solution(unsorted_prices, max_price):\n",
    "    \n",
    "    # list of 0s at indices 0 to max_price\n",
    "    prices_to_counts = [0] * (max_price+1)\n",
    "    \n",
    "    # populate prices\n",
    "    for price in unsorted_prices:\n",
    "        prices_to_counts[price] += 1\n",
    "        \n",
    "    # populate final sorted prices\n",
    "    sorted_prices = []\n",
    "    \n",
    "    # for each price in prices_to_counts\n",
    "    for price,count in enumerate(prices_to_counts):\n",
    "        \n",
    "        # for the number of times the element occurs\n",
    "        for time in range(count):\n",
    "            \n",
    "            # add it to the sorted price list\n",
    "            sorted_prices.append(price)\n",
    "            \n",
    "    return sorted_prices"
   ]
  },
  {
   "cell_type": "code",
   "execution_count": 57,
   "metadata": {},
   "outputs": [
    {
     "data": {
      "text/plain": [
       "[2, 3, 4, 6, 7, 8, 9]"
      ]
     },
     "execution_count": 57,
     "metadata": {},
     "output_type": "execute_result"
    }
   ],
   "source": [
    "solution([4,6,2,7,3,8,9],9)"
   ]
  },
  {
   "cell_type": "code",
   "execution_count": 59,
   "metadata": {},
   "outputs": [
    {
     "name": "stdout",
     "output_type": "stream",
     "text": [
      "C:\\Users\\Documents\\one.pdf\n",
      "C:\\Users\\Documents\\two.pdf\n"
     ]
    }
   ],
   "source": [
    "#87 Print the path of all pdf files in a directory.\n",
    "\n",
    "import os\n",
    "\n",
    "# Traverse whole directory\n",
    "for root, dirs, files in os.walk(r'C:\\Users\\Documents'):\n",
    "    \n",
    "    # Select all the files\n",
    "    for file in files:\n",
    "        \n",
    "        # Check the extension of files\n",
    "        if file.endswith('.pdf'):\n",
    "            \n",
    "            # Print whole path of files\n",
    "            print(os.path.join(root, file))"
   ]
  },
  {
   "cell_type": "code",
   "execution_count": 60,
   "metadata": {},
   "outputs": [
    {
     "name": "stdout",
     "output_type": "stream",
     "text": [
      "Python is everywhere - exists in the file in line 2.\n"
     ]
    }
   ],
   "source": [
    "# Check if a string exists in a file.\n",
    "\n",
    "string = 'Python is everywhere'\n",
    "\n",
    "# Open the file in read mode\n",
    "file = open('sample.txt', 'r')\n",
    "\n",
    "# Initialize\n",
    "flag = 0\n",
    "index = 0\n",
    "\n",
    "for line in file:  \n",
    "    index += 1\n",
    "    \n",
    "    if string in line:       \n",
    "        flag = 1\n",
    "        break  \n",
    "\n",
    "if flag == 0:\n",
    "    print('The string - {} does not exist in the file.'.format(string))\n",
    "    \n",
    "else:\n",
    "    print('{} - exists in the file in line {}.'.format(string, index))\n",
    "\n",
    "file.close()"
   ]
  },
  {
   "cell_type": "code",
   "execution_count": 61,
   "metadata": {},
   "outputs": [
    {
     "name": "stdout",
     "output_type": "stream",
     "text": [
      "Engineering departments are CSE, ECE, EEE, MECH\n",
      "Medical departments are MBBS, MS, MD, BPT\n",
      "Arts departments are B.A, B.sc, B.com, B.B.A.\n"
     ]
    }
   ],
   "source": [
    "#88 Abstract classes in Python\n",
    "'''\n",
    "An abstract class allows you to create a set of methods that must be created within any child classes built from the abstract\n",
    "class. \n",
    "A class which contains one or more abstract methods is called an abstract class. \n",
    "An abstract method is a method that has a declaration but does not have an implementation.\n",
    "Usage: Define a common API for a set of subclasses.\n",
    "How it works? Python comes with a module that provides the base for defining Abstract Base classes(ABC).\n",
    "A method becomes abstract when decorated with the keyword @abstractmethod.\n",
    "'''\n",
    "\n",
    "from abc import ABC, abstractmethod\n",
    "\n",
    "class College(ABC):  \n",
    "    @abstractmethod\n",
    "    def department(self):\n",
    "        pass\n",
    "    \n",
    "class Engineering(College):  \n",
    "    # overriding abstract method\n",
    "    def department(self):\n",
    "        print('Engineering departments are CSE, ECE, EEE, MECH')\n",
    "        \n",
    "class Medical(College):   \n",
    "    # overriding abstract method\n",
    "    def department(self):\n",
    "        print('Medical departments are MBBS, MS, MD, BPT')\n",
    "        \n",
    "class Arts(College):  \n",
    "    # overriding abstract method\n",
    "    def department(self):\n",
    "        print('Arts departments are B.A, B.sc, B.com, B.B.A.')\n",
    "        \n",
    "e = Engineering()\n",
    "e.department()\n",
    "\n",
    "m = Medical()\n",
    "m.department()\n",
    "\n",
    "a = Arts()\n",
    "a.department()"
   ]
  },
  {
   "cell_type": "code",
   "execution_count": 62,
   "metadata": {},
   "outputs": [
    {
     "name": "stdout",
     "output_type": "stream",
     "text": [
      "True\n",
      "True\n",
      "Engineering departments are CSE, ECE, EEE, MECH\n"
     ]
    }
   ],
   "source": [
    "# Implementation of abstract class through Subclassing\n",
    "\n",
    "class college:   \n",
    "    def department(self):\n",
    "        print('Departments:')\n",
    "    \n",
    "class engineering(college):   \n",
    "    def department(self):\n",
    "        print('Engineering departments are CSE, ECE, EEE, MECH')\n",
    "    \n",
    "print(issubclass(engineering, college))\n",
    "print(isinstance(engineering(), college))\n",
    "\n",
    "e = engineering()\n",
    "e.department()"
   ]
  },
  {
   "cell_type": "code",
   "execution_count": 63,
   "metadata": {},
   "outputs": [
    {
     "name": "stdout",
     "output_type": "stream",
     "text": [
      "Departments:\n",
      "Engineering departments are CSE, ECE, EEE, MECH\n"
     ]
    }
   ],
   "source": [
    "# Invoking a method using super()\n",
    "\n",
    "class college:   \n",
    "    def department(self):\n",
    "        print('Departments:')\n",
    "    \n",
    "class engineering(college): \n",
    "    \n",
    "    def department(self):\n",
    "        \n",
    "        super().department()\n",
    "        print('Engineering departments are CSE, ECE, EEE, MECH')\n",
    "        \n",
    "e = engineering()\n",
    "e.department()"
   ]
  },
  {
   "cell_type": "code",
   "execution_count": 64,
   "metadata": {},
   "outputs": [
    {
     "name": "stdout",
     "output_type": "stream",
     "text": [
      "Can't instantiate abstract class College with abstract methods department\n",
      " MBBS, MD, MS, BPT.\n"
     ]
    }
   ],
   "source": [
    "# Abstract classes include attributes in addition to methods, \n",
    "# you can require the attributes in concrete classes by defining them with @abstractproperty.\n",
    "\n",
    "import abc\n",
    "from abc import ABC, abstractmethod\n",
    "\n",
    "class College(ABC):   \n",
    "    @abc.abstractproperty\n",
    "    def department(self):\n",
    "        return \"Departments:\"\n",
    "    \n",
    "class Medical(College):   \n",
    "    @property\n",
    "    def department(self):\n",
    "        return \" MBBS, MD, MS, BPT.\"\n",
    "    \n",
    "try:\n",
    "    c = College()\n",
    "    print(c.department)\n",
    "except Exception as e:\n",
    "    print(e)\n",
    "    m = Medical()\n",
    "    print(m.department)"
   ]
  },
  {
   "cell_type": "markdown",
   "metadata": {},
   "source": [
    "Base class cannot be instantiated because it has only an abstract version of the property getter method. "
   ]
  },
  {
   "cell_type": "code",
   "execution_count": 65,
   "metadata": {},
   "outputs": [
    {
     "name": "stdout",
     "output_type": "stream",
     "text": [
      "[1, 5, 4, 2, 3, 1, 14, 20, 20, 54, 87, 98, 32]\n"
     ]
    }
   ],
   "source": [
    "#89 Three way partitioning of an array around a given range.\n",
    "\n",
    "def threeWay(arr, lowVal, highVal):\n",
    "    \n",
    "    # Divide array in three parts\n",
    "    first = [num for num in arr if num < lowVal]\n",
    "    second = [num for num in arr if (num >= lowVal and num <= highVal)]\n",
    "    third = [num for num in arr if num > highVal]\n",
    "    \n",
    "    # Concatenate all three parts\n",
    "    print(first + second + third)\n",
    "    \n",
    "    \n",
    "if __name__==\"__main__\":\n",
    "    array = [1, 14, 5, 20, 4, 2, 54, 20, 87, 98, 3, 1, 32]\n",
    "    lowValue = 14\n",
    "    highValue = 20\n",
    "    threeWay(array, lowValue, highValue)"
   ]
  },
  {
   "cell_type": "code",
   "execution_count": 66,
   "metadata": {},
   "outputs": [
    {
     "name": "stdout",
     "output_type": "stream",
     "text": [
      "[1, 3, 5, 7, 8, 6, 4, 2]\n"
     ]
    }
   ],
   "source": [
    "# Sort even-placed elements in increasing order and odd-placed elements in decreasing order.\n",
    "\n",
    "def evenOddSort(arr):\n",
    "    \n",
    "    # Separate even and odd indexed elements\n",
    "    evens = [arr[i] for i in range(len(arr)) if i%2==0]\n",
    "    odds = [arr[i] for i in range(len(arr)) if i%2!=0]\n",
    "    \n",
    "    # Sort evens in ascending and odds in descending order\n",
    "    print(sorted(evens) + sorted(odds, reverse=True))\n",
    "    \n",
    "if __name__==\"__main__\":\n",
    "    list1 = [1,2,3,4,5,6,7,8]\n",
    "    evenOddSort(list1)"
   ]
  },
  {
   "cell_type": "code",
   "execution_count": 67,
   "metadata": {},
   "outputs": [],
   "source": [
    "#90 Implementation of a Graph (as an Adjacency list)."
   ]
  },
  {
   "cell_type": "markdown",
   "metadata": {},
   "source": [
    "A graph consists of a finite set of vertices or nodes and a set of edges connecting these vertices. Two vertices are said to be adjacent if they are connected to each other by the same edge.\n",
    "\n",
    "Directed graph: A graph where all the edges have a direction indicating what is the start vertex and what is the end vertex.\n",
    "\n",
    "Weighted graph: Edges of the graph has weights."
   ]
  },
  {
   "cell_type": "markdown",
   "metadata": {},
   "source": [
    "Using dictionaries, it is easy to implement the adjacency list in Python. In our implementation of the Graph abstract data type we will create two classes: Graph, which holds the master list of vertices, and Vertex, which will represent each vertex in the graph.\n",
    "\n",
    "Each Vertex uses a dictionary to keep track of the vertices to which it is connected, and the weight of each edge. This dictionary is called connectedTo. The constructor simply initializes the id, which will typically be a string, and the connectedTo dictionary. The addNeighbor method is used add a connection from this vertex to another. The getConnections method returns all of the vertices in the adjacency list, as represented by the connectedTo instance variable. The getWeight method returns the weight of the edge from this vertex to the vertex passed as a parameter."
   ]
  },
  {
   "cell_type": "code",
   "execution_count": 68,
   "metadata": {},
   "outputs": [],
   "source": [
    "class Vertex:\n",
    "    def __init__(self, key):\n",
    "        self.id = key\n",
    "        self.connectedTo = {}\n",
    "        \n",
    "    def addNeighbor(self, nbr, weight=0):\n",
    "        self.connectedTo[nbr] = weight\n",
    "        \n",
    "    def __str__(self):\n",
    "        return str(self.id) + ' connectedTo ' + str([x.id for x in self.connectedTo])\n",
    "    \n",
    "    def getConnection(self):\n",
    "        return self.connectedTo.keys()\n",
    "    \n",
    "    def getId(self):\n",
    "        return self.id\n",
    "    \n",
    "    def getWeight(self, nbr):\n",
    "        return self.connectedTo[nbr]"
   ]
  },
  {
   "cell_type": "markdown",
   "metadata": {},
   "source": [
    "In order to implement a Graph as an Adjacency List what we need to do is define the methods our Adjacency List object will have:\n",
    "\n",
    "Graph() creates a new, empty graph.\n",
    "\n",
    "addVertex(vert) adds an instance of Vertex to the graph.\n",
    "\n",
    "addEdge(fromVert, toVert) Adds a new, directed edge to the graph that connects two vertices.\n",
    "\n",
    "addEdge(fromVert, toVert, weight) Adds a new, weighted, directed edge to the graph that connects two vertices.\n",
    "\n",
    "getVertex(vertKey) finds the vertex in the graph named vertKey.\n",
    "\n",
    "getVertices() returns the list of all vertices in the graph.\n",
    "\n",
    "in returns True for a statement of the form vertex in graph, if the given vertex is in the graph, False otherwise."
   ]
  },
  {
   "cell_type": "code",
   "execution_count": 69,
   "metadata": {},
   "outputs": [],
   "source": [
    "class Graph:\n",
    "    def __init__(self):\n",
    "        self.vertList = {}\n",
    "        self.numVertices = 0\n",
    "        \n",
    "    def addVertex(self, key):\n",
    "        self.numVertices += self.numVertices\n",
    "        newVertex = Vertex(key)\n",
    "        self.vertList[key] = newVertex\n",
    "        return newVertex\n",
    "    \n",
    "    def getVertex(self, key):\n",
    "        if key in self.vertList:\n",
    "            return self.vertList[key]\n",
    "        else:\n",
    "            return None\n",
    "        \n",
    "    def addEdge(self, fromVert, toVert, weight=0):\n",
    "        if fromVert not in self.vertList:\n",
    "            nv = self.addVertex(fromVert)          \n",
    "        if toVert not in self.vertList:\n",
    "            nv = self.addVertex(toVert)   \n",
    "        self.vertList[fromVert].addNeighbor(self.vertList[toVert], weight)\n",
    "        \n",
    "    def __iter__(self):\n",
    "        return iter(self.vertList.values())\n",
    "    \n",
    "    def __contains__(self):\n",
    "        return n in self.vertList"
   ]
  },
  {
   "cell_type": "code",
   "execution_count": 70,
   "metadata": {},
   "outputs": [],
   "source": [
    "g = Graph()\n",
    "for i in range(6):\n",
    "    g.addVertex(i)"
   ]
  },
  {
   "cell_type": "code",
   "execution_count": 71,
   "metadata": {},
   "outputs": [
    {
     "data": {
      "text/plain": [
       "{0: <__main__.Vertex at 0x1fea540cc88>,\n",
       " 1: <__main__.Vertex at 0x1fea540cc48>,\n",
       " 2: <__main__.Vertex at 0x1fea540cb48>,\n",
       " 3: <__main__.Vertex at 0x1fea540ce48>,\n",
       " 4: <__main__.Vertex at 0x1fea540ce08>,\n",
       " 5: <__main__.Vertex at 0x1fea540cdc8>}"
      ]
     },
     "execution_count": 71,
     "metadata": {},
     "output_type": "execute_result"
    }
   ],
   "source": [
    "g.vertList"
   ]
  },
  {
   "cell_type": "code",
   "execution_count": 72,
   "metadata": {},
   "outputs": [],
   "source": [
    "g.addEdge(0,1,2)"
   ]
  },
  {
   "cell_type": "code",
   "execution_count": 73,
   "metadata": {},
   "outputs": [],
   "source": [
    "g.addEdge(2,3,1)"
   ]
  },
  {
   "cell_type": "code",
   "execution_count": 74,
   "metadata": {},
   "outputs": [
    {
     "name": "stdout",
     "output_type": "stream",
     "text": [
      "0 connectedTo [1]\n",
      "dict_keys([<__main__.Vertex object at 0x000001FEA540CC48>])\n",
      "\n",
      "\n",
      "1 connectedTo []\n",
      "dict_keys([])\n",
      "\n",
      "\n",
      "2 connectedTo [3]\n",
      "dict_keys([<__main__.Vertex object at 0x000001FEA540CE48>])\n",
      "\n",
      "\n",
      "3 connectedTo []\n",
      "dict_keys([])\n",
      "\n",
      "\n",
      "4 connectedTo []\n",
      "dict_keys([])\n",
      "\n",
      "\n",
      "5 connectedTo []\n",
      "dict_keys([])\n",
      "\n",
      "\n"
     ]
    }
   ],
   "source": [
    "for vertex in g:\n",
    "    print(vertex)\n",
    "    print(vertex.getConnection())\n",
    "    print('\\n')"
   ]
  },
  {
   "cell_type": "code",
   "execution_count": 75,
   "metadata": {},
   "outputs": [
    {
     "name": "stdout",
     "output_type": "stream",
     "text": [
      "r\n"
     ]
    }
   ],
   "source": [
    "#91 Find k'th non repeating character in string.\n",
    "\n",
    "from collections import OrderedDict\n",
    "\n",
    "def kthRepeating(input, k):\n",
    "    \n",
    "    dict = OrderedDict.fromkeys(input, 0)\n",
    "    \n",
    "    for ch in input:\n",
    "        dict[ch] += 1\n",
    "        \n",
    "    nonRepeatDict = [key for (key,value) in dict.items() if value==1]\n",
    "    \n",
    "    if len(nonRepeatDict) < k:\n",
    "        return 'Less than k non-repeating characters in input.'\n",
    "    else:\n",
    "        return nonRepeatDict[k-1]\n",
    "    \n",
    "if __name__==\"__main__\":\n",
    "    input = 'geeksforgeeks'\n",
    "    k = 3\n",
    "    print(kthRepeating(input, k))"
   ]
  },
  {
   "cell_type": "code",
   "execution_count": 76,
   "metadata": {},
   "outputs": [
    {
     "name": "stdout",
     "output_type": "stream",
     "text": [
      "The converted dictionary: [{'Name': 'Bill', 'Height': 5.1, 'Weight': 65}, {'Name': 'Sundar', 'Height': 6, 'Weight': 60}, {'Name': 'Mark', 'Height': 6.2, 'Weight': 70}]\n"
     ]
    }
   ],
   "source": [
    "# Convert nested tuple to custom key dictionary.\n",
    "# Method - 1\n",
    "\n",
    "tuple1 = (('Bill', 5.10, 65), ('Sundar', 6, 60), ('Mark', 6.2, 70))\n",
    "\n",
    "result = [{'Name': sub[0], 'Height': sub[1], 'Weight': sub[2]} for sub in tuple1]\n",
    "\n",
    "print('The converted dictionary: '+str(result))"
   ]
  },
  {
   "cell_type": "code",
   "execution_count": 77,
   "metadata": {},
   "outputs": [
    {
     "name": "stdout",
     "output_type": "stream",
     "text": [
      "The converted dictionary: [{'Name': 'Bill', 'Height': 5.1, 'Weight': 65}, {'Name': 'Sundar', 'Height': 6, 'Weight': 60}, {'Name': 'Mark', 'Height': 6.2, 'Weight': 70}]\n"
     ]
    }
   ],
   "source": [
    "# Method - 2\n",
    "\n",
    "tuple1 = (('Bill', 5.10, 65), ('Sundar', 6, 60), ('Mark', 6.2, 70))\n",
    "\n",
    "keys = ['Name', 'Height', 'Weight']\n",
    "\n",
    "result = [{key: val for key,val in zip(keys,sub)} for sub in tuple1]\n",
    "\n",
    "print('The converted dictionary: '+str(result))"
   ]
  },
  {
   "cell_type": "code",
   "execution_count": 78,
   "metadata": {},
   "outputs": [],
   "source": [
    "#92 Word Ladder - Build a Graph.\n",
    "\n",
    "class Vertex:\n",
    "    def __init__(self, key):\n",
    "        self.id = key\n",
    "        self.connectedTo = {}\n",
    "        \n",
    "    def addNeighbor(self,nbr,cost=0):\n",
    "        self.connectedTo[nbr] = cost\n",
    "        \n",
    "    def __str__(self):\n",
    "        return str(self.id) + ' connected to: ' + str([x.id for x in self.connectedTo])\n",
    "    \n",
    "    def getConnections(self):\n",
    "        return self.connectedTo.keys()\n",
    "    \n",
    "    def getId(self):\n",
    "        return self.id\n",
    "    \n",
    "    def getWeight(self):\n",
    "        return self.connectedTo[nbr]\n",
    "    \n",
    "class Graph:\n",
    "    def __init__(self):\n",
    "        self.vertList = {}\n",
    "        self.numVertices = 0\n",
    "        \n",
    "    def addVertex(self,key):\n",
    "        self.numVertices += 1\n",
    "        newVertex = Vertex(key)\n",
    "        self.vertList[key] = newVertex\n",
    "        return newVertex\n",
    "    \n",
    "    def getVertex(self,key):\n",
    "        if key in self.vertList:\n",
    "            return self.vertList[key]\n",
    "        else:\n",
    "            return None\n",
    "        \n",
    "    def __contains__(self,key):\n",
    "        return key in self.vertList\n",
    "    \n",
    "    def addEdge(self, fromVert, toVert, cost=0):\n",
    "        if fromVert not in self.vertList:\n",
    "            nv = self.addVertex(fromVert)\n",
    "        if toVert not in self.vertList:\n",
    "            nv = self.addVertex(toVert)\n",
    "        self.vertList[fromVert].addNeighbor(self.vertList[toVert], cost)\n",
    "        \n",
    "    def getVertices(self):\n",
    "        return self.vertList.keys()\n",
    "    \n",
    "    def __iter__(self):\n",
    "        return iter(self.vertList.values())\n",
    "    \n",
    "\n",
    "def wordLadder(wordFile):\n",
    "    d = {}\n",
    "    g = Graph()\n",
    "    \n",
    "    wfile = open(wordFile, 'r')\n",
    "    \n",
    "    # Create buckets of words that differ by one letter\n",
    "    for line in wfile:\n",
    "        #print(line)\n",
    "        word = line[:-1]\n",
    "        #print(word)\n",
    "        \n",
    "        for i in range(len(word)):\n",
    "            bucket = word[:i] + '_' + word[i+1:]\n",
    "            if bucket in d:\n",
    "                d[bucket].append(word)\n",
    "            else:\n",
    "                d[bucket] = [word]\n",
    "                \n",
    "    # Add vertices and edges for words in the same bucket\n",
    "    for bucket in d.keys():\n",
    "        for word1 in d[bucket]:\n",
    "            for word2 in d[bucket]:\n",
    "                if word1 != word2:\n",
    "                    g.addEdge(word1,word2)\n",
    "    return g"
   ]
  },
  {
   "cell_type": "code",
   "execution_count": 79,
   "metadata": {},
   "outputs": [],
   "source": [
    "w = wordLadder('testfile')"
   ]
  },
  {
   "cell_type": "code",
   "execution_count": 80,
   "metadata": {},
   "outputs": [
    {
     "data": {
      "text/plain": [
       "{'Fool': <__main__.Vertex at 0x1fea5230b08>,\n",
       " 'Pool': <__main__.Vertex at 0x1fea53fb288>,\n",
       " 'Foul': <__main__.Vertex at 0x1fea526ef08>,\n",
       " 'Poll': <__main__.Vertex at 0x1fea53fb888>,\n",
       " 'Told': <__main__.Vertex at 0x1fea53fb508>,\n",
       " 'Sold': <__main__.Vertex at 0x1fea53fb488>}"
      ]
     },
     "execution_count": 80,
     "metadata": {},
     "output_type": "execute_result"
    }
   ],
   "source": [
    "w.vertList"
   ]
  },
  {
   "cell_type": "code",
   "execution_count": 81,
   "metadata": {},
   "outputs": [
    {
     "name": "stdout",
     "output_type": "stream",
     "text": [
      "Fool connected to: ['Pool', 'Foul']\n",
      "dict_keys([<__main__.Vertex object at 0x000001FEA53FB288>, <__main__.Vertex object at 0x000001FEA526EF08>])\n",
      "\n",
      "\n",
      "Pool connected to: ['Fool', 'Poll']\n",
      "dict_keys([<__main__.Vertex object at 0x000001FEA5230B08>, <__main__.Vertex object at 0x000001FEA53FB888>])\n",
      "\n",
      "\n",
      "Foul connected to: ['Fool']\n",
      "dict_keys([<__main__.Vertex object at 0x000001FEA5230B08>])\n",
      "\n",
      "\n",
      "Poll connected to: ['Pool']\n",
      "dict_keys([<__main__.Vertex object at 0x000001FEA53FB288>])\n",
      "\n",
      "\n",
      "Told connected to: ['Sold']\n",
      "dict_keys([<__main__.Vertex object at 0x000001FEA53FB488>])\n",
      "\n",
      "\n",
      "Sold connected to: ['Told']\n",
      "dict_keys([<__main__.Vertex object at 0x000001FEA53FB508>])\n",
      "\n",
      "\n"
     ]
    }
   ],
   "source": [
    "for vertex in w:\n",
    "    print(vertex)\n",
    "    print(vertex.getConnections())\n",
    "    print('\\n')"
   ]
  },
  {
   "cell_type": "code",
   "execution_count": 82,
   "metadata": {},
   "outputs": [
    {
     "name": "stdout",
     "output_type": "stream",
     "text": [
      "Welcome to Google\n"
     ]
    }
   ],
   "source": [
    "#93 Decorators in Python.\n",
    "# Decorators allow us to wrap another function in order to extend the behavior of the wrapped function, \n",
    "# without permanently modifying it.\n",
    "\n",
    "# A Python program to demonstrate that a function can be defined inside another function \n",
    "# and a function can be passed as parameter.\n",
    "\n",
    "def welcomeMessage(str):\n",
    "    \n",
    "    # Nested function\n",
    "    def addWelcome():\n",
    "        return 'Welcome to '\n",
    "    \n",
    "    return addWelcome() + str\n",
    "\n",
    "# To get website name to which welcome is added\n",
    "def website(website_name):\n",
    "    return website_name\n",
    "\n",
    "print(welcomeMessage(website('Google')))"
   ]
  },
  {
   "cell_type": "code",
   "execution_count": 83,
   "metadata": {},
   "outputs": [
    {
     "name": "stdout",
     "output_type": "stream",
     "text": [
      "Welcome to Google\n"
     ]
    }
   ],
   "source": [
    "# A decorator is a function that takes a function as its only parameter and returns a function. \n",
    "# This is helpful to “wrap” functionality with the same code over and over again.\n",
    "\n",
    "# Same program using Decorator.\n",
    "\n",
    "def decorate_message(fun):\n",
    "    \n",
    "    # Nested function\n",
    "    def addWelcome(website_name):\n",
    "        return 'Welcome to ' + fun(website_name)\n",
    "    \n",
    "    # Decorator returns a function\n",
    "    return addWelcome\n",
    "\n",
    "@decorate_message\n",
    "def website(website_name):\n",
    "    return website_name\n",
    "\n",
    "print(website('Google'))"
   ]
  },
  {
   "cell_type": "code",
   "execution_count": 84,
   "metadata": {},
   "outputs": [
    {
     "name": "stdout",
     "output_type": "stream",
     "text": [
      "66\n",
      "3\n"
     ]
    }
   ],
   "source": [
    "# Decorators can also be useful to attach data (or add attribute) to functions.\n",
    "\n",
    "# A Decorator function to attach data to func\n",
    "def attach_data(func):\n",
    "    func.data = 3\n",
    "    return func\n",
    "\n",
    "@attach_data\n",
    "def add(x,y):\n",
    "    return x + y\n",
    "\n",
    "print(add(22,44))\n",
    "\n",
    "print(add.data)"
   ]
  },
  {
   "cell_type": "code",
   "execution_count": 85,
   "metadata": {},
   "outputs": [],
   "source": [
    "# Decorator is used to decorate or wrap a function using another function.\n",
    "\n",
    "def hello_decorator(func):\n",
    "    \n",
    "    def inner():\n",
    "        print('Hello, this is before function execution.')\n",
    "        \n",
    "        func()\n",
    "        \n",
    "        print('This is after function execution.')\n",
    "        \n",
    "    return inner"
   ]
  },
  {
   "cell_type": "code",
   "execution_count": 86,
   "metadata": {},
   "outputs": [
    {
     "name": "stdout",
     "output_type": "stream",
     "text": [
      "Hello, this is before function execution.\n",
      "This is inside the function.\n",
      "This is after function execution.\n"
     ]
    }
   ],
   "source": [
    "def function_to_be_used():\n",
    "    print('This is inside the function.')\n",
    "    \n",
    "function_to_be_used = hello_decorator(function_to_be_used)\n",
    "function_to_be_used()"
   ]
  },
  {
   "cell_type": "code",
   "execution_count": 87,
   "metadata": {},
   "outputs": [
    {
     "name": "stdout",
     "output_type": "stream",
     "text": [
      "Hello, this is before function execution.\n",
      "This is inside the function.\n",
      "This is after function execution.\n"
     ]
    }
   ],
   "source": [
    "# Alternatively, use @ decorator symbol\n",
    "\n",
    "@hello_decorator\n",
    "def function_to_be_used():\n",
    "    print('This is inside the function.')\n",
    "    \n",
    "function_to_be_used()"
   ]
  },
  {
   "cell_type": "code",
   "execution_count": 88,
   "metadata": {},
   "outputs": [
    {
     "name": "stdout",
     "output_type": "stream",
     "text": [
      "Before execution\n",
      "Inside the function\n",
      "After execution\n",
      "Sum = 3\n"
     ]
    }
   ],
   "source": [
    "# If a function returns something or an argument is passed to the function.\n",
    "\n",
    "def hello_decorator(func):\n",
    "    def inner1(*args, **kwargs):\n",
    "        print('Before execution')\n",
    "        \n",
    "        # Getting the returned value\n",
    "        returned_value = func(*args,**kwargs)\n",
    "        print('After execution')\n",
    "        \n",
    "        # Returns the value to the original frame\n",
    "        return returned_value\n",
    "    \n",
    "    return inner1\n",
    "\n",
    "@hello_decorator\n",
    "def sum_two_numbers(a,b):\n",
    "    print('Inside the function')\n",
    "    return a + b\n",
    "\n",
    "a,b = 1,2\n",
    "\n",
    "print('Sum =', sum_two_numbers(a,b))"
   ]
  },
  {
   "cell_type": "code",
   "execution_count": 89,
   "metadata": {},
   "outputs": [
    {
     "name": "stdout",
     "output_type": "stream",
     "text": [
      "HELLO\n",
      "WORLD\n"
     ]
    }
   ],
   "source": [
    "#94 3 Main Properties of a Function.\n",
    "\n",
    "#1) Functions can be treated as objects.\n",
    "\n",
    "def upper(text):\n",
    "    return text.upper()\n",
    "\n",
    "print(upper('Hello'))\n",
    "\n",
    "upper_case = upper\n",
    "\n",
    "print(upper_case('World'))"
   ]
  },
  {
   "cell_type": "code",
   "execution_count": 90,
   "metadata": {},
   "outputs": [
    {
     "name": "stdout",
     "output_type": "stream",
     "text": [
      "HI, I AM CREATED BY A FUNCTION PASSED AS AN ARGUMENT.\n",
      "hi, i am created by a function passed as an argument.\n"
     ]
    }
   ],
   "source": [
    "#2) Functions can be passed as arguments to other functions.\n",
    "\n",
    "def upper(text):\n",
    "    return text.upper()\n",
    "\n",
    "def lower(text):\n",
    "    return text.lower()\n",
    "\n",
    "def upper_or_lower(func):\n",
    "    \n",
    "    # Storing the function in a variable\n",
    "    upper_lower_case = func('Hi, I am created by a function passed as an argument.')\n",
    "    print(upper_lower_case)\n",
    "    \n",
    "upper_or_lower(upper)\n",
    "upper_or_lower(lower)"
   ]
  },
  {
   "cell_type": "code",
   "execution_count": 91,
   "metadata": {},
   "outputs": [
    {
     "name": "stdout",
     "output_type": "stream",
     "text": [
      "25\n"
     ]
    }
   ],
   "source": [
    "#3) Functions can return another function.\n",
    "\n",
    "def create_adder(x):\n",
    "    def adder(y):\n",
    "        return x + y \n",
    "    return adder\n",
    "\n",
    "add_15 = create_adder(15)\n",
    "\n",
    "print(add_15(10))"
   ]
  },
  {
   "cell_type": "code",
   "execution_count": 92,
   "metadata": {},
   "outputs": [
    {
     "name": "stdout",
     "output_type": "stream",
     "text": [
      "3628800\n",
      "Total time taken to execute the function:  factorial is  2.0004279613494873\n"
     ]
    }
   ],
   "source": [
    "# Find out the execution time of any function using a decorator.\n",
    "\n",
    "import time, math\n",
    "\n",
    "def calculate_time(func):\n",
    "    \n",
    "    # if function takes any arguments\n",
    "    def inner(*args, **kwargs):\n",
    "        \n",
    "        # storing time before execution\n",
    "        start = time.time()\n",
    "        \n",
    "        func(*args, **kwargs)\n",
    "      \n",
    "        # Storing time after execution\n",
    "        end = time.time()\n",
    "        \n",
    "        print('Total time taken to execute the function: ', func.__name__, 'is ', end - start)\n",
    "        \n",
    "    return inner\n",
    "\n",
    "# We can use any function, let's calculate time for a factorial\n",
    "@calculate_time\n",
    "def factorial(num):\n",
    "    \n",
    "    # sleep 2 seconds because it takes very less time, so that we can see the actual difference\n",
    "    time.sleep(2)\n",
    "    print(math.factorial(num))\n",
    "    \n",
    "factorial(10)"
   ]
  },
  {
   "cell_type": "code",
   "execution_count": 93,
   "metadata": {},
   "outputs": [
    {
     "name": "stdout",
     "output_type": "stream",
     "text": [
      "400\n"
     ]
    }
   ],
   "source": [
    "# Chainig Decorators\n",
    "# It means decorating a function with multiple decorators.\n",
    "\n",
    "def decor1(func):\n",
    "    def inner():\n",
    "        x = func()\n",
    "        return x * x\n",
    "    return inner\n",
    "\n",
    "def decor(func):\n",
    "    def inner():\n",
    "        x = func()\n",
    "        return x * 2\n",
    "    return inner\n",
    "\n",
    "@decor1\n",
    "@decor\n",
    "def num():\n",
    "    return 10\n",
    "\n",
    "print(num())"
   ]
  },
  {
   "cell_type": "markdown",
   "metadata": {},
   "source": [
    "Decorators can be used to modify different functions and make them more useful. \n",
    "However, there are some drawbacks to this process. \n",
    "When we wrap the original function in a decorator the metadata of the original function gets lost. \n",
    "\n",
    "If you try to access any of the metadata of the \"positive_message\" function, it actually returns the \n",
    "metadata of the wrapper inside the decorator. \n",
    "\n",
    "How to preserve Metadata?\n",
    "This can be done using the wraps() method of the functools. It updates the wrapper function to look like wrapped function by coping attributes such as __name__, __doc__ (the docstring), etc."
   ]
  },
  {
   "cell_type": "code",
   "execution_count": 94,
   "metadata": {},
   "outputs": [
    {
     "name": "stdout",
     "output_type": "stream",
     "text": [
      "Total time taken to execute the function: countdown is 0.007999897003173828\n",
      "countdown\n",
      "Counts down\n",
      "{'n': <class 'int'>}\n"
     ]
    }
   ],
   "source": [
    "import time\n",
    "from functools import wraps\n",
    "\n",
    "def timethis(func):\n",
    "    '''Decorator that reports the execution time.'''\n",
    "    \n",
    "    @wraps(func)\n",
    "    def wrapper(*args, **kwargs):\n",
    "        start = time.time()\n",
    "        result = func(*args, **kwargs)\n",
    "        end = time.time()\n",
    "        \n",
    "        print('Total time taken to execute the function:', func.__name__, 'is', end-start)\n",
    "        return result\n",
    "    \n",
    "    return wrapper\n",
    "\n",
    "@timethis\n",
    "def countdown(n:int):\n",
    "    '''Counts down'''\n",
    "    while n > 0:\n",
    "        n -= 1\n",
    "        \n",
    "countdown(100000)\n",
    "print(countdown.__name__)\n",
    "print(countdown.__doc__)\n",
    "print(countdown.__annotations__)"
   ]
  },
  {
   "cell_type": "code",
   "execution_count": 95,
   "metadata": {},
   "outputs": [
    {
     "name": "stdout",
     "output_type": "stream",
     "text": [
      "(n: int)\n"
     ]
    }
   ],
   "source": [
    "# Expose the underlying signature of the wrapped function\n",
    "\n",
    "from inspect import signature\n",
    "\n",
    "print(signature(countdown))"
   ]
  },
  {
   "cell_type": "code",
   "execution_count": 96,
   "metadata": {},
   "outputs": [
    {
     "name": "stdout",
     "output_type": "stream",
     "text": [
      "GOOGLE IT\n"
     ]
    }
   ],
   "source": [
    "# Conditional decorators.\n",
    "# There are two ways by which we can use a decorator conditionally.\n",
    "# Method-1: Based on the condition, decorator decides what to do with the code.\n",
    "\n",
    "condition = True\n",
    "\n",
    "def conditional_decorator(func):\n",
    "    \n",
    "    def wrapper():\n",
    "        oldstring = func()\n",
    "        \n",
    "        if condition:\n",
    "            newstring = oldstring.upper()\n",
    "        else:\n",
    "            newstring = oldstring.lower()\n",
    "            \n",
    "        return newstring\n",
    "    return wrapper\n",
    "\n",
    "@conditional_decorator\n",
    "def func():\n",
    "    return 'GoOglE iT'\n",
    "\n",
    "print(func())"
   ]
  },
  {
   "cell_type": "code",
   "execution_count": 97,
   "metadata": {},
   "outputs": [
    {
     "name": "stdout",
     "output_type": "stream",
     "text": [
      "GOOGLE IT\n"
     ]
    }
   ],
   "source": [
    "# Method-2: Decorators are called only if the certain condition is met.\n",
    "\n",
    "def decorator1(func):\n",
    "   \n",
    "    def wrapper():\n",
    "        oldstring = func()\n",
    "        newstring = oldstring.upper()\n",
    "        return newstring\n",
    "    return wrapper\n",
    "\n",
    "def decorator2(func):\n",
    "    \n",
    "    def wrapper():\n",
    "        oldstring = func()\n",
    "        newstring = oldstring.lower()\n",
    "        return newstring\n",
    "    return wrapper\n",
    "\n",
    "cond = 1\n",
    "\n",
    "if cond == 1:\n",
    "    @decorator1\n",
    "    def func():\n",
    "        return 'GoOglE iT'\n",
    "elif cond == 2:\n",
    "    @decorator2\n",
    "    def func():\n",
    "        return 'GoOglE iT'\n",
    "else:\n",
    "    def func():\n",
    "        return 'GoOglE iT'\n",
    "    \n",
    "print(func())"
   ]
  },
  {
   "cell_type": "code",
   "execution_count": 98,
   "metadata": {},
   "outputs": [
    {
     "name": "stdout",
     "output_type": "stream",
     "text": [
      "IV\n",
      "MMM\n"
     ]
    }
   ],
   "source": [
    "#95 Convert an integer to a roman numeral.\n",
    "\n",
    "class roman_numeral:\n",
    "    def int_to_roman(self,num):\n",
    "        val = [\n",
    "            1000, 900, 500, 400,\n",
    "            100, 90, 50, 40,\n",
    "            10, 9, 5, 4,\n",
    "            1\n",
    "        ]\n",
    "        syb = [\n",
    "            'M', 'CM', 'D', 'CD',\n",
    "            'C', 'XC', 'L', 'XL',\n",
    "            'X', 'IX', 'V', 'IV',\n",
    "            'I'\n",
    "        ]\n",
    "        roman_num = ''\n",
    "        i = 0\n",
    "        while num > 0:\n",
    "            for _ in range(num // val[i]):\n",
    "                roman_num += syb[i]\n",
    "                num -= val[i]\n",
    "            i += 1        \n",
    "        return roman_num\n",
    "    \n",
    "print(roman_numeral().int_to_roman(4))\n",
    "print(roman_numeral().int_to_roman(3000))"
   ]
  },
  {
   "cell_type": "code",
   "execution_count": 99,
   "metadata": {},
   "outputs": [
    {
     "name": "stdout",
     "output_type": "stream",
     "text": [
      "3986\n",
      "4000\n",
      "100\n"
     ]
    }
   ],
   "source": [
    "# Convert a roman numeral into an integer.\n",
    "\n",
    "class integer:\n",
    "    def roman_to_int(self, s):\n",
    "        \n",
    "        rom_val = {'I':1, 'V':5, 'X':10, 'L':50, 'C':100, 'D':500, 'M': 1000}\n",
    "        int_val = 0\n",
    "        \n",
    "        for i in range(len(s)):\n",
    "            \n",
    "            if i > 0 and rom_val[s[i]] > rom_val[s[i-1]]:\n",
    "                int_val += rom_val[s[i]] - 2 * rom_val[s[i-1]]\n",
    "            else:\n",
    "                int_val += rom_val[s[i]]\n",
    "        \n",
    "        return int_val\n",
    "    \n",
    "print(integer().roman_to_int('MMMCMLXXXVI'))\n",
    "print(integer().roman_to_int('MMMM'))\n",
    "print(integer().roman_to_int('C'))"
   ]
  },
  {
   "cell_type": "code",
   "execution_count": 100,
   "metadata": {},
   "outputs": [],
   "source": [
    "#96 Data Classes in Python\n",
    "# Data class module is a utility tool to make structured classes specially for storing data.\n",
    "# The DataClasses are implemented by using decorators with classes. Attributes are declared using Type Hints, which is \n",
    "# specifying data type for variables in python.\n",
    "# Although the module was introduced in Python3.7, one can also use it in Python3.6 by installing dataclasses library."
   ]
  },
  {
   "cell_type": "code",
   "execution_count": 5,
   "metadata": {},
   "outputs": [
    {
     "name": "stdout",
     "output_type": "stream",
     "text": [
      "Collecting dataclasses\n",
      "  Downloading dataclasses-0.6-py3-none-any.whl (14 kB)\n",
      "Installing collected packages: dataclasses\n",
      "Successfully installed dataclasses-0.6\n",
      "Note: you may need to restart the kernel to use updated packages.\n"
     ]
    },
    {
     "name": "stderr",
     "output_type": "stream",
     "text": [
      "WARNING: You are using pip version 21.1.1; however, version 21.1.3 is available.\n",
      "You should consider upgrading via the 'C:\\Users\\ELCOT\\anaconda\\python.exe -m pip install --upgrade pip' command.\n"
     ]
    }
   ],
   "source": [
    "pip install dataclasses"
   ]
  },
  {
   "cell_type": "code",
   "execution_count": 101,
   "metadata": {},
   "outputs": [
    {
     "name": "stdout",
     "output_type": "stream",
     "text": [
      "Article(title='Dataclasses', author='Adam', language='Python', upvote=0)\n"
     ]
    }
   ],
   "source": [
    "from dataclasses import dataclass\n",
    "\n",
    "@dataclass\n",
    "class Article():\n",
    "    '''A class for holding an article content'''\n",
    "    \n",
    "    # Attributes declaration using Type Hints\n",
    "    title: str\n",
    "    author: str\n",
    "    language: str\n",
    "    upvote: int\n",
    "\n",
    "# A Dataclass object\n",
    "article = Article(\"Dataclasses\", 'Adam', 'Python', 0)\n",
    "print(article)"
   ]
  },
  {
   "cell_type": "code",
   "execution_count": 102,
   "metadata": {},
   "outputs": [],
   "source": [
    "# Point to be noted: The dataclass provides an in built __init__() constructor to classes which handle the data and object\n",
    "# creation for them."
   ]
  },
  {
   "cell_type": "code",
   "execution_count": 103,
   "metadata": {},
   "outputs": [
    {
     "ename": "TypeError",
     "evalue": "__init__() missing 4 required positional arguments: 'title', 'author', 'language', and 'upvote'",
     "output_type": "error",
     "traceback": [
      "\u001b[1;31m---------------------------------------------------------------------------\u001b[0m",
      "\u001b[1;31mTypeError\u001b[0m                                 Traceback (most recent call last)",
      "\u001b[1;32m<ipython-input-103-ae4baa3e6a8f>\u001b[0m in \u001b[0;36m<module>\u001b[1;34m\u001b[0m\n\u001b[1;32m----> 1\u001b[1;33m \u001b[0marticle\u001b[0m \u001b[1;33m=\u001b[0m \u001b[0mArticle\u001b[0m\u001b[1;33m(\u001b[0m\u001b[1;33m)\u001b[0m\u001b[1;33m\u001b[0m\u001b[1;33m\u001b[0m\u001b[0m\n\u001b[0m",
      "\u001b[1;31mTypeError\u001b[0m: __init__() missing 4 required positional arguments: 'title', 'author', 'language', and 'upvote'"
     ]
    }
   ],
   "source": [
    "article = Article()"
   ]
  },
  {
   "cell_type": "code",
   "execution_count": 104,
   "metadata": {},
   "outputs": [],
   "source": [
    "# Equality of Data classes.\n",
    "\n",
    "# Without a dataclass decorator\n",
    "class NormalArticle():\n",
    "    def __init__(self,title,author,language,upvotes):\n",
    "        self.title = title\n",
    "        self.author = author\n",
    "        self.language = language\n",
    "        self.upvotes = upvotes\n",
    "        \n",
    "        \n",
    "# Two dataclass objects\n",
    "dClassArticle1 = Article(\"Dataclasses\", 'Adam', 'Python', 0)\n",
    "dClassArticle2 = Article(\"Dataclasses\", 'Adam', 'Python', 0)\n",
    "\n",
    "# Two objects of a normal class\n",
    "article1 = NormalArticle(\"Dataclasses\", 'Adam', 'Python', 0)\n",
    "article2 = NormalArticle(\"Dataclasses\", 'Adam', 'Python', 0)"
   ]
  },
  {
   "cell_type": "code",
   "execution_count": 105,
   "metadata": {},
   "outputs": [
    {
     "name": "stdout",
     "output_type": "stream",
     "text": [
      "DataClass Equality:  True\n",
      "Nomral Class Equality:  False\n"
     ]
    }
   ],
   "source": [
    "print('DataClass Equality: ', dClassArticle1 == dClassArticle2)\n",
    "print('Nomral Class Equality: ', article1 == article2)"
   ]
  },
  {
   "cell_type": "markdown",
   "metadata": {},
   "source": [
    "True as output for equality check between two DataClass objects which contain same data.\n",
    "\n",
    "False as output for equality check between two normal class objects take different memory locations on creation."
   ]
  },
  {
   "cell_type": "code",
   "execution_count": 106,
   "metadata": {},
   "outputs": [
    {
     "name": "stdout",
     "output_type": "stream",
     "text": [
      "Article(title='DataClass', language='Python3', upvotes=0)\n",
      "Adam\n",
      "True\n",
      "{'data': 'Best Title'}\n"
     ]
    }
   ],
   "source": [
    "# Modify certain properties of the attributes of DataClass object.\n",
    "\n",
    "from dataclasses import dataclass, field\n",
    "\n",
    "@dataclass\n",
    "class Article:\n",
    "    \n",
    "    title: str = field(compare = False, metadata = {'data': 'Best Title'})\n",
    "    author: str = field(repr = False)\n",
    "    language: str = field(default = 'Python3')\n",
    "    upvotes: int = field(init = False, default = 0)\n",
    "        \n",
    "# A Dataclass object\n",
    "article1 = Article('DataClass', 'Adam')\n",
    "article2 = Article('PythonClass', 'Adam')\n",
    "\n",
    "print(article1)\n",
    "print(article2.author)\n",
    "print(article1 == article2)\n",
    "print(article1.__dataclass_fields__['title'].metadata)"
   ]
  },
  {
   "cell_type": "markdown",
   "metadata": {},
   "source": [
    "compare = False if we don't want to use the field for comparistion check.\n",
    "\n",
    "metadata is usually a dictionary, indicating various information and its data.\n",
    "\n",
    "repr = False if we don't want that field to display in the output.\n",
    "\n",
    "default value is chosen if no value is specified for that field.\n",
    "\n",
    "init = False if we don't want to include that field as a parameter to the generated __init__() method. A way to set default value."
   ]
  },
  {
   "cell_type": "code",
   "execution_count": 107,
   "metadata": {},
   "outputs": [
    {
     "name": "stdout",
     "output_type": "stream",
     "text": [
      "Article(title='DataClass', author='Adam', language='Java', upvotes=0)\n"
     ]
    }
   ],
   "source": [
    "# default_factory: It will be called when a default value is needed for this field.\n",
    "\n",
    "from dataclasses import dataclass, field\n",
    "from random import choice\n",
    "\n",
    "def get_default_language():\n",
    "    languages = ['Python', 'Java', 'C']\n",
    "    return choice(languages)\n",
    "\n",
    "@dataclass\n",
    "class Article:\n",
    "    \n",
    "    title: str\n",
    "    author: str\n",
    "    language: str = field(default_factory = get_default_language)\n",
    "    upvotes: int = 0\n",
    "        \n",
    "# A Dataclass object\n",
    "article = Article('DataClass', 'Adam')\n",
    "print(article)"
   ]
  },
  {
   "cell_type": "code",
   "execution_count": 109,
   "metadata": {},
   "outputs": [
    {
     "ename": "TypeError",
     "evalue": "Article() takes no arguments",
     "output_type": "error",
     "traceback": [
      "\u001b[1;31m---------------------------------------------------------------------------\u001b[0m",
      "\u001b[1;31mTypeError\u001b[0m                                 Traceback (most recent call last)",
      "\u001b[1;32m<ipython-input-109-22552741dbfa>\u001b[0m in \u001b[0;36m<module>\u001b[1;34m\u001b[0m\n\u001b[0;32m     14\u001b[0m \u001b[1;33m\u001b[0m\u001b[0m\n\u001b[0;32m     15\u001b[0m \u001b[1;31m# A Dataclass object\u001b[0m\u001b[1;33m\u001b[0m\u001b[1;33m\u001b[0m\u001b[1;33m\u001b[0m\u001b[0m\n\u001b[1;32m---> 16\u001b[1;33m \u001b[0marticle\u001b[0m \u001b[1;33m=\u001b[0m \u001b[0mArticle\u001b[0m\u001b[1;33m(\u001b[0m\u001b[1;34m'Dataclasses'\u001b[0m\u001b[1;33m,\u001b[0m \u001b[1;34m'Adam'\u001b[0m\u001b[1;33m,\u001b[0m \u001b[1;34m'Python'\u001b[0m\u001b[1;33m,\u001b[0m \u001b[1;36m0\u001b[0m\u001b[1;33m)\u001b[0m\u001b[1;33m\u001b[0m\u001b[1;33m\u001b[0m\u001b[0m\n\u001b[0m",
      "\u001b[1;31mTypeError\u001b[0m: Article() takes no arguments"
     ]
    }
   ],
   "source": [
    "# Modify the default constructor which dataclass module virtually makes for us.\n",
    "\n",
    "from dataclasses import dataclass\n",
    "\n",
    "# init specifies that there should be a default constructor or not.\n",
    "\n",
    "@dataclass(init = False)\n",
    "class Article():\n",
    "    \n",
    "    title: str\n",
    "    author: str\n",
    "    language: str\n",
    "    upvotes: int\n",
    "        \n",
    "# A Dataclass object\n",
    "article = Article('Dataclasses', 'Adam', 'Python', 0)"
   ]
  },
  {
   "cell_type": "code",
   "execution_count": 110,
   "metadata": {},
   "outputs": [
    {
     "name": "stdout",
     "output_type": "stream",
     "text": [
      "<__main__.Article object at 0x000001FEA5438148>\n",
      "<__main__.Article object at 0x000001FEA5438E08>\n",
      "Classes equality:  False\n",
      "Hash:  -9223371899779401708\n"
     ]
    },
    {
     "ename": "FrozenInstanceError",
     "evalue": "cannot assign to field 'upvotes'",
     "output_type": "error",
     "traceback": [
      "\u001b[1;31m---------------------------------------------------------------------------\u001b[0m",
      "\u001b[1;31mFrozenInstanceError\u001b[0m                       Traceback (most recent call last)",
      "\u001b[1;32m<ipython-input-110-be0b01dc45a5>\u001b[0m in \u001b[0;36m<module>\u001b[1;34m\u001b[0m\n\u001b[0;32m     21\u001b[0m \u001b[1;33m\u001b[0m\u001b[0m\n\u001b[0;32m     22\u001b[0m \u001b[0mprint\u001b[0m\u001b[1;33m(\u001b[0m\u001b[1;34m'Hash: '\u001b[0m\u001b[1;33m,\u001b[0m \u001b[0mhash\u001b[0m\u001b[1;33m(\u001b[0m\u001b[0marticle1\u001b[0m\u001b[1;33m)\u001b[0m\u001b[1;33m)\u001b[0m\u001b[1;33m\u001b[0m\u001b[1;33m\u001b[0m\u001b[0m\n\u001b[1;32m---> 23\u001b[1;33m \u001b[0marticle1\u001b[0m\u001b[1;33m.\u001b[0m\u001b[0mupvotes\u001b[0m \u001b[1;33m=\u001b[0m \u001b[1;36m1\u001b[0m\u001b[1;33m\u001b[0m\u001b[1;33m\u001b[0m\u001b[0m\n\u001b[0m",
      "\u001b[1;32m<string>\u001b[0m in \u001b[0;36m__setattr__\u001b[1;34m(self, name, value)\u001b[0m\n",
      "\u001b[1;31mFrozenInstanceError\u001b[0m: cannot assign to field 'upvotes'"
     ]
    }
   ],
   "source": [
    "from dataclasses import dataclass\n",
    "\n",
    "@dataclass(repr = False, eq = False, frozen = True)\n",
    "class Article():\n",
    "    \n",
    "    title: str\n",
    "    author: str\n",
    "    language: str\n",
    "    upvotes: int\n",
    "        \n",
    "# A Dataclass object\n",
    "article1 = Article('Dataclasses', 'Adam', 'Python', 0)\n",
    "article2 = Article('Dataclasses', 'Adam', 'Python', 0)\n",
    "\n",
    "equal = article1 == article2\n",
    "\n",
    "print(article1)\n",
    "print(article2)\n",
    "\n",
    "print('Classes equality: ', equal)\n",
    "\n",
    "print('Hash: ', hash(article1))\n",
    "article1.upvotes = 1"
   ]
  },
  {
   "cell_type": "markdown",
   "metadata": {},
   "source": [
    "repr = False corresponds to hash value representation of the object in memory.\n",
    "\n",
    "eq is used to specify the operation performed in comparison when two DataClasses are compared for equality using == or != operators.\n",
    "\n",
    "frozen = True means once initialized, variables cannot be reassigned a new value. If tried reassigning, FrozenInstanceError will occur. \n",
    "This safely generates a hash for the DataClass object."
   ]
  },
  {
   "cell_type": "markdown",
   "metadata": {},
   "source": [
    "order : Comparison between two DataClasses are not only restricted only to equality, but also supports >, >=, < and <= operators when order=True is set in argument parameter.\n",
    "The comparison between objects is based on the comparison between their corresponding attributes, which is done one by one starting from the first one."
   ]
  },
  {
   "cell_type": "code",
   "execution_count": 111,
   "metadata": {},
   "outputs": [
    {
     "name": "stdout",
     "output_type": "stream",
     "text": [
      "False\n",
      "True\n",
      "False\n"
     ]
    }
   ],
   "source": [
    "from dataclasses import dataclass\n",
    "\n",
    "@dataclass(order = True)\n",
    "class A():\n",
    "    var1: int\n",
    "    var2: str\n",
    "    var3: float\n",
    "\n",
    "obj1 = A(1, 'Python', 3.11)\n",
    "obj2 = A(2, 'Python', 3.11)\n",
    "obj3 = A(1, 'py', 3.11)\n",
    "obj4 = A(1, 'Python', 4.0)\n",
    "\n",
    "print(obj1 > obj2)\n",
    "print(obj1 < obj3)\n",
    "print(obj1 >= obj4)"
   ]
  },
  {
   "cell_type": "markdown",
   "metadata": {},
   "source": [
    "unsafe_hash forces a DataClass which is still mutable to generate a hash. DataClass generates an unsafe hash, assuming that the class is frozen and then the programmer has to further use this very carefully."
   ]
  },
  {
   "cell_type": "code",
   "execution_count": 112,
   "metadata": {},
   "outputs": [
    {
     "name": "stdout",
     "output_type": "stream",
     "text": [
      "Article(title='Dataclasses', author='Adam', language='Python', upvotes=0)\n",
      "-2012538884623557876\n"
     ]
    }
   ],
   "source": [
    "from dataclasses import dataclass\n",
    "\n",
    "@dataclass(unsafe_hash = True)\n",
    "class Article():\n",
    "    \n",
    "    title: str\n",
    "    author: str\n",
    "    language: str\n",
    "    upvotes: int\n",
    "        \n",
    "# A Dataclass object\n",
    "article = Article('Dataclasses', 'Adam', 'Python', 0)\n",
    "print(article)\n",
    "print(hash(article))"
   ]
  },
  {
   "cell_type": "code",
   "execution_count": 113,
   "metadata": {},
   "outputs": [
    {
     "name": "stdout",
     "output_type": "stream",
     "text": [
      "Encoded string: UHl0aG9uIGlzIGF3ZXNvbWUu\n"
     ]
    }
   ],
   "source": [
    "#97 Encoding and Decoding base64 strings.\n",
    "# Base64 encoding is a type of conversion of bytes to ASCII characters. the list of available Base64 characters are,\n",
    "# 26 uppercase letters, 26 lowercase letters, 10 numbers, + and / for new lines.\n",
    "\n",
    "import base64\n",
    "\n",
    "sample_string = 'Python is awesome.'\n",
    "\n",
    "sample_string_bytes = sample_string.encode('ascii')\n",
    "#print(sample_string_bytes)\n",
    "\n",
    "base64_bytes = base64.b64encode(sample_string_bytes)\n",
    "#print(base64_bytes)\n",
    "\n",
    "base64_string = base64_bytes.decode('ascii')\n",
    "\n",
    "print(f'Encoded string: {base64_string}')"
   ]
  },
  {
   "cell_type": "code",
   "execution_count": 114,
   "metadata": {},
   "outputs": [
    {
     "name": "stdout",
     "output_type": "stream",
     "text": [
      "Decoded string: Python is awesome.\n"
     ]
    }
   ],
   "source": [
    "import base64\n",
    "\n",
    "base64_string = 'UHl0aG9uIGlzIGF3ZXNvbWUu'\n",
    "base64_bytes = base64_string.encode('ascii')\n",
    "\n",
    "sample_string_bytes = base64.b64decode(base64_bytes)\n",
    "sample_string = sample_string_bytes.decode('ascii')\n",
    "\n",
    "print(f'Decoded string: {sample_string}')"
   ]
  },
  {
   "cell_type": "code",
   "execution_count": 115,
   "metadata": {},
   "outputs": [
    {
     "name": "stdout",
     "output_type": "stream",
     "text": [
      "Password entered: Django_password\n",
      "Wrong password !\n",
      "\r\n",
      "Password entered: Django_password123\n",
      "You are logged in !\n"
     ]
    }
   ],
   "source": [
    "# Application of encode-decode base64 strings.\n",
    "\n",
    "import base64\n",
    "\n",
    "# user registration\n",
    "username = 'userdjango'\n",
    "password = 'Django_password123'\n",
    "\n",
    "# converting password to base64 encoding\n",
    "password = base64.b64encode(password.encode('ascii'))\n",
    "\n",
    "# user logging in\n",
    "user_login = 'userdjango'\n",
    "\n",
    "# wrong password entered\n",
    "pass_wrong = 'Django_password'\n",
    "\n",
    "print('Password entered: ' + pass_wrong)\n",
    "\n",
    "if(pass_wrong == base64.b64decode(password).decode('ascii')):\n",
    "    print('You are logged in !')\n",
    "else:\n",
    "    print('Wrong password !')\n",
    "    \n",
    "print('\\r')\n",
    "\n",
    "# correct password entered\n",
    "pass_right = 'Django_password123'\n",
    "\n",
    "print('Password entered: ' + pass_right)\n",
    "\n",
    "if(pass_right == base64.b64decode(password).decode('ascii')):\n",
    "    print('You are logged in !')\n",
    "else:\n",
    "    print('Wrong password !')"
   ]
  },
  {
   "cell_type": "markdown",
   "metadata": {},
   "source": [
    "#98 Multithreading.\n",
    "\n",
    "A thread is a sequence of instructions within a program that can be executed independently of other code.\n",
    "\n",
    "Multithreading is defined as the ability of a processor to execute multiple threads concurrently."
   ]
  },
  {
   "cell_type": "code",
   "execution_count": 116,
   "metadata": {},
   "outputs": [
    {
     "name": "stdout",
     "output_type": "stream",
     "text": [
      "Square: 100\n",
      "Cube: 1000\n",
      "Done!\n"
     ]
    }
   ],
   "source": [
    "# Illustration of threading.\n",
    "\n",
    "import threading\n",
    "\n",
    "def print_cube(num):\n",
    "    print('Cube: {}'.format(num*num*num))\n",
    "    \n",
    "def print_square(num):\n",
    "    print('Square: {}'.format(num*num))\n",
    "    \n",
    "if __name__ == \"__main__\":\n",
    "    # creating thread\n",
    "    t1 = threading.Thread(target=print_square, args=(10,))\n",
    "    t2 = threading.Thread(target=print_cube, args=(10,))\n",
    "    \n",
    "    # starting thread 1\n",
    "    t1.start()\n",
    "    #starting thread 2\n",
    "    t2.start()\n",
    "    \n",
    "    # wait until thread 1 is completely executed\n",
    "    t1.join()\n",
    "    # wait until thread 2 is completely executed\n",
    "    t2.join()\n",
    "    \n",
    "    # both threads completely executed\n",
    "    print('Done!')"
   ]
  },
  {
   "cell_type": "code",
   "execution_count": 117,
   "metadata": {},
   "outputs": [
    {
     "name": "stdout",
     "output_type": "stream",
     "text": [
      "ID of process running main program: 5376\n",
      "Main thread name: MainThread\n",
      "Task 1 assigned to thread: t1\n",
      "ID of process running task 1: 5376\n",
      "Task 2 assigned to thread: Thread-8\n",
      "ID of process running task 2: 5376\n"
     ]
    }
   ],
   "source": [
    "# Program to print thread name and corresponding process for each task.\n",
    "import threading, os\n",
    "\n",
    "def task1():\n",
    "    print('Task 1 assigned to thread: {}'.format(threading.current_thread().name))\n",
    "    print('ID of process running task 1: {}'.format(os.getpid()))\n",
    "    \n",
    "def task2():\n",
    "    print('Task 2 assigned to thread: {}'.format(threading.current_thread().name))\n",
    "    print('ID of process running task 2: {}'.format(os.getpid()))\n",
    "    \n",
    "if __name__==\"__main__\":\n",
    "    \n",
    "    # print ID of current process\n",
    "    print('ID of process running main program: {}'.format(os.getpid()))\n",
    "    \n",
    "    # print name of main thread\n",
    "    print('Main thread name: {}'.format(threading.main_thread().name))\n",
    "    \n",
    "    # creating threads\n",
    "    t1 = threading.Thread(target=task1, name='t1')\n",
    "    t2 = threading.Thread(target=task2)\n",
    "    \n",
    "    # starting threads\n",
    "    t1.start()\n",
    "    t2.start()\n",
    "   \n",
    "    # wait until all threads finish\n",
    "    t1.join()\n",
    "    t2.join()"
   ]
  },
  {
   "cell_type": "markdown",
   "metadata": {},
   "source": [
    "os.getpid() is used to get ID of current process.\n",
    "\n",
    "threading.current_thread().name is used to get name of the current thread.\n",
    "\n",
    "threading.main_thread() is used to get the main thread object. In normal conditions, the main thread is the thread from which the Python interpreter was started. name attribute of thread object is used to get the name of thread.\n",
    "\n",
    "As it is clear from the output, the process ID remains same for all threads."
   ]
  },
  {
   "cell_type": "code",
   "execution_count": 118,
   "metadata": {},
   "outputs": [
    {
     "name": "stdout",
     "output_type": "stream",
     "text": [
      "Iteration 0: x = 20000\n",
      "Iteration 1: x = 20000\n",
      "Iteration 2: x = 20000\n",
      "Iteration 3: x = 20000\n",
      "Iteration 4: x = 20000\n",
      "Iteration 5: x = 20000\n",
      "Iteration 6: x = 20000\n",
      "Iteration 7: x = 20000\n",
      "Iteration 8: x = 20000\n",
      "Iteration 9: x = 20000\n"
     ]
    }
   ],
   "source": [
    "# Synchronization in Multithreading.\n",
    "\n",
    "# Example program.\n",
    "\n",
    "import threading\n",
    "\n",
    "# global variable x\n",
    "x = 0\n",
    "\n",
    "def increment():\n",
    "    '''Function to increment global variable x'''\n",
    "    global x\n",
    "    x += 1\n",
    "    \n",
    "def thread_task(lock):\n",
    "    '''task for thread\n",
    "    calls increment function 10000 times'''\n",
    "    for _ in range(10000):\n",
    "        lock.acquire()\n",
    "        increment()\n",
    "        lock.release()\n",
    "        \n",
    "def main_task():\n",
    "    global x\n",
    "    # setting global variable x as 0\n",
    "    x = 0\n",
    "    \n",
    "    # creating a lock\n",
    "    lock = threading.Lock()\n",
    "    \n",
    "    # creating threads\n",
    "    t1 = threading.Thread(target=thread_task, args=(lock,))\n",
    "    t2 = threading.Thread(target=thread_task, args=(lock,))\n",
    "    \n",
    "    # start threads\n",
    "    t1.start()\n",
    "    t2.start()\n",
    "    \n",
    "    # wait until threads finish their job\n",
    "    t1.join()\n",
    "    t2.join()\n",
    "    \n",
    "if __name__==\"__main__\":\n",
    "    for i in range(10):\n",
    "        main_task()\n",
    "        print('Iteration {0}: x = {1}'.format(i,x))"
   ]
  },
  {
   "cell_type": "markdown",
   "metadata": {},
   "source": [
    "Firstly, a Lock object is created using: lock = threading.Lock()\n",
    "\n",
    "Then, lock is passed as target function argument.\n",
    "t1 = threading.Thread(target=thread_task, args=(lock,))\n",
    "\n",
    "As soon as a lock is acquired using lock.acquire() method, no other thread can access the critical section (here, increment function) until the lock is released using lock.release() method."
   ]
  },
  {
   "cell_type": "code",
   "execution_count": 119,
   "metadata": {},
   "outputs": [
    {
     "name": "stdout",
     "output_type": "stream",
     "text": [
      "<__main__.Test object at 0x000001FEA5460A08>\n",
      "<class '__main__.Test'>\n",
      "<class '__main__.Test'>\n",
      "<class 'type'>\n"
     ]
    }
   ],
   "source": [
    "#99 Understanding MetaClasses.\n",
    "# Classes defines rules for objects while MetaClasses defines rules for Classes. So, MetaClasses are above the Classes.\n",
    "\n",
    "# Let's first understand classes.\n",
    "\n",
    "class Test:\n",
    "    pass\n",
    "\n",
    "# Instance of the class\n",
    "print(Test())\n",
    "\n",
    "# Class\n",
    "print(Test)\n",
    "\n",
    "# Type of the instance of the class\n",
    "print(type(Test()))\n",
    "\n",
    "# Type of the Class\n",
    "print(type(Test))"
   ]
  },
  {
   "cell_type": "markdown",
   "metadata": {},
   "source": [
    "So, we can create a class using type()"
   ]
  },
  {
   "cell_type": "code",
   "execution_count": 120,
   "metadata": {},
   "outputs": [
    {
     "name": "stdout",
     "output_type": "stream",
     "text": [
      "<class '__main__.Test'>\n",
      "<__main__.Test object at 0x000001FEA5462808>\n"
     ]
    }
   ],
   "source": [
    "'''\n",
    "class Test:\n",
    "    pass\n",
    "'''\n",
    "# The above code is equivalent to the below code using type()\n",
    "\n",
    "Test = type('Test', (), {})\n",
    "\n",
    "# Class\n",
    "print(Test)\n",
    "\n",
    "# Instance of the class\n",
    "print(Test())"
   ]
  },
  {
   "cell_type": "markdown",
   "metadata": {},
   "source": [
    "So, type() function is used to create a class with three different arguments.\n",
    "\n",
    "'Test' - Class name,  \n",
    "() - Base Class name defined in a tuple,  \n",
    "{} - key:value pairs."
   ]
  },
  {
   "cell_type": "code",
   "execution_count": 121,
   "metadata": {},
   "outputs": [
    {
     "name": "stdout",
     "output_type": "stream",
     "text": [
      "5\n",
      "Hello\n"
     ]
    }
   ],
   "source": [
    "# Add key:value pairs\n",
    "Test = type('Test', (), {\"x\":5})\n",
    "\n",
    "t = Test()\n",
    "print(t.x)\n",
    "\n",
    "# Define attributes outside of the class\n",
    "t.greet = 'Hello'\n",
    "print(t.greet)"
   ]
  },
  {
   "cell_type": "code",
   "execution_count": 122,
   "metadata": {},
   "outputs": [
    {
     "name": "stdout",
     "output_type": "stream",
     "text": [
      "Hi\n",
      "10\n"
     ]
    }
   ],
   "source": [
    "# Add a Base class and a method\n",
    "\n",
    "# Create a Base class\n",
    "class Foo:\n",
    "    def show(self):\n",
    "        print('Hi')\n",
    "        \n",
    "# Create a method\n",
    "def add_attribute(self):\n",
    "    self.z = 10\n",
    "    \n",
    "Test = type('Test', (Foo,), {\"x\":5, \"add_attribute\":add_attribute})\n",
    "t = Test()\n",
    "\n",
    "# 'Test' class inherits show() from Base class 'Foo'\n",
    "t.show()\n",
    "\n",
    "# Call the created method\n",
    "t.add_attribute()\n",
    "print(t.z)"
   ]
  },
  {
   "cell_type": "code",
   "execution_count": 123,
   "metadata": {},
   "outputs": [
    {
     "name": "stdout",
     "output_type": "stream",
     "text": [
      "{'__module__': '__main__', '__qualname__': 'Dog', 'x': 5, 'y': 8, 'hello': <function Dog.hello at 0x000001FEA5452798>}\n"
     ]
    }
   ],
   "source": [
    "# Now, let's understand Metaclasses. \n",
    "# Metaclasses are always above the classes. Let's create our own metaclass.\n",
    "\n",
    "# To create a metaclass, it has to inherit type.\n",
    "class Meta(type):\n",
    "    \n",
    "    # new method is called before init method to modify the way the object is constructed.\n",
    "    # new method takes in arguments that are in type(class_name, bases, attrs)\n",
    "    \n",
    "    def __new__(self, class_name, bases, attrs):\n",
    "        print(attrs)\n",
    "        return type(class_name, bases, attrs)\n",
    "    \n",
    "    '''\n",
    "    # init method is called after new method to initialize it (changes the value, takes some parameters)\n",
    "    def __init__(self):\n",
    "        pass\n",
    "        ''' \n",
    "    \n",
    "# Using the created metaclass in our class   \n",
    "class Dog(metaclass=Meta):\n",
    "    x = 5\n",
    "    y = 8\n",
    "    \n",
    "    def hello(self):\n",
    "        print('Hi')\n",
    "        \n",
    "# It runs with no instances because metaclass of Dog is type() which creates the object.\n",
    "# d = Dog()\n",
    "\n",
    "# Knowing this information, we can modify the construction of a class using metaclass."
   ]
  },
  {
   "cell_type": "code",
   "execution_count": 125,
   "metadata": {},
   "outputs": [
    {
     "name": "stdout",
     "output_type": "stream",
     "text": [
      "Hi\n"
     ]
    },
    {
     "ename": "AttributeError",
     "evalue": "'Dog' object has no attribute 'hello'",
     "output_type": "error",
     "traceback": [
      "\u001b[1;31m---------------------------------------------------------------------------\u001b[0m",
      "\u001b[1;31mAttributeError\u001b[0m                            Traceback (most recent call last)",
      "\u001b[1;32m<ipython-input-125-2f3e6ecef7f5>\u001b[0m in \u001b[0;36m<module>\u001b[1;34m\u001b[0m\n\u001b[0;32m     27\u001b[0m \u001b[1;33m\u001b[0m\u001b[0m\n\u001b[0;32m     28\u001b[0m \u001b[1;31m# Calling the methods in lower case will raise Attribute error\u001b[0m\u001b[1;33m\u001b[0m\u001b[1;33m\u001b[0m\u001b[1;33m\u001b[0m\u001b[0m\n\u001b[1;32m---> 29\u001b[1;33m \u001b[0md\u001b[0m\u001b[1;33m.\u001b[0m\u001b[0mhello\u001b[0m\u001b[1;33m(\u001b[0m\u001b[1;33m)\u001b[0m\u001b[1;33m\u001b[0m\u001b[1;33m\u001b[0m\u001b[0m\n\u001b[0m",
      "\u001b[1;31mAttributeError\u001b[0m: 'Dog' object has no attribute 'hello'"
     ]
    }
   ],
   "source": [
    "# Modifying the construction of a class using metaclass.\n",
    "\n",
    "class Meta(type):\n",
    "    def __new__(self, class_name, bases, attrs):\n",
    "        \n",
    "        a = {}\n",
    "        for name, val in attrs.items():\n",
    "            if name.startswith(\"__\"):\n",
    "                a[name] = val\n",
    "            else:\n",
    "                \n",
    "                # uppercasing the method names\n",
    "                a[name.upper()] = val\n",
    "                \n",
    "        return type(class_name, bases, a)\n",
    "    \n",
    "class Dog(metaclass=Meta):\n",
    "    x = 5\n",
    "    y = 8\n",
    "    \n",
    "    def hello(self):\n",
    "        print('Hi')\n",
    "\n",
    "d = Dog()\n",
    "# Calling the methods in upper case\n",
    "d.HELLO()\n",
    "\n",
    "# Calling the methods in lower case will raise Attribute error\n",
    "d.hello()"
   ]
  },
  {
   "cell_type": "code",
   "execution_count": 126,
   "metadata": {},
   "outputs": [
    {
     "name": "stdout",
     "output_type": "stream",
     "text": [
      "*   *\n",
      "*   *\n",
      "*****\n",
      "*   *\n",
      "*   *\n",
      "*****\n",
      "*   *\n",
      "*   *\n"
     ]
    }
   ],
   "source": [
    "#100 Printing Patterns.\n",
    "# Ladder pattern.\n",
    "\n",
    "def ladder_pattern(N):\n",
    "    \n",
    "    for i in range(N+1):\n",
    "        \n",
    "        # printing the first sub-pattern N+1 times\n",
    "        print(\"*   *\")\n",
    "        print('*   *')\n",
    "        \n",
    "        if i<N:\n",
    "            # printing the second sub-pattern N times\n",
    "            print('*****')\n",
    "        \n",
    "if __name__==\"__main__\":\n",
    "    \n",
    "    # size of the pattern\n",
    "    N = 2\n",
    "    ladder_pattern(N)"
   ]
  },
  {
   "cell_type": "code",
   "execution_count": 127,
   "metadata": {},
   "outputs": [
    {
     "name": "stdout",
     "output_type": "stream",
     "text": [
      "*\n",
      "**\n",
      "***\n",
      "****\n",
      "*****\n"
     ]
    }
   ],
   "source": [
    "# Star pattern.\n",
    "\n",
    "def star_pattern(n):\n",
    "    mylist = []\n",
    "    \n",
    "    for i in range(1, n+1):\n",
    "        mylist.append('*'*i)\n",
    "        \n",
    "    print('\\n'.join(mylist))\n",
    "    \n",
    "star_pattern(5)"
   ]
  },
  {
   "cell_type": "code",
   "execution_count": 128,
   "metadata": {},
   "outputs": [
    {
     "name": "stdout",
     "output_type": "stream",
     "text": [
      "1 \r\n",
      "1 2 \r\n",
      "1 2 3 \r\n",
      "1 2 3 4 \r\n",
      "1 2 3 4 5 \r\n"
     ]
    }
   ],
   "source": [
    "# Numbers pattern.\n",
    "\n",
    "def num_pattern(n):\n",
    "    # initializing starting number\n",
    "    num = 1\n",
    "    \n",
    "    # outer loop to handle number of rows\n",
    "    for i in range(n):     \n",
    "        # reassigning num\n",
    "        num = 1\n",
    "        \n",
    "        # inner loop to handle number of columns\n",
    "        # values changing according to outer loop\n",
    "        for j in range(i+1):\n",
    "            \n",
    "            # printing number\n",
    "            print(num, end=\" \")    \n",
    "            # incrementing number at each column\n",
    "            num += 1\n",
    "            \n",
    "        # ending line after each row\n",
    "        print('\\r')\n",
    "             \n",
    "num_pattern(5)"
   ]
  },
  {
   "cell_type": "code",
   "execution_count": 1,
   "metadata": {},
   "outputs": [
    {
     "name": "stdout",
     "output_type": "stream",
     "text": [
      "Enter number of rows: 5\n",
      "\n",
      "1 2 3 4 5 \n",
      "\n",
      "1 2 3 4 \n",
      "\n",
      "1 2 3 \n",
      "\n",
      "1 2 \n",
      "\n",
      "1 \n",
      "\n"
     ]
    }
   ],
   "source": [
    "# Inverted half pyramid pattern using numbers.\n",
    "\n",
    "rows = int(input('Enter number of rows: '))\n",
    "\n",
    "print()\n",
    "\n",
    "for i in range(rows, 0, -1):\n",
    "    \n",
    "    for j in range(1, i+1):\n",
    "        print(j, end=\" \")\n",
    "    \n",
    "    print('\\n')"
   ]
  },
  {
   "cell_type": "code",
   "execution_count": 2,
   "metadata": {},
   "outputs": [
    {
     "name": "stdout",
     "output_type": "stream",
     "text": [
      "Enter number of rows: 5\n",
      "1 \n",
      "2 3 \n",
      "4 5 6 \n",
      "7 8 9 10 \n",
      "11 12 13 14 15 \n"
     ]
    }
   ],
   "source": [
    "# Floyd's Triangle.\n",
    "\n",
    "rows = int(input('Enter number of rows: '))\n",
    "\n",
    "num = 1\n",
    "\n",
    "for i in range(1, rows+1):\n",
    "    \n",
    "    for j in range(1, i+1):\n",
    "        \n",
    "        print(num, end=\" \")\n",
    "        num += 1\n",
    "        \n",
    "    print()"
   ]
  },
  {
   "cell_type": "code",
   "execution_count": 3,
   "metadata": {},
   "outputs": [
    {
     "name": "stdout",
     "output_type": "stream",
     "text": [
      "A \r\n",
      "B C \r\n",
      "D E F \r\n",
      "G H I J \r\n",
      "K L M N O \r\n"
     ]
    }
   ],
   "source": [
    "# Alphabets pattern.\n",
    "\n",
    "def alpha_pattern(n):\n",
    "    \n",
    "    # initializing ASCII value corresponding to 'A'\n",
    "    ascii_value = 65\n",
    "    \n",
    "    # outer loop to handle number of rows\n",
    "    for i in range(n):\n",
    "        \n",
    "        # innter loop to handle number of columns\n",
    "        # values changing according to outer loop\n",
    "        for j in range(i+1):\n",
    "            \n",
    "            # explicitely converting to char\n",
    "            alphabet = chr(ascii_value)\n",
    "            \n",
    "            # printing char value\n",
    "            print(alphabet, end=\" \")\n",
    "            \n",
    "            # incrementing at each column\n",
    "            ascii_value += 1\n",
    "        \n",
    "        # incrementing at each row (try this removing the above increment)\n",
    "        #ascii_value += 1\n",
    "        \n",
    "        # ending line after each row\n",
    "        print('\\r')\n",
    "        \n",
    "\n",
    "alpha_pattern(5)"
   ]
  }
 ],
 "metadata": {
  "kernelspec": {
   "display_name": "Python 3",
   "language": "python",
   "name": "python3"
  },
  "language_info": {
   "codemirror_mode": {
    "name": "ipython",
    "version": 3
   },
   "file_extension": ".py",
   "mimetype": "text/x-python",
   "name": "python",
   "nbconvert_exporter": "python",
   "pygments_lexer": "ipython3",
   "version": "3.7.6"
  }
 },
 "nbformat": 4,
 "nbformat_minor": 4
}
